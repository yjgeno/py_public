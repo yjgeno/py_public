{
 "cells": [
  {
   "cell_type": "code",
   "execution_count": 1,
   "id": "republican-bolivia",
   "metadata": {},
   "outputs": [],
   "source": [
    "import numpy as np\n",
    "import pandas as pd\n",
    "import matplotlib.pyplot as plt\n",
    "import scanpy as sc\n",
    "from anndata import AnnData\n",
    "import anndata2ri"
   ]
  },
  {
   "cell_type": "code",
   "execution_count": 2,
   "id": "colonial-therapy",
   "metadata": {},
   "outputs": [
    {
     "name": "stderr",
     "output_type": "stream",
     "text": [
      "C:\\Users\\yjyang027\\Miniconda3\\lib\\site-packages\\rpy2\\robjects\\packages.py:366: UserWarning: The symbol 'quartz' is not in this R namespace/package.\n",
      "  warnings.warn(\n"
     ]
    }
   ],
   "source": [
    "import warnings\n",
    "anndata2ri.activate()\n",
    "%load_ext rpy2.ipython\n",
    "\n",
    "sc.settings.verbosity = 0\n",
    "warnings.filterwarnings(\"ignore\")"
   ]
  },
  {
   "cell_type": "code",
   "execution_count": 3,
   "id": "individual-collect",
   "metadata": {},
   "outputs": [],
   "source": [
    "def Xct_DB(specis = 'Human'):\n",
    "    if specis == 'mouse':\n",
    "        LR = pd.read_csv('https://raw.githubusercontent.com/yjgeno/Ligand-Receptor-Pairs/master/Mouse/Mouse-2020-Jin-LR-pairs.csv')\n",
    "    else:\n",
    "        LR = pd.read_csv('https://raw.githubusercontent.com/yjgeno/Ligand-Receptor-Pairs/master/Human/Human-2020-Jin-LR-pairs.csv')\n",
    "    receptors = LR['receptor'].str.split('_', expand=True)\n",
    "    receptors.columns = ['rec_A', 'rec_B', 'rec_C']\n",
    "    LRs = pd.concat([LR[['pathway_name', 'ligand']], receptors], axis=1)\n",
    "    del LR\n",
    "    return LRs"
   ]
  },
  {
   "cell_type": "code",
   "execution_count": 4,
   "id": "annual-courage",
   "metadata": {},
   "outputs": [
    {
     "data": {
      "text/html": [
       "<div>\n",
       "<style scoped>\n",
       "    .dataframe tbody tr th:only-of-type {\n",
       "        vertical-align: middle;\n",
       "    }\n",
       "\n",
       "    .dataframe tbody tr th {\n",
       "        vertical-align: top;\n",
       "    }\n",
       "\n",
       "    .dataframe thead th {\n",
       "        text-align: right;\n",
       "    }\n",
       "</style>\n",
       "<table border=\"1\" class=\"dataframe\">\n",
       "  <thead>\n",
       "    <tr style=\"text-align: right;\">\n",
       "      <th></th>\n",
       "      <th>pathway_name</th>\n",
       "      <th>ligand</th>\n",
       "      <th>rec_A</th>\n",
       "      <th>rec_B</th>\n",
       "      <th>rec_C</th>\n",
       "    </tr>\n",
       "  </thead>\n",
       "  <tbody>\n",
       "    <tr>\n",
       "      <th>0</th>\n",
       "      <td>TGFb</td>\n",
       "      <td>TGFB1</td>\n",
       "      <td>TGFbR1</td>\n",
       "      <td>R2</td>\n",
       "      <td>None</td>\n",
       "    </tr>\n",
       "    <tr>\n",
       "      <th>1</th>\n",
       "      <td>TGFb</td>\n",
       "      <td>TGFB2</td>\n",
       "      <td>TGFbR1</td>\n",
       "      <td>R2</td>\n",
       "      <td>None</td>\n",
       "    </tr>\n",
       "    <tr>\n",
       "      <th>2</th>\n",
       "      <td>TGFb</td>\n",
       "      <td>TGFB3</td>\n",
       "      <td>TGFbR1</td>\n",
       "      <td>R2</td>\n",
       "      <td>None</td>\n",
       "    </tr>\n",
       "    <tr>\n",
       "      <th>3</th>\n",
       "      <td>TGFb</td>\n",
       "      <td>TGFB1</td>\n",
       "      <td>ACVR1B</td>\n",
       "      <td>TGFbR2</td>\n",
       "      <td>None</td>\n",
       "    </tr>\n",
       "    <tr>\n",
       "      <th>4</th>\n",
       "      <td>TGFb</td>\n",
       "      <td>TGFB1</td>\n",
       "      <td>ACVR1C</td>\n",
       "      <td>TGFbR2</td>\n",
       "      <td>None</td>\n",
       "    </tr>\n",
       "    <tr>\n",
       "      <th>...</th>\n",
       "      <td>...</td>\n",
       "      <td>...</td>\n",
       "      <td>...</td>\n",
       "      <td>...</td>\n",
       "      <td>...</td>\n",
       "    </tr>\n",
       "    <tr>\n",
       "      <th>2000</th>\n",
       "      <td>TIGIT</td>\n",
       "      <td>TIGIT</td>\n",
       "      <td>MGI:107741</td>\n",
       "      <td>None</td>\n",
       "      <td>None</td>\n",
       "    </tr>\n",
       "    <tr>\n",
       "      <th>2001</th>\n",
       "      <td>VCAM</td>\n",
       "      <td>ITGA4_ITGB1</td>\n",
       "      <td>VCAM1</td>\n",
       "      <td>None</td>\n",
       "      <td>None</td>\n",
       "    </tr>\n",
       "    <tr>\n",
       "      <th>2002</th>\n",
       "      <td>VCAM</td>\n",
       "      <td>ITGA9_ITGB1</td>\n",
       "      <td>VCAM1</td>\n",
       "      <td>None</td>\n",
       "      <td>None</td>\n",
       "    </tr>\n",
       "    <tr>\n",
       "      <th>2003</th>\n",
       "      <td>VCAM</td>\n",
       "      <td>ITGA4_ITGB7</td>\n",
       "      <td>VCAM1</td>\n",
       "      <td>None</td>\n",
       "      <td>None</td>\n",
       "    </tr>\n",
       "    <tr>\n",
       "      <th>2004</th>\n",
       "      <td>VISTA</td>\n",
       "      <td>VSIR</td>\n",
       "      <td>IGSF11</td>\n",
       "      <td>None</td>\n",
       "      <td>None</td>\n",
       "    </tr>\n",
       "  </tbody>\n",
       "</table>\n",
       "<p>2005 rows × 5 columns</p>\n",
       "</div>"
      ],
      "text/plain": [
       "     pathway_name       ligand       rec_A   rec_B rec_C\n",
       "0            TGFb        TGFB1      TGFbR1      R2  None\n",
       "1            TGFb        TGFB2      TGFbR1      R2  None\n",
       "2            TGFb        TGFB3      TGFbR1      R2  None\n",
       "3            TGFb        TGFB1      ACVR1B  TGFbR2  None\n",
       "4            TGFb        TGFB1      ACVR1C  TGFbR2  None\n",
       "...           ...          ...         ...     ...   ...\n",
       "2000        TIGIT        TIGIT  MGI:107741    None  None\n",
       "2001         VCAM  ITGA4_ITGB1       VCAM1    None  None\n",
       "2002         VCAM  ITGA9_ITGB1       VCAM1    None  None\n",
       "2003         VCAM  ITGA4_ITGB7       VCAM1    None  None\n",
       "2004        VISTA         VSIR      IGSF11    None  None\n",
       "\n",
       "[2005 rows x 5 columns]"
      ]
     },
     "execution_count": 4,
     "metadata": {},
     "output_type": "execute_result"
    }
   ],
   "source": [
    "LRs = Xct_DB()\n",
    "LRs"
   ]
  },
  {
   "cell_type": "code",
   "execution_count": 5,
   "id": "departmental-tradition",
   "metadata": {
    "scrolled": true
   },
   "outputs": [],
   "source": [
    "LR = pd.read_csv('https://raw.githubusercontent.com/yjgeno/Ligand-Receptor-Pairs/master/Human/Human-2020-Jin-LR-pairs.csv')\n",
    "#LR.head()"
   ]
  },
  {
   "cell_type": "code",
   "execution_count": 6,
   "id": "moderate-being",
   "metadata": {},
   "outputs": [
    {
     "data": {
      "text/plain": [
       "(2005, 11)"
      ]
     },
     "execution_count": 6,
     "metadata": {},
     "output_type": "execute_result"
    }
   ],
   "source": [
    "LR.shape"
   ]
  },
  {
   "cell_type": "code",
   "execution_count": 7,
   "id": "humanitarian-estate",
   "metadata": {},
   "outputs": [],
   "source": [
    "receptors = LR['receptor'].str.split('_', expand=True)\n",
    "receptors.columns = ['rec_A', 'rec_B', 'rec_C']"
   ]
  },
  {
   "cell_type": "code",
   "execution_count": 8,
   "id": "functional-quality",
   "metadata": {},
   "outputs": [
    {
     "data": {
      "text/html": [
       "<div>\n",
       "<style scoped>\n",
       "    .dataframe tbody tr th:only-of-type {\n",
       "        vertical-align: middle;\n",
       "    }\n",
       "\n",
       "    .dataframe tbody tr th {\n",
       "        vertical-align: top;\n",
       "    }\n",
       "\n",
       "    .dataframe thead th {\n",
       "        text-align: right;\n",
       "    }\n",
       "</style>\n",
       "<table border=\"1\" class=\"dataframe\">\n",
       "  <thead>\n",
       "    <tr style=\"text-align: right;\">\n",
       "      <th></th>\n",
       "      <th>pathway_name</th>\n",
       "      <th>ligand</th>\n",
       "      <th>rec_A</th>\n",
       "      <th>rec_B</th>\n",
       "      <th>rec_C</th>\n",
       "    </tr>\n",
       "  </thead>\n",
       "  <tbody>\n",
       "    <tr>\n",
       "      <th>0</th>\n",
       "      <td>TGFb</td>\n",
       "      <td>TGFB1</td>\n",
       "      <td>TGFbR1</td>\n",
       "      <td>R2</td>\n",
       "      <td>None</td>\n",
       "    </tr>\n",
       "    <tr>\n",
       "      <th>1</th>\n",
       "      <td>TGFb</td>\n",
       "      <td>TGFB2</td>\n",
       "      <td>TGFbR1</td>\n",
       "      <td>R2</td>\n",
       "      <td>None</td>\n",
       "    </tr>\n",
       "    <tr>\n",
       "      <th>2</th>\n",
       "      <td>TGFb</td>\n",
       "      <td>TGFB3</td>\n",
       "      <td>TGFbR1</td>\n",
       "      <td>R2</td>\n",
       "      <td>None</td>\n",
       "    </tr>\n",
       "    <tr>\n",
       "      <th>3</th>\n",
       "      <td>TGFb</td>\n",
       "      <td>TGFB1</td>\n",
       "      <td>ACVR1B</td>\n",
       "      <td>TGFbR2</td>\n",
       "      <td>None</td>\n",
       "    </tr>\n",
       "    <tr>\n",
       "      <th>4</th>\n",
       "      <td>TGFb</td>\n",
       "      <td>TGFB1</td>\n",
       "      <td>ACVR1C</td>\n",
       "      <td>TGFbR2</td>\n",
       "      <td>None</td>\n",
       "    </tr>\n",
       "  </tbody>\n",
       "</table>\n",
       "</div>"
      ],
      "text/plain": [
       "  pathway_name ligand   rec_A   rec_B rec_C\n",
       "0         TGFb  TGFB1  TGFbR1      R2  None\n",
       "1         TGFb  TGFB2  TGFbR1      R2  None\n",
       "2         TGFb  TGFB3  TGFbR1      R2  None\n",
       "3         TGFb  TGFB1  ACVR1B  TGFbR2  None\n",
       "4         TGFb  TGFB1  ACVR1C  TGFbR2  None"
      ]
     },
     "execution_count": 8,
     "metadata": {},
     "output_type": "execute_result"
    }
   ],
   "source": [
    "LRs = pd.concat([LR[['pathway_name', 'ligand']], receptors], axis=1)\n",
    "LRs.head()"
   ]
  },
  {
   "cell_type": "code",
   "execution_count": 9,
   "id": "cloudy-steel",
   "metadata": {},
   "outputs": [],
   "source": [
    "#iFIB[:, iFIB.var_names.isin(['CXCL12'])].shape"
   ]
  },
  {
   "cell_type": "code",
   "execution_count": 10,
   "id": "embedded-astrology",
   "metadata": {},
   "outputs": [
    {
     "name": "stderr",
     "output_type": "stream",
     "text": [
      "R[write to console]: Attaching SeuratObject\n",
      "\n"
     ]
    }
   ],
   "source": [
    "%%R\n",
    "\n",
    "library(Seurat)"
   ]
  },
  {
   "cell_type": "code",
   "execution_count": 11,
   "id": "nervous-hungarian",
   "metadata": {},
   "outputs": [],
   "source": [
    "%%R\n",
    "\n",
    "load(url(\"https://ndownloader.figshare.com/files/25950872\")) \n",
    "data.input = data_humanSkin$data # input normalized data matrix\n",
    "meta = data_humanSkin$meta # a dataframe of cell metadata"
   ]
  },
  {
   "cell_type": "code",
   "execution_count": 12,
   "id": "contained-cambodia",
   "metadata": {},
   "outputs": [],
   "source": [
    "%%R -o labels\n",
    "\n",
    "cell.use = rownames(meta)[meta$condition == \"LS\"] # extract the cell names from disease data\n",
    "data.input = data.input[, cell.use]\n",
    "meta = meta[cell.use, ]\n",
    "labels <- as.vector(meta$labels)\n",
    "#unique(meta$labels) # check the cell labels"
   ]
  },
  {
   "cell_type": "code",
   "execution_count": 13,
   "id": "utility-honduras",
   "metadata": {},
   "outputs": [
    {
     "data": {
      "image/png": "[encoded data removed]"
     },
     "metadata": {},
     "output_type": "display_data"
    }
   ],
   "source": [
    "%%R \n",
    "\n",
    "set.seed(42)\n",
    "LS <- CreateSeuratObject(data.input, project = 'LS', meta.data = meta)\n",
    "Idents(LS) <- LS$labels\n",
    "LS <- FindVariableFeatures(LS, nfeatures=3000, verbose = F)\n",
    "LS <- ScaleData(LS, verbose = F) \n",
    "LS <- RunPCA(LS, verbose = F)\n",
    "LS <- RunTSNE(LS)\n",
    "TSNEPlot(LS)\n",
    "#VariableFeaturePlot(object = LS)"
   ]
  },
  {
   "cell_type": "code",
   "execution_count": 14,
   "id": "excellent-stomach",
   "metadata": {},
   "outputs": [
    {
     "name": "stderr",
     "output_type": "stream",
     "text": [
      "R[write to console]: When using repel, set xnudge and ynudge to 0 for optimal results\n",
      "\n"
     ]
    },
    {
     "data": {
      "image/png": "[encoded data removed]"
     },
     "metadata": {},
     "output_type": "display_data"
    }
   ],
   "source": [
    "%%R\n",
    "top <- head(VariableFeatures(LS), 50)\n",
    "#png('HVG_examples.png', width = 4000, height = 4000, res = 300)\n",
    "plot1 <- VariableFeaturePlot(object = LS)\n",
    "LabelPoints(plot = plot1, points = c('WNT10A', 'FZD4'), repel = TRUE, xnudge=0.3, ynudge=0.5, max.overlaps = Inf)\n",
    "\n",
    "#CombinePlots(plots = list(plot1, plot2))\n",
    "#dev.off()"
   ]
  },
  {
   "cell_type": "code",
   "execution_count": 15,
   "id": "generous-timber",
   "metadata": {},
   "outputs": [],
   "source": [
    "%%R -o counts -o HVGenes -o Genes -o Cells\n",
    "\n",
    "counts <- GetAssayData(LS, slot = 'data')\n",
    "Genes <- rownames(counts)\n",
    "HVGenes <- rownames(GetAssayData(LS, slot = 'scale.data'))\n",
    "Cells <- colnames(counts)\n"
   ]
  },
  {
   "cell_type": "code",
   "execution_count": 16,
   "id": "varying-tribune",
   "metadata": {},
   "outputs": [],
   "source": [
    "from scipy.sparse import csr_matrix\n",
    "counts = csr_matrix.toarray(counts)"
   ]
  },
  {
   "cell_type": "code",
   "execution_count": 17,
   "id": "accomplished-subcommittee",
   "metadata": {},
   "outputs": [
    {
     "data": {
      "text/plain": [
       "(17328, 5011)"
      ]
     },
     "execution_count": 17,
     "metadata": {},
     "output_type": "execute_result"
    }
   ],
   "source": [
    "counts.shape"
   ]
  },
  {
   "cell_type": "markdown",
   "id": "generous-marijuana",
   "metadata": {},
   "source": [
    "### log data"
   ]
  },
  {
   "cell_type": "code",
   "execution_count": 18,
   "id": "vanilla-payroll",
   "metadata": {},
   "outputs": [
    {
     "data": {
      "text/plain": [
       "AnnData object with n_obs × n_vars = 5011 × 3000\n",
       "    obs: 'barcodes', 'ident'\n",
       "    var: 'gene_symbols'"
      ]
     },
     "execution_count": 18,
     "metadata": {},
     "output_type": "execute_result"
    }
   ],
   "source": [
    "ada = AnnData(counts.T)\n",
    "ada.obs['barcodes'] = np.array(Cells)\n",
    "ada.obs['ident'] = np.array(labels)\n",
    "ada.var['gene_symbols'] = np.array(Genes)\n",
    "\n",
    "ada.obs_names = ada.obs['barcodes']\n",
    "ada.var_names = ada.var['gene_symbols']\n",
    "#print(ada.isview)\n",
    "ada = ada[:, ada.var_names.isin(HVGenes)].copy() #Not ArrayView\n",
    "\n",
    "ada"
   ]
  },
  {
   "cell_type": "markdown",
   "id": "efficient-inspiration",
   "metadata": {},
   "source": [
    "### Xct"
   ]
  },
  {
   "cell_type": "code",
   "execution_count": 19,
   "id": "following-briefing",
   "metadata": {},
   "outputs": [
    {
     "data": {
      "text/plain": [
       "array(['Inflam. FIB', 'FBN1+ FIB', 'APOE+ FIB', 'COL11A1+ FIB', 'cDC2',\n",
       "       'LC', 'Inflam. DC', 'cDC1', 'CD40LG+ TC', 'Inflam. TC', 'TC',\n",
       "       'NKT'], dtype=object)"
      ]
     },
     "execution_count": 19,
     "metadata": {},
     "output_type": "execute_result"
    }
   ],
   "source": [
    "ada.obs['ident'].unique()"
   ]
  },
  {
   "cell_type": "code",
   "execution_count": 20,
   "id": "cognitive-controversy",
   "metadata": {},
   "outputs": [],
   "source": [
    "CellA = 'Inflam. FIB'\n",
    "CellB = 'Inflam. DC'"
   ]
  },
  {
   "cell_type": "code",
   "execution_count": 21,
   "id": "minimal-miniature",
   "metadata": {},
   "outputs": [],
   "source": [
    "def Xct_init(ada, CellA, CellB, DB, verbose = False):\n",
    "    result = {}\n",
    "    AB = ada[ada.obs['ident'].isin([CellA, CellB]), :]\n",
    "    A = AB[AB.obs['ident'] == CellA, :]\n",
    "    B = AB[AB.obs['ident'] == CellB, :]\n",
    "    \n",
    "    l_exp = []\n",
    "    l_var = []\n",
    "    for l in DB['ligand']:\n",
    "        if l not in np.array(A.var_names):\n",
    "            l_exp.append(np.nan)\n",
    "            l_var.append(np.nan)\n",
    "        else:\n",
    "            l_exp.append(np.mean(A[:, A.var_names.isin([l])].X))\n",
    "            l_var.append(np.var(A[:, A.var_names.isin([l])].X))\n",
    "    result['l_exp'] = l_exp\n",
    "    result['l_var'] = l_var\n",
    "    \n",
    "    for rec in ['rec_A', 'rec_B', 'rec_C']:\n",
    "        r_exp = []\n",
    "        r_var = []\n",
    "        for r in DB[rec]:\n",
    "            if r not in np.array(B.var_names):\n",
    "                r_exp.append(np.nan)\n",
    "                r_var.append(np.nan)\n",
    "            else:\n",
    "                r_exp.append(np.mean(B[:, B.var_names.isin([r])].X)) #mean expression of L and R\n",
    "                r_var.append(np.var(B[:, B.var_names.isin([r])].X))\n",
    "        result['{}_exp'.format(rec)] = r_exp\n",
    "        result['{}_var'.format(rec)] = r_var\n",
    "    print(result.keys())\n",
    "\n",
    "    LRs_Xct = DB.copy() \n",
    "    LRs_Xct = pd.concat([LRs_Xct, pd.DataFrame.from_dict(result)], axis=1)\n",
    "    mask1 = np.invert(LRs_Xct[['l_exp', 'rec_A_exp']].isna().any(axis=1)) # remove NA\n",
    "    mask2 = (LRs_Xct['l_exp'] > 0) & (LRs_Xct['rec_A_exp'] > 0) # remove 0 for original LR\n",
    "    LRs_Xct = LRs_Xct[mask1 & mask2]\n",
    "    if verbose:\n",
    "        print('Selected {} LR pairs'.format(LRs_Xct.shape[0]))\n",
    "\n",
    "    #LRs_Xct['rec_exp'] = LRs_Xct[['rec_A_exp', 'rec_B_exp', 'rec_C_exp']].max(axis=1) #mean for R\n",
    "    #LRs_Xct['rec_var'] = LRs_Xct[['rec_A_var', 'rec_B_var', 'rec_C_var']].max(axis=1) #var for R\n",
    "\n",
    "    return LRs_Xct\n",
    "    "
   ]
  },
  {
   "cell_type": "code",
   "execution_count": 22,
   "id": "banned-mailing",
   "metadata": {},
   "outputs": [],
   "source": [
    "def Xct_pmt(ada, CellA, CellB, Ref, verbose = False):\n",
    "    result = {}\n",
    "    AB = ada[ada.obs['ident'].isin([CellA, CellB]), :]\n",
    "    \n",
    "    #np.random.seed(42)\n",
    "    labels_pmt = np.random.permutation(AB.obs['ident'])\n",
    "    AB.obs['ident'] = labels_pmt\n",
    "    if verbose:\n",
    "        print('Cell A and B permutated')\n",
    "    #print(AB.obs['ident'][:30].unique(), AB.obs['ident'][-30:].unique()) #check\n",
    "            \n",
    "    A = AB[AB.obs['ident'] == CellA, :]\n",
    "    B = AB[AB.obs['ident'] == CellB, :]\n",
    "    #print(A.shape, B.shape)\n",
    "   \n",
    "    l_exp = []\n",
    "    l_var = []\n",
    "    for l in Ref['ligand']:\n",
    "        if l not in np.array(A.var_names):\n",
    "            l_exp.append(0)\n",
    "            l_var.append(0)\n",
    "        else:\n",
    "            l_exp.append(np.mean(A[:, A.var_names.isin([l])].X))\n",
    "            l_var.append(np.var(A[:, A.var_names.isin([l])].X))\n",
    "    result['l_exp'] = l_exp\n",
    "    result['l_var'] = l_var\n",
    "    \n",
    "    for rec in ['rec_A', 'rec_B', 'rec_C']:\n",
    "        r_exp = []\n",
    "        r_var = []\n",
    "        for r in Ref[rec]:\n",
    "            if r not in np.array(B.var_names):\n",
    "                r_exp.append(0)\n",
    "                r_var.append(0)\n",
    "            else:\n",
    "                r_exp.append(np.mean(B[:, B.var_names.isin([r])].X)) #mean expression of L and R\n",
    "                r_var.append(np.var(B[:, B.var_names.isin([r])].X))\n",
    "        result['{}_exp'.format(rec)] = r_exp\n",
    "        result['{}_var'.format(rec)] = r_var\n",
    "    #print(result.keys()) \n",
    "    result = pd.DataFrame.from_dict(result)\n",
    "    assert len(result) == len(Ref)\n",
    "    return result\n",
    "  "
   ]
  },
  {
   "cell_type": "code",
   "execution_count": 23,
   "id": "limiting-anthony",
   "metadata": {},
   "outputs": [],
   "source": [
    "def Xct_Score(df, method = 0):\n",
    "    lig = ['l_exp', 'l_var']\n",
    "    rec = ['rec_A_exp', 'rec_B_exp', 'rec_C_exp', 'rec_A_var', 'rec_B_var', 'rec_C_var']\n",
    "    if set(rec).issubset(df.columns):\n",
    "        exp_R = np.array(df[rec[:3]].max(axis=1)) #mean for R\n",
    "        var_R = np.array(df[rec[3:]].max(axis=1)) #var for R\n",
    "        exp_L = np.array(df[lig[0]])\n",
    "        var_L = np.array(df[lig[1]])\n",
    "        if method == 0:\n",
    "            S = exp_L * exp_R        \n",
    "        elif method == 1:\n",
    "            S = (exp_L**2 + var_L)*(exp_R**2 + var_R)\n",
    "        \n",
    "        return S\n",
    "    else:\n",
    "        print('No columns for all receptors')"
   ]
  },
  {
   "cell_type": "code",
   "execution_count": 24,
   "id": "chief-aruba",
   "metadata": {},
   "outputs": [],
   "source": [
    "def Xct_Scores(ada, CellA, CellB, LRs_ref, s = 0, n = 100): #s: score method, permute n times\n",
    "    scores = []\n",
    "    for _ in range(n):\n",
    "        LRs_pmt = Xct_pmt(ada, CellA, CellB, Ref = LRs_ref, verbose = False)\n",
    "        scores.append(Xct_Score(df = LRs_pmt, method = s))\n",
    "\n",
    "    assert all(len(i) == len(LRs_ref) for i in scores) #check if equal len of ref LR pairs\n",
    "    return np.array(scores).T  #transpose for further looping"
   ]
  },
  {
   "cell_type": "code",
   "execution_count": 25,
   "id": "soviet-negotiation",
   "metadata": {},
   "outputs": [],
   "source": [
    "def Xct_PermuTest(orig_score, scores, p = 0.05):\n",
    "    enriched_i = []\n",
    "    pvals = []\n",
    "    counts = []\n",
    "    for i, dist in enumerate(scores):\n",
    "        count = sum(orig_score[i] > value for value in dist)\n",
    "        pval = 1- count/len(dist)\n",
    "        pvals.append(pval)\n",
    "        counts.append(count)\n",
    "        \n",
    "        if pval < p:\n",
    "            enriched_i.append(i)           \n",
    "    \n",
    "    return enriched_i, pvals, counts"
   ]
  },
  {
   "cell_type": "code",
   "execution_count": 26,
   "id": "deadly-animation",
   "metadata": {},
   "outputs": [
    {
     "name": "stdout",
     "output_type": "stream",
     "text": [
      "dict_keys(['l_exp', 'l_var', 'rec_A_exp', 'rec_A_var', 'rec_B_exp', 'rec_B_var', 'rec_C_exp', 'rec_C_var'])\n",
      "Selected 14 LR pairs\n"
     ]
    },
    {
     "data": {
      "text/html": [
       "<div>\n",
       "<style scoped>\n",
       "    .dataframe tbody tr th:only-of-type {\n",
       "        vertical-align: middle;\n",
       "    }\n",
       "\n",
       "    .dataframe tbody tr th {\n",
       "        vertical-align: top;\n",
       "    }\n",
       "\n",
       "    .dataframe thead th {\n",
       "        text-align: right;\n",
       "    }\n",
       "</style>\n",
       "<table border=\"1\" class=\"dataframe\">\n",
       "  <thead>\n",
       "    <tr style=\"text-align: right;\">\n",
       "      <th></th>\n",
       "      <th>pathway_name</th>\n",
       "      <th>ligand</th>\n",
       "      <th>rec_A</th>\n",
       "      <th>rec_B</th>\n",
       "      <th>rec_C</th>\n",
       "      <th>l_exp</th>\n",
       "      <th>l_var</th>\n",
       "      <th>rec_A_exp</th>\n",
       "      <th>rec_A_var</th>\n",
       "      <th>rec_B_exp</th>\n",
       "      <th>rec_B_var</th>\n",
       "      <th>rec_C_exp</th>\n",
       "      <th>rec_C_var</th>\n",
       "    </tr>\n",
       "  </thead>\n",
       "  <tbody>\n",
       "    <tr>\n",
       "      <th>93</th>\n",
       "      <td>GDF</td>\n",
       "      <td>GDF10</td>\n",
       "      <td>ACVR1B</td>\n",
       "      <td>ACVR2A</td>\n",
       "      <td>None</td>\n",
       "      <td>0.003259453</td>\n",
       "      <td>0.0051314095</td>\n",
       "      <td>0.030192526</td>\n",
       "      <td>0.07292709</td>\n",
       "      <td>0.09422065</td>\n",
       "      <td>0.17683919</td>\n",
       "      <td>NaN</td>\n",
       "      <td>NaN</td>\n",
       "    </tr>\n",
       "    <tr>\n",
       "      <th>96</th>\n",
       "      <td>GDF</td>\n",
       "      <td>GDF11</td>\n",
       "      <td>ACVR1B</td>\n",
       "      <td>ACVR2B</td>\n",
       "      <td>None</td>\n",
       "      <td>0.025238533</td>\n",
       "      <td>0.06397318</td>\n",
       "      <td>0.030192526</td>\n",
       "      <td>0.07292709</td>\n",
       "      <td>NaN</td>\n",
       "      <td>NaN</td>\n",
       "      <td>NaN</td>\n",
       "      <td>NaN</td>\n",
       "    </tr>\n",
       "    <tr>\n",
       "      <th>121</th>\n",
       "      <td>ACTIVIN</td>\n",
       "      <td>INHBA</td>\n",
       "      <td>ACVR1B</td>\n",
       "      <td>ACVR2A</td>\n",
       "      <td>None</td>\n",
       "      <td>0.04554484</td>\n",
       "      <td>0.08360612</td>\n",
       "      <td>0.030192526</td>\n",
       "      <td>0.07292709</td>\n",
       "      <td>0.09422065</td>\n",
       "      <td>0.17683919</td>\n",
       "      <td>NaN</td>\n",
       "      <td>NaN</td>\n",
       "    </tr>\n",
       "    <tr>\n",
       "      <th>122</th>\n",
       "      <td>ACTIVIN</td>\n",
       "      <td>INHBA</td>\n",
       "      <td>ACVR1B</td>\n",
       "      <td>ACVR2B</td>\n",
       "      <td>None</td>\n",
       "      <td>0.04554484</td>\n",
       "      <td>0.08360612</td>\n",
       "      <td>0.030192526</td>\n",
       "      <td>0.07292709</td>\n",
       "      <td>NaN</td>\n",
       "      <td>NaN</td>\n",
       "      <td>NaN</td>\n",
       "      <td>NaN</td>\n",
       "    </tr>\n",
       "    <tr>\n",
       "      <th>645</th>\n",
       "      <td>CCL</td>\n",
       "      <td>CCL19</td>\n",
       "      <td>CCR7</td>\n",
       "      <td>None</td>\n",
       "      <td>None</td>\n",
       "      <td>1.7382643</td>\n",
       "      <td>5.539186</td>\n",
       "      <td>1.6885129</td>\n",
       "      <td>1.9415792</td>\n",
       "      <td>NaN</td>\n",
       "      <td>NaN</td>\n",
       "      <td>NaN</td>\n",
       "      <td>NaN</td>\n",
       "    </tr>\n",
       "  </tbody>\n",
       "</table>\n",
       "</div>"
      ],
      "text/plain": [
       "    pathway_name ligand   rec_A   rec_B rec_C        l_exp         l_var  \\\n",
       "93           GDF  GDF10  ACVR1B  ACVR2A  None  0.003259453  0.0051314095   \n",
       "96           GDF  GDF11  ACVR1B  ACVR2B  None  0.025238533    0.06397318   \n",
       "121      ACTIVIN  INHBA  ACVR1B  ACVR2A  None   0.04554484    0.08360612   \n",
       "122      ACTIVIN  INHBA  ACVR1B  ACVR2B  None   0.04554484    0.08360612   \n",
       "645          CCL  CCL19    CCR7    None  None    1.7382643      5.539186   \n",
       "\n",
       "       rec_A_exp   rec_A_var   rec_B_exp   rec_B_var rec_C_exp rec_C_var  \n",
       "93   0.030192526  0.07292709  0.09422065  0.17683919       NaN       NaN  \n",
       "96   0.030192526  0.07292709         NaN         NaN       NaN       NaN  \n",
       "121  0.030192526  0.07292709  0.09422065  0.17683919       NaN       NaN  \n",
       "122  0.030192526  0.07292709         NaN         NaN       NaN       NaN  \n",
       "645    1.6885129   1.9415792         NaN         NaN       NaN       NaN  "
      ]
     },
     "execution_count": 26,
     "metadata": {},
     "output_type": "execute_result"
    }
   ],
   "source": [
    "LRs_ref = Xct_init(ada, CellA, CellB, DB = LRs, verbose = True)\n",
    "LRs_ref.head()"
   ]
  },
  {
   "cell_type": "code",
   "execution_count": 27,
   "id": "romance-porter",
   "metadata": {},
   "outputs": [
    {
     "name": "stderr",
     "output_type": "stream",
     "text": [
      "Trying to set attribute `.obs` of view, copying.\n"
     ]
    },
    {
     "data": {
      "text/html": [
       "<div>\n",
       "<style scoped>\n",
       "    .dataframe tbody tr th:only-of-type {\n",
       "        vertical-align: middle;\n",
       "    }\n",
       "\n",
       "    .dataframe tbody tr th {\n",
       "        vertical-align: top;\n",
       "    }\n",
       "\n",
       "    .dataframe thead th {\n",
       "        text-align: right;\n",
       "    }\n",
       "</style>\n",
       "<table border=\"1\" class=\"dataframe\">\n",
       "  <thead>\n",
       "    <tr style=\"text-align: right;\">\n",
       "      <th></th>\n",
       "      <th>l_exp</th>\n",
       "      <th>l_var</th>\n",
       "      <th>rec_A_exp</th>\n",
       "      <th>rec_A_var</th>\n",
       "      <th>rec_B_exp</th>\n",
       "      <th>rec_B_var</th>\n",
       "      <th>rec_C_exp</th>\n",
       "      <th>rec_C_var</th>\n",
       "    </tr>\n",
       "  </thead>\n",
       "  <tbody>\n",
       "    <tr>\n",
       "      <th>0</th>\n",
       "      <td>0.0</td>\n",
       "      <td>0.0</td>\n",
       "      <td>0.023697145</td>\n",
       "      <td>0.044924363</td>\n",
       "      <td>0.09183571</td>\n",
       "      <td>0.16762681</td>\n",
       "      <td>0</td>\n",
       "      <td>0</td>\n",
       "    </tr>\n",
       "    <tr>\n",
       "      <th>1</th>\n",
       "      <td>0.025238533</td>\n",
       "      <td>0.06397318</td>\n",
       "      <td>0.023697145</td>\n",
       "      <td>0.044924363</td>\n",
       "      <td>0</td>\n",
       "      <td>0</td>\n",
       "      <td>0</td>\n",
       "      <td>0</td>\n",
       "    </tr>\n",
       "    <tr>\n",
       "      <th>2</th>\n",
       "      <td>0.12381514</td>\n",
       "      <td>0.3004283</td>\n",
       "      <td>0.023697145</td>\n",
       "      <td>0.044924363</td>\n",
       "      <td>0.09183571</td>\n",
       "      <td>0.16762681</td>\n",
       "      <td>0</td>\n",
       "      <td>0</td>\n",
       "    </tr>\n",
       "    <tr>\n",
       "      <th>3</th>\n",
       "      <td>0.12381514</td>\n",
       "      <td>0.3004283</td>\n",
       "      <td>0.023697145</td>\n",
       "      <td>0.044924363</td>\n",
       "      <td>0</td>\n",
       "      <td>0</td>\n",
       "      <td>0</td>\n",
       "      <td>0</td>\n",
       "    </tr>\n",
       "    <tr>\n",
       "      <th>4</th>\n",
       "      <td>1.5131633</td>\n",
       "      <td>5.061634</td>\n",
       "      <td>0.27408552</td>\n",
       "      <td>0.6624718</td>\n",
       "      <td>0</td>\n",
       "      <td>0</td>\n",
       "      <td>0</td>\n",
       "      <td>0</td>\n",
       "    </tr>\n",
       "  </tbody>\n",
       "</table>\n",
       "</div>"
      ],
      "text/plain": [
       "         l_exp       l_var    rec_A_exp    rec_A_var   rec_B_exp   rec_B_var  \\\n",
       "0          0.0         0.0  0.023697145  0.044924363  0.09183571  0.16762681   \n",
       "1  0.025238533  0.06397318  0.023697145  0.044924363           0           0   \n",
       "2   0.12381514   0.3004283  0.023697145  0.044924363  0.09183571  0.16762681   \n",
       "3   0.12381514   0.3004283  0.023697145  0.044924363           0           0   \n",
       "4    1.5131633    5.061634   0.27408552    0.6624718           0           0   \n",
       "\n",
       "   rec_C_exp  rec_C_var  \n",
       "0          0          0  \n",
       "1          0          0  \n",
       "2          0          0  \n",
       "3          0          0  \n",
       "4          0          0  "
      ]
     },
     "execution_count": 27,
     "metadata": {},
     "output_type": "execute_result"
    }
   ],
   "source": [
    "LRs_pmt = Xct_pmt(ada, CellA, CellB, Ref = LRs_ref, verbose = False)\n",
    "LRs_pmt.head()"
   ]
  },
  {
   "cell_type": "code",
   "execution_count": 43,
   "id": "quantitative-addiction",
   "metadata": {},
   "outputs": [
    {
     "data": {
      "text/plain": [
       "array([ArrayView(0.00030711), ArrayView(0.00076202),\n",
       "       ArrayView(0.00429126), ArrayView(0.00137511),\n",
       "       ArrayView(2.93508177), ArrayView(0.08582168),\n",
       "       ArrayView(1.93340975), ArrayView(0.00116124),\n",
       "       ArrayView(0.00203294), ArrayView(0.00022944),\n",
       "       ArrayView(0.00304068), ArrayView(0.01618934), ArrayView(0.0054117),\n",
       "       ArrayView(0.00059757)], dtype=object)"
      ]
     },
     "execution_count": 43,
     "metadata": {},
     "output_type": "execute_result"
    }
   ],
   "source": [
    "orig_Scores = Xct_Score(df = LRs_ref)\n",
    "orig_Scores"
   ]
  },
  {
   "cell_type": "code",
   "execution_count": 44,
   "id": "architectural-drill",
   "metadata": {},
   "outputs": [
    {
     "data": {
      "text/plain": [
       "array([ArrayView(0.), ArrayView(0.00059808), ArrayView(0.01137065),\n",
       "       ArrayView(0.00293407), ArrayView(0.41473616),\n",
       "       ArrayView(0.01211441), ArrayView(0.1445426), ArrayView(0.00711147),\n",
       "       ArrayView(0.00046756), ArrayView(0.00355359),\n",
       "       ArrayView(0.00306089), ArrayView(0.01537586),\n",
       "       ArrayView(0.00523183), ArrayView(0.00069809)], dtype=object)"
      ]
     },
     "execution_count": 44,
     "metadata": {},
     "output_type": "execute_result"
    }
   ],
   "source": [
    "pmt_Scores = Xct_Score(df = LRs_pmt)\n",
    "pmt_Scores"
   ]
  },
  {
   "cell_type": "code",
   "execution_count": null,
   "id": "blond-seeking",
   "metadata": {},
   "outputs": [],
   "source": []
  },
  {
   "cell_type": "code",
   "execution_count": 30,
   "id": "novel-tonight",
   "metadata": {},
   "outputs": [
    {
     "name": "stderr",
     "output_type": "stream",
     "text": [
      "Trying to set attribute `.obs` of view, copying.\n",
      "Trying to set attribute `.obs` of view, copying.\n",
      "Trying to set attribute `.obs` of view, copying.\n",
      "Trying to set attribute `.obs` of view, copying.\n",
      "Trying to set attribute `.obs` of view, copying.\n",
      "Trying to set attribute `.obs` of view, copying.\n",
      "Trying to set attribute `.obs` of view, copying.\n",
      "Trying to set attribute `.obs` of view, copying.\n",
      "Trying to set attribute `.obs` of view, copying.\n",
      "Trying to set attribute `.obs` of view, copying.\n"
     ]
    },
    {
     "data": {
      "text/plain": [
       "(14, 10)"
      ]
     },
     "execution_count": 30,
     "metadata": {},
     "output_type": "execute_result"
    }
   ],
   "source": [
    "Scores = Xct_Scores(ada, CellA, CellB, LRs_ref = LRs_ref, n=10)\n",
    "Scores.shape"
   ]
  },
  {
   "cell_type": "code",
   "execution_count": 31,
   "id": "published-surfing",
   "metadata": {},
   "outputs": [
    {
     "data": {
      "text/plain": [
       "[4, 5, 6, 8]"
      ]
     },
     "execution_count": 31,
     "metadata": {},
     "output_type": "execute_result"
    }
   ],
   "source": [
    "enriched, pvals, counts = Xct_PermuTest(orig_Scores, Scores)\n",
    "enriched"
   ]
  },
  {
   "cell_type": "code",
   "execution_count": 32,
   "id": "limited-volume",
   "metadata": {},
   "outputs": [
    {
     "data": {
      "text/html": [
       "<div>\n",
       "<style scoped>\n",
       "    .dataframe tbody tr th:only-of-type {\n",
       "        vertical-align: middle;\n",
       "    }\n",
       "\n",
       "    .dataframe tbody tr th {\n",
       "        vertical-align: top;\n",
       "    }\n",
       "\n",
       "    .dataframe thead th {\n",
       "        text-align: right;\n",
       "    }\n",
       "</style>\n",
       "<table border=\"1\" class=\"dataframe\">\n",
       "  <thead>\n",
       "    <tr style=\"text-align: right;\">\n",
       "      <th></th>\n",
       "      <th>pathway_name</th>\n",
       "      <th>ligand</th>\n",
       "      <th>rec_A</th>\n",
       "      <th>rec_B</th>\n",
       "      <th>rec_C</th>\n",
       "      <th>l_exp</th>\n",
       "      <th>l_var</th>\n",
       "      <th>rec_A_exp</th>\n",
       "      <th>rec_A_var</th>\n",
       "      <th>rec_B_exp</th>\n",
       "      <th>rec_B_var</th>\n",
       "      <th>rec_C_exp</th>\n",
       "      <th>rec_C_var</th>\n",
       "    </tr>\n",
       "  </thead>\n",
       "  <tbody>\n",
       "    <tr>\n",
       "      <th>645</th>\n",
       "      <td>CCL</td>\n",
       "      <td>CCL19</td>\n",
       "      <td>CCR7</td>\n",
       "      <td>None</td>\n",
       "      <td>None</td>\n",
       "      <td>1.7382643</td>\n",
       "      <td>5.539186</td>\n",
       "      <td>1.6885129</td>\n",
       "      <td>1.9415792</td>\n",
       "      <td>NaN</td>\n",
       "      <td>NaN</td>\n",
       "      <td>NaN</td>\n",
       "      <td>NaN</td>\n",
       "    </tr>\n",
       "    <tr>\n",
       "      <th>646</th>\n",
       "      <td>CCL</td>\n",
       "      <td>CCL21</td>\n",
       "      <td>CCR7</td>\n",
       "      <td>None</td>\n",
       "      <td>None</td>\n",
       "      <td>0.05082678</td>\n",
       "      <td>0.100430116</td>\n",
       "      <td>1.6885129</td>\n",
       "      <td>1.9415792</td>\n",
       "      <td>NaN</td>\n",
       "      <td>NaN</td>\n",
       "      <td>NaN</td>\n",
       "      <td>NaN</td>\n",
       "    </tr>\n",
       "    <tr>\n",
       "      <th>711</th>\n",
       "      <td>CXCL</td>\n",
       "      <td>CXCL12</td>\n",
       "      <td>CXCR4</td>\n",
       "      <td>None</td>\n",
       "      <td>None</td>\n",
       "      <td>1.4257646</td>\n",
       "      <td>2.7257175</td>\n",
       "      <td>1.3560512</td>\n",
       "      <td>1.5149305</td>\n",
       "      <td>NaN</td>\n",
       "      <td>NaN</td>\n",
       "      <td>NaN</td>\n",
       "      <td>NaN</td>\n",
       "    </tr>\n",
       "    <tr>\n",
       "      <th>825</th>\n",
       "      <td>CD137</td>\n",
       "      <td>TNFSF9</td>\n",
       "      <td>TNFRSF9</td>\n",
       "      <td>None</td>\n",
       "      <td>None</td>\n",
       "      <td>0.0058077816</td>\n",
       "      <td>0.009628484</td>\n",
       "      <td>0.35003668</td>\n",
       "      <td>0.49893814</td>\n",
       "      <td>NaN</td>\n",
       "      <td>NaN</td>\n",
       "      <td>NaN</td>\n",
       "      <td>NaN</td>\n",
       "    </tr>\n",
       "  </tbody>\n",
       "</table>\n",
       "</div>"
      ],
      "text/plain": [
       "    pathway_name  ligand    rec_A rec_B rec_C         l_exp        l_var  \\\n",
       "645          CCL   CCL19     CCR7  None  None     1.7382643     5.539186   \n",
       "646          CCL   CCL21     CCR7  None  None    0.05082678  0.100430116   \n",
       "711         CXCL  CXCL12    CXCR4  None  None     1.4257646    2.7257175   \n",
       "825        CD137  TNFSF9  TNFRSF9  None  None  0.0058077816  0.009628484   \n",
       "\n",
       "      rec_A_exp   rec_A_var rec_B_exp rec_B_var rec_C_exp rec_C_var  \n",
       "645   1.6885129   1.9415792       NaN       NaN       NaN       NaN  \n",
       "646   1.6885129   1.9415792       NaN       NaN       NaN       NaN  \n",
       "711   1.3560512   1.5149305       NaN       NaN       NaN       NaN  \n",
       "825  0.35003668  0.49893814       NaN       NaN       NaN       NaN  "
      ]
     },
     "execution_count": 32,
     "metadata": {},
     "output_type": "execute_result"
    }
   ],
   "source": [
    "LRs_Enriched = LRs_ref.iloc[enriched, :]\n",
    "LRs_Enriched"
   ]
  },
  {
   "cell_type": "code",
   "execution_count": null,
   "id": "animal-pharmaceutical",
   "metadata": {},
   "outputs": [],
   "source": []
  },
  {
   "cell_type": "markdown",
   "id": "centered-category",
   "metadata": {},
   "source": [
    "### method2"
   ]
  },
  {
   "cell_type": "code",
   "execution_count": 39,
   "id": "based-triple",
   "metadata": {},
   "outputs": [
    {
     "data": {
      "text/plain": [
       "array([ArrayView(0.00095496), ArrayView(0.00477073),\n",
       "       ArrayView(0.01591229), ArrayView(0.00632653),\n",
       "       ArrayView(41.02871768)], dtype=object)"
      ]
     },
     "execution_count": 39,
     "metadata": {},
     "output_type": "execute_result"
    }
   ],
   "source": [
    "orig_Scores = Xct_Score(df = LRs_ref, method=1)\n",
    "orig_Scores[:5]"
   ]
  },
  {
   "cell_type": "code",
   "execution_count": 40,
   "id": "interracial-navigation",
   "metadata": {},
   "outputs": [
    {
     "name": "stderr",
     "output_type": "stream",
     "text": [
      "Trying to set attribute `.obs` of view, copying.\n",
      "Trying to set attribute `.obs` of view, copying.\n",
      "Trying to set attribute `.obs` of view, copying.\n",
      "Trying to set attribute `.obs` of view, copying.\n",
      "Trying to set attribute `.obs` of view, copying.\n",
      "Trying to set attribute `.obs` of view, copying.\n",
      "Trying to set attribute `.obs` of view, copying.\n",
      "Trying to set attribute `.obs` of view, copying.\n",
      "Trying to set attribute `.obs` of view, copying.\n",
      "Trying to set attribute `.obs` of view, copying.\n"
     ]
    },
    {
     "data": {
      "text/plain": [
       "(14, 10)"
      ]
     },
     "execution_count": 40,
     "metadata": {},
     "output_type": "execute_result"
    }
   ],
   "source": [
    "Scores = Xct_Scores(ada, CellA, CellB, LRs_ref = LRs_ref, s = 1, n=10)\n",
    "Scores.shape"
   ]
  },
  {
   "cell_type": "code",
   "execution_count": 41,
   "id": "critical-replication",
   "metadata": {},
   "outputs": [
    {
     "data": {
      "text/plain": [
       "[4, 5, 6, 8]"
      ]
     },
     "execution_count": 41,
     "metadata": {},
     "output_type": "execute_result"
    }
   ],
   "source": [
    "enriched, pvals, counts = Xct_PermuTest(orig_Scores, Scores)\n",
    "enriched"
   ]
  },
  {
   "cell_type": "code",
   "execution_count": 42,
   "id": "supreme-revision",
   "metadata": {},
   "outputs": [
    {
     "data": {
      "text/html": [
       "<div>\n",
       "<style scoped>\n",
       "    .dataframe tbody tr th:only-of-type {\n",
       "        vertical-align: middle;\n",
       "    }\n",
       "\n",
       "    .dataframe tbody tr th {\n",
       "        vertical-align: top;\n",
       "    }\n",
       "\n",
       "    .dataframe thead th {\n",
       "        text-align: right;\n",
       "    }\n",
       "</style>\n",
       "<table border=\"1\" class=\"dataframe\">\n",
       "  <thead>\n",
       "    <tr style=\"text-align: right;\">\n",
       "      <th></th>\n",
       "      <th>pathway_name</th>\n",
       "      <th>ligand</th>\n",
       "      <th>rec_A</th>\n",
       "      <th>rec_B</th>\n",
       "      <th>rec_C</th>\n",
       "      <th>l_exp</th>\n",
       "      <th>l_var</th>\n",
       "      <th>rec_A_exp</th>\n",
       "      <th>rec_A_var</th>\n",
       "      <th>rec_B_exp</th>\n",
       "      <th>rec_B_var</th>\n",
       "      <th>rec_C_exp</th>\n",
       "      <th>rec_C_var</th>\n",
       "    </tr>\n",
       "  </thead>\n",
       "  <tbody>\n",
       "    <tr>\n",
       "      <th>645</th>\n",
       "      <td>CCL</td>\n",
       "      <td>CCL19</td>\n",
       "      <td>CCR7</td>\n",
       "      <td>None</td>\n",
       "      <td>None</td>\n",
       "      <td>1.7382643</td>\n",
       "      <td>5.539186</td>\n",
       "      <td>1.6885129</td>\n",
       "      <td>1.9415792</td>\n",
       "      <td>NaN</td>\n",
       "      <td>NaN</td>\n",
       "      <td>NaN</td>\n",
       "      <td>NaN</td>\n",
       "    </tr>\n",
       "    <tr>\n",
       "      <th>646</th>\n",
       "      <td>CCL</td>\n",
       "      <td>CCL21</td>\n",
       "      <td>CCR7</td>\n",
       "      <td>None</td>\n",
       "      <td>None</td>\n",
       "      <td>0.05082678</td>\n",
       "      <td>0.100430116</td>\n",
       "      <td>1.6885129</td>\n",
       "      <td>1.9415792</td>\n",
       "      <td>NaN</td>\n",
       "      <td>NaN</td>\n",
       "      <td>NaN</td>\n",
       "      <td>NaN</td>\n",
       "    </tr>\n",
       "    <tr>\n",
       "      <th>711</th>\n",
       "      <td>CXCL</td>\n",
       "      <td>CXCL12</td>\n",
       "      <td>CXCR4</td>\n",
       "      <td>None</td>\n",
       "      <td>None</td>\n",
       "      <td>1.4257646</td>\n",
       "      <td>2.7257175</td>\n",
       "      <td>1.3560512</td>\n",
       "      <td>1.5149305</td>\n",
       "      <td>NaN</td>\n",
       "      <td>NaN</td>\n",
       "      <td>NaN</td>\n",
       "      <td>NaN</td>\n",
       "    </tr>\n",
       "    <tr>\n",
       "      <th>825</th>\n",
       "      <td>CD137</td>\n",
       "      <td>TNFSF9</td>\n",
       "      <td>TNFRSF9</td>\n",
       "      <td>None</td>\n",
       "      <td>None</td>\n",
       "      <td>0.0058077816</td>\n",
       "      <td>0.009628484</td>\n",
       "      <td>0.35003668</td>\n",
       "      <td>0.49893814</td>\n",
       "      <td>NaN</td>\n",
       "      <td>NaN</td>\n",
       "      <td>NaN</td>\n",
       "      <td>NaN</td>\n",
       "    </tr>\n",
       "  </tbody>\n",
       "</table>\n",
       "</div>"
      ],
      "text/plain": [
       "    pathway_name  ligand    rec_A rec_B rec_C         l_exp        l_var  \\\n",
       "645          CCL   CCL19     CCR7  None  None     1.7382643     5.539186   \n",
       "646          CCL   CCL21     CCR7  None  None    0.05082678  0.100430116   \n",
       "711         CXCL  CXCL12    CXCR4  None  None     1.4257646    2.7257175   \n",
       "825        CD137  TNFSF9  TNFRSF9  None  None  0.0058077816  0.009628484   \n",
       "\n",
       "      rec_A_exp   rec_A_var rec_B_exp rec_B_var rec_C_exp rec_C_var  \n",
       "645   1.6885129   1.9415792       NaN       NaN       NaN       NaN  \n",
       "646   1.6885129   1.9415792       NaN       NaN       NaN       NaN  \n",
       "711   1.3560512   1.5149305       NaN       NaN       NaN       NaN  \n",
       "825  0.35003668  0.49893814       NaN       NaN       NaN       NaN  "
      ]
     },
     "execution_count": 42,
     "metadata": {},
     "output_type": "execute_result"
    }
   ],
   "source": [
    "LRs_Enriched = LRs_ref.iloc[enriched, :]\n",
    "LRs_Enriched"
   ]
  },
  {
   "cell_type": "code",
   "execution_count": null,
   "id": "atlantic-praise",
   "metadata": {},
   "outputs": [],
   "source": []
  },
  {
   "cell_type": "code",
   "execution_count": null,
   "id": "radio-foster",
   "metadata": {},
   "outputs": [],
   "source": [
    "def vis(orig_Scores, Scores, i, LRs = LRs_ref, density = False): #index i in LRs_Selected\n",
    "    print('LR pair: {} - {}'.format(LRs.iloc[i]['ligand'], LRs.iloc[i]['rec_A']))\n",
    "    plt.hist(Scores[i], density = density)\n",
    "    plt.axvline(x = orig_Scores[i], color = 'r')\n",
    "    plt.show()"
   ]
  },
  {
   "cell_type": "code",
   "execution_count": null,
   "id": "fiscal-browser",
   "metadata": {},
   "outputs": [],
   "source": [
    "vis(orig_Scores, Scores, 0, density = False)"
   ]
  },
  {
   "cell_type": "code",
   "execution_count": null,
   "id": "printable-modification",
   "metadata": {},
   "outputs": [],
   "source": []
  }
 ],
 "metadata": {
  "kernelspec": {
   "display_name": "Python 3",
   "language": "python",
   "name": "python3"
  },
  "language_info": {
   "codemirror_mode": {
    "name": "ipython",
    "version": 3
   },
   "file_extension": ".py",
   "mimetype": "text/x-python",
   "name": "python",
   "nbconvert_exporter": "python",
   "pygments_lexer": "ipython3",
   "version": "3.8.5"
  }
 },
 "nbformat": 4,
 "nbformat_minor": 5
}
