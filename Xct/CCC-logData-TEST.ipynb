{
 "cells": [
  {
   "cell_type": "code",
   "execution_count": 1,
   "id": "republican-bolivia",
   "metadata": {},
   "outputs": [],
   "source": [
    "import numpy as np\n",
    "import pandas as pd\n",
    "import matplotlib.pyplot as plt\n",
    "import scanpy as sc\n",
    "from anndata import AnnData\n",
    "import anndata2ri"
   ]
  },
  {
   "cell_type": "code",
   "execution_count": 2,
   "id": "colonial-therapy",
   "metadata": {},
   "outputs": [
    {
     "name": "stderr",
     "output_type": "stream",
     "text": [
      "C:\\Users\\yjyang027\\Miniconda3\\lib\\site-packages\\rpy2\\robjects\\packages.py:366: UserWarning: The symbol 'quartz' is not in this R namespace/package.\n",
      "  warnings.warn(\n"
     ]
    }
   ],
   "source": [
    "import warnings\n",
    "anndata2ri.activate()\n",
    "%load_ext rpy2.ipython\n",
    "\n",
    "sc.settings.verbosity = 0\n",
    "warnings.filterwarnings(\"ignore\")"
   ]
  },
  {
   "cell_type": "code",
   "execution_count": 3,
   "id": "individual-collect",
   "metadata": {},
   "outputs": [],
   "source": [
    "def Xct_DB(specis = 'Human'):\n",
    "    if specis == 'mouse':\n",
    "        LR = pd.read_csv('https://raw.githubusercontent.com/yjgeno/Ligand-Receptor-Pairs/master/Mouse/Mouse-2020-Jin-LR-pairs.csv')\n",
    "    else:\n",
    "        LR = pd.read_csv('https://raw.githubusercontent.com/yjgeno/Ligand-Receptor-Pairs/master/Human/Human-2020-Jin-LR-pairs.csv')\n",
    "    ligands = LR['ligand'].str.split('_', expand=True)\n",
    "    ligands.columns = ['lig_A', 'lig_B']\n",
    "    receptors = LR['receptor'].str.split('_', expand=True)\n",
    "    receptors.columns = ['rec_A', 'rec_B', 'rec_C']\n",
    "    LRs = pd.concat([LR[['pathway_name']], ligands, receptors], axis=1)\n",
    "    del LR\n",
    "    \n",
    "    return LRs"
   ]
  },
  {
   "cell_type": "code",
   "execution_count": 4,
   "id": "annual-courage",
   "metadata": {},
   "outputs": [
    {
     "data": {
      "text/html": [
       "<div>\n",
       "<style scoped>\n",
       "    .dataframe tbody tr th:only-of-type {\n",
       "        vertical-align: middle;\n",
       "    }\n",
       "\n",
       "    .dataframe tbody tr th {\n",
       "        vertical-align: top;\n",
       "    }\n",
       "\n",
       "    .dataframe thead th {\n",
       "        text-align: right;\n",
       "    }\n",
       "</style>\n",
       "<table border=\"1\" class=\"dataframe\">\n",
       "  <thead>\n",
       "    <tr style=\"text-align: right;\">\n",
       "      <th></th>\n",
       "      <th>pathway_name</th>\n",
       "      <th>lig_A</th>\n",
       "      <th>lig_B</th>\n",
       "      <th>rec_A</th>\n",
       "      <th>rec_B</th>\n",
       "      <th>rec_C</th>\n",
       "    </tr>\n",
       "  </thead>\n",
       "  <tbody>\n",
       "    <tr>\n",
       "      <th>0</th>\n",
       "      <td>TGFb</td>\n",
       "      <td>TGFB1</td>\n",
       "      <td>None</td>\n",
       "      <td>TGFbR1</td>\n",
       "      <td>R2</td>\n",
       "      <td>None</td>\n",
       "    </tr>\n",
       "    <tr>\n",
       "      <th>1</th>\n",
       "      <td>TGFb</td>\n",
       "      <td>TGFB2</td>\n",
       "      <td>None</td>\n",
       "      <td>TGFbR1</td>\n",
       "      <td>R2</td>\n",
       "      <td>None</td>\n",
       "    </tr>\n",
       "    <tr>\n",
       "      <th>2</th>\n",
       "      <td>TGFb</td>\n",
       "      <td>TGFB3</td>\n",
       "      <td>None</td>\n",
       "      <td>TGFbR1</td>\n",
       "      <td>R2</td>\n",
       "      <td>None</td>\n",
       "    </tr>\n",
       "    <tr>\n",
       "      <th>3</th>\n",
       "      <td>TGFb</td>\n",
       "      <td>TGFB1</td>\n",
       "      <td>None</td>\n",
       "      <td>ACVR1B</td>\n",
       "      <td>TGFbR2</td>\n",
       "      <td>None</td>\n",
       "    </tr>\n",
       "    <tr>\n",
       "      <th>4</th>\n",
       "      <td>TGFb</td>\n",
       "      <td>TGFB1</td>\n",
       "      <td>None</td>\n",
       "      <td>ACVR1C</td>\n",
       "      <td>TGFbR2</td>\n",
       "      <td>None</td>\n",
       "    </tr>\n",
       "  </tbody>\n",
       "</table>\n",
       "</div>"
      ],
      "text/plain": [
       "  pathway_name  lig_A lig_B   rec_A   rec_B rec_C\n",
       "0         TGFb  TGFB1  None  TGFbR1      R2  None\n",
       "1         TGFb  TGFB2  None  TGFbR1      R2  None\n",
       "2         TGFb  TGFB3  None  TGFbR1      R2  None\n",
       "3         TGFb  TGFB1  None  ACVR1B  TGFbR2  None\n",
       "4         TGFb  TGFB1  None  ACVR1C  TGFbR2  None"
      ]
     },
     "execution_count": 4,
     "metadata": {},
     "output_type": "execute_result"
    }
   ],
   "source": [
    "LRs = Xct_DB()\n",
    "LRs.head()"
   ]
  },
  {
   "cell_type": "code",
   "execution_count": 5,
   "id": "embedded-astrology",
   "metadata": {},
   "outputs": [
    {
     "name": "stderr",
     "output_type": "stream",
     "text": [
      "R[write to console]: Attaching SeuratObject\n",
      "\n"
     ]
    }
   ],
   "source": [
    "%%R\n",
    "\n",
    "library(Seurat)"
   ]
  },
  {
   "cell_type": "code",
   "execution_count": 6,
   "id": "nervous-hungarian",
   "metadata": {},
   "outputs": [],
   "source": [
    "%%R\n",
    "\n",
    "load(url(\"https://ndownloader.figshare.com/files/25950872\")) \n",
    "data.input = data_humanSkin$data # input normalized data matrix\n",
    "meta = data_humanSkin$meta # a dataframe of cell metadata"
   ]
  },
  {
   "cell_type": "code",
   "execution_count": 7,
   "id": "contained-cambodia",
   "metadata": {},
   "outputs": [],
   "source": [
    "%%R -o labels\n",
    "\n",
    "cell.use = rownames(meta)[meta$condition == \"LS\"] # extract the cell names from disease data\n",
    "data.input = data.input[, cell.use]\n",
    "meta = meta[cell.use, ]\n",
    "labels <- as.vector(meta$labels)\n",
    "#unique(meta$labels) # check the cell labels"
   ]
  },
  {
   "cell_type": "code",
   "execution_count": 8,
   "id": "utility-honduras",
   "metadata": {},
   "outputs": [
    {
     "data": {
      "image/png": "[encoded data removed]"
     },
     "metadata": {},
     "output_type": "display_data"
    }
   ],
   "source": [
    "%%R \n",
    "\n",
    "set.seed(42)\n",
    "LS <- CreateSeuratObject(data.input, project = 'LS', meta.data = meta)\n",
    "Idents(LS) <- LS$labels\n",
    "LS <- FindVariableFeatures(LS, nfeatures=2500, verbose = F)\n",
    "LS <- ScaleData(LS, verbose = F) \n",
    "LS <- RunPCA(LS, verbose = F)\n",
    "LS <- RunTSNE(LS)\n",
    "TSNEPlot(LS)\n",
    "#VariableFeaturePlot(object = LS)"
   ]
  },
  {
   "cell_type": "code",
   "execution_count": 9,
   "id": "excellent-stomach",
   "metadata": {},
   "outputs": [
    {
     "name": "stderr",
     "output_type": "stream",
     "text": [
      "R[write to console]: When using repel, set xnudge and ynudge to 0 for optimal results\n",
      "\n"
     ]
    },
    {
     "data": {
      "image/png": "[encoded data removed]"
     },
     "metadata": {},
     "output_type": "display_data"
    }
   ],
   "source": [
    "%%R\n",
    "top <- head(VariableFeatures(LS), 50)\n",
    "#png('HVG_examples.png', width = 4000, height = 4000, res = 300)\n",
    "plot1 <- VariableFeaturePlot(object = LS)\n",
    "LabelPoints(plot = plot1, points = c('WNT10A', 'FZD4'), repel = TRUE, xnudge=0.3, ynudge=0.5, max.overlaps = Inf)\n",
    "\n",
    "#CombinePlots(plots = list(plot1, plot2))\n",
    "#dev.off()"
   ]
  },
  {
   "cell_type": "code",
   "execution_count": 10,
   "id": "generous-timber",
   "metadata": {},
   "outputs": [],
   "source": [
    "%%R -o counts -o HVGenes -o Genes -o Cells\n",
    "\n",
    "counts <- GetAssayData(LS, slot = 'data')\n",
    "Genes <- rownames(counts)\n",
    "HVGenes <- rownames(GetAssayData(LS, slot = 'scale.data'))\n",
    "Cells <- colnames(counts)\n"
   ]
  },
  {
   "cell_type": "code",
   "execution_count": 11,
   "id": "varying-tribune",
   "metadata": {},
   "outputs": [],
   "source": [
    "from scipy.sparse import csr_matrix\n",
    "counts = csr_matrix.toarray(counts)"
   ]
  },
  {
   "cell_type": "code",
   "execution_count": 12,
   "id": "accomplished-subcommittee",
   "metadata": {},
   "outputs": [
    {
     "data": {
      "text/plain": [
       "(17328, 5011)"
      ]
     },
     "execution_count": 12,
     "metadata": {},
     "output_type": "execute_result"
    }
   ],
   "source": [
    "counts.shape"
   ]
  },
  {
   "cell_type": "markdown",
   "id": "generous-marijuana",
   "metadata": {},
   "source": [
    "### log data"
   ]
  },
  {
   "cell_type": "code",
   "execution_count": 13,
   "id": "vanilla-payroll",
   "metadata": {},
   "outputs": [
    {
     "data": {
      "text/plain": [
       "AnnData object with n_obs × n_vars = 5011 × 2500\n",
       "    obs: 'barcodes', 'ident'\n",
       "    var: 'gene_symbols'"
      ]
     },
     "execution_count": 13,
     "metadata": {},
     "output_type": "execute_result"
    }
   ],
   "source": [
    "ada = AnnData(counts.T)\n",
    "ada.obs['barcodes'] = np.array(Cells)\n",
    "ada.obs['ident'] = np.array(labels)\n",
    "ada.var['gene_symbols'] = np.array(Genes)\n",
    "\n",
    "ada.obs_names = ada.obs['barcodes']\n",
    "ada.var_names = ada.var['gene_symbols']\n",
    "#print(ada.isview)\n",
    "ada = ada[:, ada.var_names.isin(HVGenes)].copy() #Not ArrayView\n",
    "\n",
    "ada"
   ]
  },
  {
   "cell_type": "markdown",
   "id": "efficient-inspiration",
   "metadata": {},
   "source": [
    "### Xct"
   ]
  },
  {
   "cell_type": "code",
   "execution_count": 14,
   "id": "following-briefing",
   "metadata": {},
   "outputs": [
    {
     "data": {
      "text/plain": [
       "array(['Inflam. FIB', 'FBN1+ FIB', 'APOE+ FIB', 'COL11A1+ FIB', 'cDC2',\n",
       "       'LC', 'Inflam. DC', 'cDC1', 'CD40LG+ TC', 'Inflam. TC', 'TC',\n",
       "       'NKT'], dtype=object)"
      ]
     },
     "execution_count": 14,
     "metadata": {},
     "output_type": "execute_result"
    }
   ],
   "source": [
    "ada.obs['ident'].unique()"
   ]
  },
  {
   "cell_type": "code",
   "execution_count": 15,
   "id": "cognitive-controversy",
   "metadata": {},
   "outputs": [],
   "source": [
    "CellA = 'Inflam. FIB'\n",
    "CellB = 'Inflam. DC'"
   ]
  },
  {
   "cell_type": "code",
   "execution_count": 16,
   "id": "minimal-miniature",
   "metadata": {},
   "outputs": [],
   "source": [
    "def Xct_init(ada, CellA, CellB, DB, verbose = False):\n",
    "    result = {}\n",
    "    AB = ada[ada.obs['ident'].isin([CellA, CellB]), :]\n",
    "    A = AB[AB.obs['ident'] == CellA, :].copy()\n",
    "    B = AB[AB.obs['ident'] == CellB, :].copy()\n",
    "    \n",
    "    for lig in ['lig_A', 'lig_B']:\n",
    "        l_exp = []\n",
    "        l_var = []\n",
    "        for l in DB[lig]:\n",
    "            if l not in np.array(A.var_names):\n",
    "                l_exp.append(np.nan)\n",
    "                l_var.append(np.nan)\n",
    "            else:\n",
    "                l_exp.append(np.mean(A[:, A.var_names.isin([l])].X))\n",
    "                l_var.append(np.var(A[:, A.var_names.isin([l])].X))\n",
    "        result['{}_exp'.format(lig)] = l_exp\n",
    "        result['{}_var'.format(lig)] = l_var\n",
    "    \n",
    "    for rec in ['rec_A', 'rec_B', 'rec_C']:\n",
    "        r_exp = []\n",
    "        r_var = []\n",
    "        for r in DB[rec]:\n",
    "            if r not in np.array(B.var_names):\n",
    "                r_exp.append(np.nan)\n",
    "                r_var.append(np.nan)\n",
    "            else:\n",
    "                r_exp.append(np.mean(B[:, B.var_names.isin([r])].X)) #mean expression of L and R\n",
    "                r_var.append(np.var(B[:, B.var_names.isin([r])].X))\n",
    "        result['{}_exp'.format(rec)] = r_exp\n",
    "        result['{}_var'.format(rec)] = r_var\n",
    "    #print(result.keys())\n",
    "\n",
    "    LRs_Xct = DB.copy() \n",
    "    LRs_Xct = pd.concat([LRs_Xct, pd.DataFrame.from_dict(result)], axis=1)\n",
    "    mask1 = np.invert(LRs_Xct[['lig_A_exp', 'rec_A_exp']].isna().any(axis=1)) # remove NA\n",
    "    mask2 = (LRs_Xct['lig_A_exp'] > 0) & (LRs_Xct['rec_A_exp'] > 0) # remove 0 for original LR\n",
    "    LRs_Xct = LRs_Xct[mask1 & mask2]\n",
    "    if verbose:\n",
    "        print('Selected {} LR pairs'.format(LRs_Xct.shape[0]))\n",
    "\n",
    "    return LRs_Xct\n",
    "    "
   ]
  },
  {
   "cell_type": "code",
   "execution_count": 17,
   "id": "banned-mailing",
   "metadata": {},
   "outputs": [],
   "source": [
    "def Xct_pmt(ada, CellA, CellB, Ref, verbose = False):\n",
    "    result = {}\n",
    "    AB = ada[ada.obs['ident'].isin([CellA, CellB]), :].copy()\n",
    "    \n",
    "    #np.random.seed(42)\n",
    "    labels_pmt = np.random.permutation(AB.obs['ident'])\n",
    "    AB.obs['ident'] = labels_pmt         \n",
    "    A = AB[AB.obs['ident'] == CellA, :]\n",
    "    B = AB[AB.obs['ident'] == CellB, :]\n",
    "    \n",
    "    if verbose:\n",
    "        print('Cell A and B permutated')       \n",
    "       #print(AB.obs['ident'][:10].unique(), AB.obs['ident'][-10:].unique()) #check\n",
    "        print('# of {}: {}; # of {}: {}'.format(CellA, A.shape[0], CellB, B.shape[0]))\n",
    "   \n",
    "    for lig in ['lig_A', 'lig_B']:\n",
    "        l_exp = []\n",
    "        l_var = []\n",
    "        for l in Ref[lig]:\n",
    "            if l not in np.array(A.var_names):\n",
    "                l_exp.append(0)\n",
    "                l_var.append(0)\n",
    "            else:\n",
    "                l_exp.append(np.mean(A[:, A.var_names.isin([l])].X))\n",
    "                l_var.append(np.var(A[:, A.var_names.isin([l])].X))\n",
    "        result['{}_exp'.format(lig)] = l_exp\n",
    "        result['{}_var'.format(lig)] = l_var\n",
    "    \n",
    "    for rec in ['rec_A', 'rec_B', 'rec_C']:\n",
    "        r_exp = []\n",
    "        r_var = []\n",
    "        for r in Ref[rec]:\n",
    "            if r not in np.array(B.var_names):\n",
    "                r_exp.append(0)\n",
    "                r_var.append(0)\n",
    "            else:\n",
    "                r_exp.append(np.mean(B[:, B.var_names.isin([r])].X)) #mean expression of L and R\n",
    "                r_var.append(np.var(B[:, B.var_names.isin([r])].X))\n",
    "        result['{}_exp'.format(rec)] = r_exp\n",
    "        result['{}_var'.format(rec)] = r_var\n",
    "    \n",
    "    #print(result.keys()) \n",
    "    result = pd.DataFrame.from_dict(result)\n",
    "    assert len(result) == len(Ref)\n",
    "    \n",
    "    return result\n",
    "  "
   ]
  },
  {
   "cell_type": "code",
   "execution_count": 18,
   "id": "limiting-anthony",
   "metadata": {},
   "outputs": [],
   "source": [
    "def Xct_Score(df, method = 0):\n",
    "    lig = ['lig_A_exp', 'lig_B_exp', 'lig_A_var', 'lig_B_var']\n",
    "    rec = ['rec_A_exp', 'rec_B_exp', 'rec_C_exp', 'rec_A_var', 'rec_B_var', 'rec_C_var']\n",
    "    if (set(lig) | set(rec)).issubset(df.columns):\n",
    "        exp_R = np.array(df[rec[:3]].max(axis=1)) #mean for R   \n",
    "        exp_L = np.array(df[lig[:2]].max(axis=1))    \n",
    "        if method == 0:\n",
    "            S = exp_L * exp_R        \n",
    "        elif method == 1:\n",
    "            var_R = np.array(df[rec[3:]].max(axis=1)) #var for R\n",
    "            var_L = np.array(df[lig[2:]].max(axis=1))\n",
    "            S = (exp_L**2 + var_L)*(exp_R**2 + var_R)\n",
    "        \n",
    "        return S.astype(float)\n",
    "    \n",
    "    else:\n",
    "        print('Error: column names')"
   ]
  },
  {
   "cell_type": "code",
   "execution_count": 19,
   "id": "chief-aruba",
   "metadata": {},
   "outputs": [],
   "source": [
    "def Xct_Scores(ada, CellA, CellB, LRs_ref, s = 0, n = 100): #s: score method, permute n times\n",
    "    scores = []\n",
    "    for _ in range(n):\n",
    "        LRs_pmt = Xct_pmt(ada, CellA, CellB, Ref = LRs_ref, verbose = False)\n",
    "        scores.append(Xct_Score(df = LRs_pmt, method = s))\n",
    "\n",
    "    assert all(len(i) == len(LRs_ref) for i in scores) #check if equal len of ref LR pairs\n",
    "    return np.array(scores).T  #transpose for further looping"
   ]
  },
  {
   "cell_type": "code",
   "execution_count": 20,
   "id": "soviet-negotiation",
   "metadata": {},
   "outputs": [],
   "source": [
    "def Xct_PmtTest(orig_score, scores, p = 0.05):\n",
    "    enriched_i = []\n",
    "    pvals = []\n",
    "    counts = []\n",
    "    for i, dist in enumerate(scores):\n",
    "        count = sum(orig_score[i] > value for value in dist)\n",
    "        pval = 1- count/len(dist)\n",
    "        pvals.append(pval)\n",
    "        counts.append(count)\n",
    "        \n",
    "        if pval < p:\n",
    "            enriched_i.append(i)           \n",
    "    \n",
    "    return enriched_i, pvals, counts"
   ]
  },
  {
   "cell_type": "code",
   "execution_count": 21,
   "id": "fifty-parker",
   "metadata": {},
   "outputs": [],
   "source": [
    "def vis(orig_Scores, Scores, i, LRs, density = False): #index i in LRs_Selected\n",
    "    print('LR pair: {} - {}'.format(LRs.iloc[i]['lig_A'], LRs.iloc[i]['rec_A']))\n",
    "    plt.hist(Scores[i], density = density)\n",
    "    plt.axvline(x = orig_Scores[i], color = 'r')\n",
    "    plt.show()"
   ]
  },
  {
   "cell_type": "markdown",
   "id": "nutritional-protocol",
   "metadata": {},
   "source": [
    "### test"
   ]
  },
  {
   "cell_type": "code",
   "execution_count": 22,
   "id": "deadly-animation",
   "metadata": {},
   "outputs": [
    {
     "name": "stdout",
     "output_type": "stream",
     "text": [
      "Selected 6 LR pairs\n"
     ]
    },
    {
     "data": {
      "text/html": [
       "<div>\n",
       "<style scoped>\n",
       "    .dataframe tbody tr th:only-of-type {\n",
       "        vertical-align: middle;\n",
       "    }\n",
       "\n",
       "    .dataframe tbody tr th {\n",
       "        vertical-align: top;\n",
       "    }\n",
       "\n",
       "    .dataframe thead th {\n",
       "        text-align: right;\n",
       "    }\n",
       "</style>\n",
       "<table border=\"1\" class=\"dataframe\">\n",
       "  <thead>\n",
       "    <tr style=\"text-align: right;\">\n",
       "      <th></th>\n",
       "      <th>pathway_name</th>\n",
       "      <th>lig_A</th>\n",
       "      <th>lig_B</th>\n",
       "      <th>rec_A</th>\n",
       "      <th>rec_B</th>\n",
       "      <th>rec_C</th>\n",
       "      <th>lig_A_exp</th>\n",
       "      <th>lig_A_var</th>\n",
       "      <th>lig_B_exp</th>\n",
       "      <th>lig_B_var</th>\n",
       "      <th>rec_A_exp</th>\n",
       "      <th>rec_A_var</th>\n",
       "      <th>rec_B_exp</th>\n",
       "      <th>rec_B_var</th>\n",
       "      <th>rec_C_exp</th>\n",
       "      <th>rec_C_var</th>\n",
       "    </tr>\n",
       "  </thead>\n",
       "  <tbody>\n",
       "    <tr>\n",
       "      <th>645</th>\n",
       "      <td>CCL</td>\n",
       "      <td>CCL19</td>\n",
       "      <td>None</td>\n",
       "      <td>CCR7</td>\n",
       "      <td>None</td>\n",
       "      <td>None</td>\n",
       "      <td>1.7382643</td>\n",
       "      <td>5.539186</td>\n",
       "      <td>NaN</td>\n",
       "      <td>NaN</td>\n",
       "      <td>1.6885129</td>\n",
       "      <td>1.9415792</td>\n",
       "      <td>NaN</td>\n",
       "      <td>NaN</td>\n",
       "      <td>NaN</td>\n",
       "      <td>NaN</td>\n",
       "    </tr>\n",
       "    <tr>\n",
       "      <th>646</th>\n",
       "      <td>CCL</td>\n",
       "      <td>CCL21</td>\n",
       "      <td>None</td>\n",
       "      <td>CCR7</td>\n",
       "      <td>None</td>\n",
       "      <td>None</td>\n",
       "      <td>0.05082678</td>\n",
       "      <td>0.100430116</td>\n",
       "      <td>NaN</td>\n",
       "      <td>NaN</td>\n",
       "      <td>1.6885129</td>\n",
       "      <td>1.9415792</td>\n",
       "      <td>NaN</td>\n",
       "      <td>NaN</td>\n",
       "      <td>NaN</td>\n",
       "      <td>NaN</td>\n",
       "    </tr>\n",
       "    <tr>\n",
       "      <th>711</th>\n",
       "      <td>CXCL</td>\n",
       "      <td>CXCL12</td>\n",
       "      <td>None</td>\n",
       "      <td>CXCR4</td>\n",
       "      <td>None</td>\n",
       "      <td>None</td>\n",
       "      <td>1.4257646</td>\n",
       "      <td>2.7257175</td>\n",
       "      <td>NaN</td>\n",
       "      <td>NaN</td>\n",
       "      <td>1.3560512</td>\n",
       "      <td>1.5149305</td>\n",
       "      <td>NaN</td>\n",
       "      <td>NaN</td>\n",
       "      <td>NaN</td>\n",
       "      <td>NaN</td>\n",
       "    </tr>\n",
       "    <tr>\n",
       "      <th>806</th>\n",
       "      <td>TNF</td>\n",
       "      <td>TNF</td>\n",
       "      <td>None</td>\n",
       "      <td>TNFRSF1B</td>\n",
       "      <td>None</td>\n",
       "      <td>None</td>\n",
       "      <td>0.0031172754</td>\n",
       "      <td>0.004693508</td>\n",
       "      <td>NaN</td>\n",
       "      <td>NaN</td>\n",
       "      <td>0.3725189</td>\n",
       "      <td>0.68993086</td>\n",
       "      <td>NaN</td>\n",
       "      <td>NaN</td>\n",
       "      <td>NaN</td>\n",
       "      <td>NaN</td>\n",
       "    </tr>\n",
       "    <tr>\n",
       "      <th>825</th>\n",
       "      <td>CD137</td>\n",
       "      <td>TNFSF9</td>\n",
       "      <td>None</td>\n",
       "      <td>TNFRSF9</td>\n",
       "      <td>None</td>\n",
       "      <td>None</td>\n",
       "      <td>0.0058077816</td>\n",
       "      <td>0.009628484</td>\n",
       "      <td>NaN</td>\n",
       "      <td>NaN</td>\n",
       "      <td>0.35003668</td>\n",
       "      <td>0.49893814</td>\n",
       "      <td>NaN</td>\n",
       "      <td>NaN</td>\n",
       "      <td>NaN</td>\n",
       "      <td>NaN</td>\n",
       "    </tr>\n",
       "    <tr>\n",
       "      <th>1991</th>\n",
       "      <td>SEMA6</td>\n",
       "      <td>SEMA6A</td>\n",
       "      <td>None</td>\n",
       "      <td>PLXNA4</td>\n",
       "      <td>None</td>\n",
       "      <td>None</td>\n",
       "      <td>0.0110205</td>\n",
       "      <td>0.029280404</td>\n",
       "      <td>NaN</td>\n",
       "      <td>NaN</td>\n",
       "      <td>0.054223344</td>\n",
       "      <td>0.12551613</td>\n",
       "      <td>NaN</td>\n",
       "      <td>NaN</td>\n",
       "      <td>NaN</td>\n",
       "      <td>NaN</td>\n",
       "    </tr>\n",
       "  </tbody>\n",
       "</table>\n",
       "</div>"
      ],
      "text/plain": [
       "     pathway_name   lig_A lig_B     rec_A rec_B rec_C     lig_A_exp  \\\n",
       "645           CCL   CCL19  None      CCR7  None  None     1.7382643   \n",
       "646           CCL   CCL21  None      CCR7  None  None    0.05082678   \n",
       "711          CXCL  CXCL12  None     CXCR4  None  None     1.4257646   \n",
       "806           TNF     TNF  None  TNFRSF1B  None  None  0.0031172754   \n",
       "825         CD137  TNFSF9  None   TNFRSF9  None  None  0.0058077816   \n",
       "1991        SEMA6  SEMA6A  None    PLXNA4  None  None     0.0110205   \n",
       "\n",
       "        lig_A_var  lig_B_exp  lig_B_var    rec_A_exp   rec_A_var rec_B_exp  \\\n",
       "645      5.539186        NaN        NaN    1.6885129   1.9415792       NaN   \n",
       "646   0.100430116        NaN        NaN    1.6885129   1.9415792       NaN   \n",
       "711     2.7257175        NaN        NaN    1.3560512   1.5149305       NaN   \n",
       "806   0.004693508        NaN        NaN    0.3725189  0.68993086       NaN   \n",
       "825   0.009628484        NaN        NaN   0.35003668  0.49893814       NaN   \n",
       "1991  0.029280404        NaN        NaN  0.054223344  0.12551613       NaN   \n",
       "\n",
       "     rec_B_var rec_C_exp rec_C_var  \n",
       "645        NaN       NaN       NaN  \n",
       "646        NaN       NaN       NaN  \n",
       "711        NaN       NaN       NaN  \n",
       "806        NaN       NaN       NaN  \n",
       "825        NaN       NaN       NaN  \n",
       "1991       NaN       NaN       NaN  "
      ]
     },
     "execution_count": 22,
     "metadata": {},
     "output_type": "execute_result"
    }
   ],
   "source": [
    "LRs_ref = Xct_init(ada, CellA, CellB, DB = LRs, verbose = True)\n",
    "LRs_ref"
   ]
  },
  {
   "cell_type": "code",
   "execution_count": 23,
   "id": "romance-porter",
   "metadata": {},
   "outputs": [
    {
     "name": "stdout",
     "output_type": "stream",
     "text": [
      "Cell A and B permutated\n",
      "# of Inflam. FIB: 484; # of Inflam. DC: 81\n"
     ]
    },
    {
     "data": {
      "text/html": [
       "<div>\n",
       "<style scoped>\n",
       "    .dataframe tbody tr th:only-of-type {\n",
       "        vertical-align: middle;\n",
       "    }\n",
       "\n",
       "    .dataframe tbody tr th {\n",
       "        vertical-align: top;\n",
       "    }\n",
       "\n",
       "    .dataframe thead th {\n",
       "        text-align: right;\n",
       "    }\n",
       "</style>\n",
       "<table border=\"1\" class=\"dataframe\">\n",
       "  <thead>\n",
       "    <tr style=\"text-align: right;\">\n",
       "      <th></th>\n",
       "      <th>lig_A_exp</th>\n",
       "      <th>lig_A_var</th>\n",
       "      <th>lig_B_exp</th>\n",
       "      <th>lig_B_var</th>\n",
       "      <th>rec_A_exp</th>\n",
       "      <th>rec_A_var</th>\n",
       "      <th>rec_B_exp</th>\n",
       "      <th>rec_B_var</th>\n",
       "      <th>rec_C_exp</th>\n",
       "      <th>rec_C_var</th>\n",
       "    </tr>\n",
       "  </thead>\n",
       "  <tbody>\n",
       "    <tr>\n",
       "      <th>0</th>\n",
       "      <td>1.5055077</td>\n",
       "      <td>5.039547</td>\n",
       "      <td>0</td>\n",
       "      <td>0</td>\n",
       "      <td>0.3389184</td>\n",
       "      <td>0.7613056</td>\n",
       "      <td>0</td>\n",
       "      <td>0</td>\n",
       "      <td>0</td>\n",
       "      <td>0</td>\n",
       "    </tr>\n",
       "    <tr>\n",
       "      <th>1</th>\n",
       "      <td>0.047310486</td>\n",
       "      <td>0.094790824</td>\n",
       "      <td>0</td>\n",
       "      <td>0</td>\n",
       "      <td>0.3389184</td>\n",
       "      <td>0.7613056</td>\n",
       "      <td>0</td>\n",
       "      <td>0</td>\n",
       "      <td>0</td>\n",
       "      <td>0</td>\n",
       "    </tr>\n",
       "    <tr>\n",
       "      <th>2</th>\n",
       "      <td>1.2496935</td>\n",
       "      <td>2.5988488</td>\n",
       "      <td>0</td>\n",
       "      <td>0</td>\n",
       "      <td>0.15790866</td>\n",
       "      <td>0.24444097</td>\n",
       "      <td>0</td>\n",
       "      <td>0</td>\n",
       "      <td>0</td>\n",
       "      <td>0</td>\n",
       "    </tr>\n",
       "    <tr>\n",
       "      <th>3</th>\n",
       "      <td>0.052594114</td>\n",
       "      <td>0.12927745</td>\n",
       "      <td>0</td>\n",
       "      <td>0</td>\n",
       "      <td>0.027554624</td>\n",
       "      <td>0.030896384</td>\n",
       "      <td>0</td>\n",
       "      <td>0</td>\n",
       "      <td>0</td>\n",
       "      <td>0</td>\n",
       "    </tr>\n",
       "    <tr>\n",
       "      <th>4</th>\n",
       "      <td>0.010860663</td>\n",
       "      <td>0.021901555</td>\n",
       "      <td>0</td>\n",
       "      <td>0</td>\n",
       "      <td>0.04880818</td>\n",
       "      <td>0.09410947</td>\n",
       "      <td>0</td>\n",
       "      <td>0</td>\n",
       "      <td>0</td>\n",
       "      <td>0</td>\n",
       "    </tr>\n",
       "    <tr>\n",
       "      <th>5</th>\n",
       "      <td>0.0110205</td>\n",
       "      <td>0.029280405</td>\n",
       "      <td>0</td>\n",
       "      <td>0</td>\n",
       "      <td>0.019502634</td>\n",
       "      <td>0.030428218</td>\n",
       "      <td>0</td>\n",
       "      <td>0</td>\n",
       "      <td>0</td>\n",
       "      <td>0</td>\n",
       "    </tr>\n",
       "  </tbody>\n",
       "</table>\n",
       "</div>"
      ],
      "text/plain": [
       "     lig_A_exp    lig_A_var  lig_B_exp  lig_B_var    rec_A_exp    rec_A_var  \\\n",
       "0    1.5055077     5.039547          0          0    0.3389184    0.7613056   \n",
       "1  0.047310486  0.094790824          0          0    0.3389184    0.7613056   \n",
       "2    1.2496935    2.5988488          0          0   0.15790866   0.24444097   \n",
       "3  0.052594114   0.12927745          0          0  0.027554624  0.030896384   \n",
       "4  0.010860663  0.021901555          0          0   0.04880818   0.09410947   \n",
       "5    0.0110205  0.029280405          0          0  0.019502634  0.030428218   \n",
       "\n",
       "   rec_B_exp  rec_B_var  rec_C_exp  rec_C_var  \n",
       "0          0          0          0          0  \n",
       "1          0          0          0          0  \n",
       "2          0          0          0          0  \n",
       "3          0          0          0          0  \n",
       "4          0          0          0          0  \n",
       "5          0          0          0          0  "
      ]
     },
     "execution_count": 23,
     "metadata": {},
     "output_type": "execute_result"
    }
   ],
   "source": [
    "LRs_pmt = Xct_pmt(ada, CellA, CellB, Ref = LRs_ref, verbose = True)\n",
    "LRs_pmt"
   ]
  },
  {
   "cell_type": "code",
   "execution_count": 24,
   "id": "quantitative-addiction",
   "metadata": {},
   "outputs": [
    {
     "data": {
      "text/plain": [
       "array([2.93508177e+00, 8.58216756e-02, 1.93340975e+00, 1.16124400e-03,\n",
       "       2.03293659e-03, 5.97568371e-04])"
      ]
     },
     "execution_count": 24,
     "metadata": {},
     "output_type": "execute_result"
    }
   ],
   "source": [
    "orig_Scores = Xct_Score(df = LRs_ref)\n",
    "orig_Scores"
   ]
  },
  {
   "cell_type": "code",
   "execution_count": 25,
   "id": "architectural-drill",
   "metadata": {},
   "outputs": [
    {
     "data": {
      "text/plain": [
       "array([5.10244245e-01, 1.60343938e-02, 1.97337432e-01, 1.44921103e-03,\n",
       "       5.30089188e-04, 2.14928784e-04])"
      ]
     },
     "execution_count": 25,
     "metadata": {},
     "output_type": "execute_result"
    }
   ],
   "source": [
    "pmt_Scores = Xct_Score(df = LRs_pmt)\n",
    "pmt_Scores"
   ]
  },
  {
   "cell_type": "code",
   "execution_count": null,
   "id": "blond-seeking",
   "metadata": {},
   "outputs": [],
   "source": []
  },
  {
   "cell_type": "code",
   "execution_count": 26,
   "id": "novel-tonight",
   "metadata": {
    "scrolled": true
   },
   "outputs": [
    {
     "data": {
      "text/plain": [
       "(6, 10)"
      ]
     },
     "execution_count": 26,
     "metadata": {},
     "output_type": "execute_result"
    }
   ],
   "source": [
    "np.random.seed(1)\n",
    "Scores = Xct_Scores(ada, CellA, CellB, LRs_ref = LRs_ref, n=10)\n",
    "Scores.shape"
   ]
  },
  {
   "cell_type": "code",
   "execution_count": 27,
   "id": "ceramic-services",
   "metadata": {},
   "outputs": [
    {
     "data": {
      "text/plain": [
       "array([[5.26942177e-01, 3.57124758e-01, 4.13094475e-01, 5.16568403e-01,\n",
       "        2.84763627e-01, 3.21352042e-01, 6.40022021e-01, 4.70018426e-01,\n",
       "        4.24989781e-01, 3.92750784e-01],\n",
       "       [1.21274368e-02, 8.52903692e-03, 1.38949302e-02, 1.56546696e-02,\n",
       "        6.80694076e-03, 5.56845371e-03, 1.68556452e-02, 1.33338076e-02,\n",
       "        1.14143342e-02, 1.18494084e-02],\n",
       "       [2.28701317e-01, 2.86905216e-01, 2.31329461e-01, 1.55073815e-01,\n",
       "        2.94661115e-01, 2.08001442e-01, 4.37621872e-01, 2.48324707e-01,\n",
       "        3.46130618e-01, 2.11194304e-01],\n",
       "       [1.04591676e-02, 8.35206892e-03, 8.77347635e-03, 9.84919838e-04,\n",
       "        1.13287122e-02, 9.44328487e-03, 2.67953386e-03, 4.28316695e-03,\n",
       "        7.12964844e-03, 5.77134609e-03],\n",
       "       [1.04311230e-03, 1.88844605e-04, 8.63256418e-04, 7.37648224e-04,\n",
       "        8.03690453e-04, 4.41946727e-04, 4.03230587e-04, 3.96103248e-04,\n",
       "        5.91747666e-04, 1.29207631e-04],\n",
       "       [2.41987297e-04, 1.11917045e-03, 1.02573330e-03, 5.37666644e-04,\n",
       "        3.82639566e-04, 1.35254158e-03, 1.11885523e-03, 0.00000000e+00,\n",
       "        9.49785070e-04, 1.32598026e-03]])"
      ]
     },
     "execution_count": 27,
     "metadata": {},
     "output_type": "execute_result"
    }
   ],
   "source": [
    "Scores"
   ]
  },
  {
   "cell_type": "code",
   "execution_count": 28,
   "id": "published-surfing",
   "metadata": {},
   "outputs": [
    {
     "data": {
      "text/plain": [
       "[0, 1, 2, 4]"
      ]
     },
     "execution_count": 28,
     "metadata": {},
     "output_type": "execute_result"
    }
   ],
   "source": [
    "enriched, pvals, counts = Xct_PmtTest(orig_Scores, Scores)\n",
    "enriched"
   ]
  },
  {
   "cell_type": "code",
   "execution_count": 29,
   "id": "willing-giant",
   "metadata": {},
   "outputs": [
    {
     "data": {
      "text/plain": [
       "[10, 10, 10, 1, 10, 4]"
      ]
     },
     "execution_count": 29,
     "metadata": {},
     "output_type": "execute_result"
    }
   ],
   "source": [
    "counts"
   ]
  },
  {
   "cell_type": "code",
   "execution_count": 30,
   "id": "limited-volume",
   "metadata": {},
   "outputs": [
    {
     "data": {
      "text/html": [
       "<div>\n",
       "<style scoped>\n",
       "    .dataframe tbody tr th:only-of-type {\n",
       "        vertical-align: middle;\n",
       "    }\n",
       "\n",
       "    .dataframe tbody tr th {\n",
       "        vertical-align: top;\n",
       "    }\n",
       "\n",
       "    .dataframe thead th {\n",
       "        text-align: right;\n",
       "    }\n",
       "</style>\n",
       "<table border=\"1\" class=\"dataframe\">\n",
       "  <thead>\n",
       "    <tr style=\"text-align: right;\">\n",
       "      <th></th>\n",
       "      <th>pathway_name</th>\n",
       "      <th>lig_A</th>\n",
       "      <th>lig_B</th>\n",
       "      <th>rec_A</th>\n",
       "      <th>rec_B</th>\n",
       "      <th>rec_C</th>\n",
       "      <th>lig_A_exp</th>\n",
       "      <th>lig_A_var</th>\n",
       "      <th>lig_B_exp</th>\n",
       "      <th>lig_B_var</th>\n",
       "      <th>rec_A_exp</th>\n",
       "      <th>rec_A_var</th>\n",
       "      <th>rec_B_exp</th>\n",
       "      <th>rec_B_var</th>\n",
       "      <th>rec_C_exp</th>\n",
       "      <th>rec_C_var</th>\n",
       "    </tr>\n",
       "  </thead>\n",
       "  <tbody>\n",
       "    <tr>\n",
       "      <th>645</th>\n",
       "      <td>CCL</td>\n",
       "      <td>CCL19</td>\n",
       "      <td>None</td>\n",
       "      <td>CCR7</td>\n",
       "      <td>None</td>\n",
       "      <td>None</td>\n",
       "      <td>1.7382643</td>\n",
       "      <td>5.539186</td>\n",
       "      <td>NaN</td>\n",
       "      <td>NaN</td>\n",
       "      <td>1.6885129</td>\n",
       "      <td>1.9415792</td>\n",
       "      <td>NaN</td>\n",
       "      <td>NaN</td>\n",
       "      <td>NaN</td>\n",
       "      <td>NaN</td>\n",
       "    </tr>\n",
       "    <tr>\n",
       "      <th>646</th>\n",
       "      <td>CCL</td>\n",
       "      <td>CCL21</td>\n",
       "      <td>None</td>\n",
       "      <td>CCR7</td>\n",
       "      <td>None</td>\n",
       "      <td>None</td>\n",
       "      <td>0.05082678</td>\n",
       "      <td>0.100430116</td>\n",
       "      <td>NaN</td>\n",
       "      <td>NaN</td>\n",
       "      <td>1.6885129</td>\n",
       "      <td>1.9415792</td>\n",
       "      <td>NaN</td>\n",
       "      <td>NaN</td>\n",
       "      <td>NaN</td>\n",
       "      <td>NaN</td>\n",
       "    </tr>\n",
       "    <tr>\n",
       "      <th>711</th>\n",
       "      <td>CXCL</td>\n",
       "      <td>CXCL12</td>\n",
       "      <td>None</td>\n",
       "      <td>CXCR4</td>\n",
       "      <td>None</td>\n",
       "      <td>None</td>\n",
       "      <td>1.4257646</td>\n",
       "      <td>2.7257175</td>\n",
       "      <td>NaN</td>\n",
       "      <td>NaN</td>\n",
       "      <td>1.3560512</td>\n",
       "      <td>1.5149305</td>\n",
       "      <td>NaN</td>\n",
       "      <td>NaN</td>\n",
       "      <td>NaN</td>\n",
       "      <td>NaN</td>\n",
       "    </tr>\n",
       "    <tr>\n",
       "      <th>825</th>\n",
       "      <td>CD137</td>\n",
       "      <td>TNFSF9</td>\n",
       "      <td>None</td>\n",
       "      <td>TNFRSF9</td>\n",
       "      <td>None</td>\n",
       "      <td>None</td>\n",
       "      <td>0.0058077816</td>\n",
       "      <td>0.009628484</td>\n",
       "      <td>NaN</td>\n",
       "      <td>NaN</td>\n",
       "      <td>0.35003668</td>\n",
       "      <td>0.49893814</td>\n",
       "      <td>NaN</td>\n",
       "      <td>NaN</td>\n",
       "      <td>NaN</td>\n",
       "      <td>NaN</td>\n",
       "    </tr>\n",
       "  </tbody>\n",
       "</table>\n",
       "</div>"
      ],
      "text/plain": [
       "    pathway_name   lig_A lig_B    rec_A rec_B rec_C     lig_A_exp  \\\n",
       "645          CCL   CCL19  None     CCR7  None  None     1.7382643   \n",
       "646          CCL   CCL21  None     CCR7  None  None    0.05082678   \n",
       "711         CXCL  CXCL12  None    CXCR4  None  None     1.4257646   \n",
       "825        CD137  TNFSF9  None  TNFRSF9  None  None  0.0058077816   \n",
       "\n",
       "       lig_A_var  lig_B_exp  lig_B_var   rec_A_exp   rec_A_var rec_B_exp  \\\n",
       "645     5.539186        NaN        NaN   1.6885129   1.9415792       NaN   \n",
       "646  0.100430116        NaN        NaN   1.6885129   1.9415792       NaN   \n",
       "711    2.7257175        NaN        NaN   1.3560512   1.5149305       NaN   \n",
       "825  0.009628484        NaN        NaN  0.35003668  0.49893814       NaN   \n",
       "\n",
       "    rec_B_var rec_C_exp rec_C_var  \n",
       "645       NaN       NaN       NaN  \n",
       "646       NaN       NaN       NaN  \n",
       "711       NaN       NaN       NaN  \n",
       "825       NaN       NaN       NaN  "
      ]
     },
     "execution_count": 30,
     "metadata": {},
     "output_type": "execute_result"
    }
   ],
   "source": [
    "LRs_Enriched = LRs_ref.iloc[enriched, :]\n",
    "LRs_Enriched"
   ]
  },
  {
   "cell_type": "code",
   "execution_count": 31,
   "id": "animal-pharmaceutical",
   "metadata": {},
   "outputs": [
    {
     "name": "stdout",
     "output_type": "stream",
     "text": [
      "LR pair: CCL19 - CCR7\n"
     ]
    },
    {
     "data": {
      "image/png": "[encoded data removed]",
      "text/plain": [
       "<Figure size 432x288 with 1 Axes>"
      ]
     },
     "metadata": {
      "needs_background": "light"
     },
     "output_type": "display_data"
    }
   ],
   "source": [
    "vis(orig_Scores, Scores, 0, LRs = LRs_ref)"
   ]
  },
  {
   "cell_type": "code",
   "execution_count": null,
   "id": "periodic-audio",
   "metadata": {},
   "outputs": [],
   "source": []
  },
  {
   "cell_type": "markdown",
   "id": "centered-category",
   "metadata": {},
   "source": [
    "### method2"
   ]
  },
  {
   "cell_type": "code",
   "execution_count": 32,
   "id": "based-triple",
   "metadata": {},
   "outputs": [
    {
     "data": {
      "text/plain": [
       "array([4.10287167e+01, 4.93708070e-01, 1.59591570e+01, 3.89756859e-03,\n",
       "       6.00471665e-03, 3.77685359e-03])"
      ]
     },
     "execution_count": 32,
     "metadata": {},
     "output_type": "execute_result"
    }
   ],
   "source": [
    "orig_Scores2 = Xct_Score(df = LRs_ref, method=1)\n",
    "orig_Scores2"
   ]
  },
  {
   "cell_type": "code",
   "execution_count": 33,
   "id": "interracial-navigation",
   "metadata": {
    "scrolled": true
   },
   "outputs": [
    {
     "data": {
      "text/plain": [
       "(6, 10)"
      ]
     },
     "execution_count": 33,
     "metadata": {},
     "output_type": "execute_result"
    }
   ],
   "source": [
    "np.random.seed(4)\n",
    "Scores2 = Xct_Scores(ada, CellA, CellB, LRs_ref = LRs_ref, s = 1, n=10)\n",
    "Scores2.shape"
   ]
  },
  {
   "cell_type": "code",
   "execution_count": 34,
   "id": "clinical-grenada",
   "metadata": {},
   "outputs": [
    {
     "data": {
      "text/plain": [
       "array([[7.99561214e+00, 4.94968710e+00, 3.62927942e+00, 2.56021628e+00,\n",
       "        5.06667825e+00, 3.75824848e+00, 6.49270873e+00, 5.05144934e+00,\n",
       "        6.08240931e+00, 6.23727422e+00],\n",
       "       [8.91123566e-02, 6.39697537e-02, 4.17997126e-02, 3.47830269e-02,\n",
       "        5.09573679e-02, 5.31666092e-02, 6.97780821e-02, 6.95082744e-02,\n",
       "        8.23157094e-02, 6.66340287e-02],\n",
       "       [1.66097983e+00, 1.86650155e+00, 9.90624763e-01, 1.15417827e+00,\n",
       "        1.27216687e+00, 1.94405530e+00, 2.49357465e+00, 1.76187695e+00,\n",
       "        1.72670307e+00, 1.33963569e+00],\n",
       "       [3.48339114e-02, 2.71246111e-02, 3.56728535e-03, 2.09800592e-02,\n",
       "        2.77970562e-02, 3.45644619e-02, 7.50459070e-02, 2.41742091e-02,\n",
       "        2.08776144e-02, 3.77764904e-02],\n",
       "       [8.47717478e-04, 1.22584804e-03, 2.95784601e-03, 1.10825957e-03,\n",
       "        1.13172189e-03, 9.28306256e-04, 3.70065959e-03, 2.03703728e-03,\n",
       "        2.15252974e-03, 0.00000000e+00],\n",
       "       [3.01150942e-03, 3.52488255e-03, 7.51360919e-03, 2.78488835e-03,\n",
       "        3.96954283e-03, 1.85881940e-03, 9.52845087e-04, 5.28751740e-03,\n",
       "        1.86590546e-03, 1.83710809e-03]])"
      ]
     },
     "execution_count": 34,
     "metadata": {},
     "output_type": "execute_result"
    }
   ],
   "source": [
    "Scores2"
   ]
  },
  {
   "cell_type": "code",
   "execution_count": 35,
   "id": "critical-replication",
   "metadata": {},
   "outputs": [
    {
     "data": {
      "text/plain": [
       "[0, 1, 2, 4]"
      ]
     },
     "execution_count": 35,
     "metadata": {},
     "output_type": "execute_result"
    }
   ],
   "source": [
    "enriched, pvals, counts = Xct_PmtTest(orig_Scores2, Scores2)\n",
    "enriched"
   ]
  },
  {
   "cell_type": "code",
   "execution_count": 36,
   "id": "supreme-revision",
   "metadata": {},
   "outputs": [
    {
     "data": {
      "text/html": [
       "<div>\n",
       "<style scoped>\n",
       "    .dataframe tbody tr th:only-of-type {\n",
       "        vertical-align: middle;\n",
       "    }\n",
       "\n",
       "    .dataframe tbody tr th {\n",
       "        vertical-align: top;\n",
       "    }\n",
       "\n",
       "    .dataframe thead th {\n",
       "        text-align: right;\n",
       "    }\n",
       "</style>\n",
       "<table border=\"1\" class=\"dataframe\">\n",
       "  <thead>\n",
       "    <tr style=\"text-align: right;\">\n",
       "      <th></th>\n",
       "      <th>pathway_name</th>\n",
       "      <th>lig_A</th>\n",
       "      <th>lig_B</th>\n",
       "      <th>rec_A</th>\n",
       "      <th>rec_B</th>\n",
       "      <th>rec_C</th>\n",
       "      <th>lig_A_exp</th>\n",
       "      <th>lig_A_var</th>\n",
       "      <th>lig_B_exp</th>\n",
       "      <th>lig_B_var</th>\n",
       "      <th>rec_A_exp</th>\n",
       "      <th>rec_A_var</th>\n",
       "      <th>rec_B_exp</th>\n",
       "      <th>rec_B_var</th>\n",
       "      <th>rec_C_exp</th>\n",
       "      <th>rec_C_var</th>\n",
       "    </tr>\n",
       "  </thead>\n",
       "  <tbody>\n",
       "    <tr>\n",
       "      <th>645</th>\n",
       "      <td>CCL</td>\n",
       "      <td>CCL19</td>\n",
       "      <td>None</td>\n",
       "      <td>CCR7</td>\n",
       "      <td>None</td>\n",
       "      <td>None</td>\n",
       "      <td>1.7382643</td>\n",
       "      <td>5.539186</td>\n",
       "      <td>NaN</td>\n",
       "      <td>NaN</td>\n",
       "      <td>1.6885129</td>\n",
       "      <td>1.9415792</td>\n",
       "      <td>NaN</td>\n",
       "      <td>NaN</td>\n",
       "      <td>NaN</td>\n",
       "      <td>NaN</td>\n",
       "    </tr>\n",
       "    <tr>\n",
       "      <th>646</th>\n",
       "      <td>CCL</td>\n",
       "      <td>CCL21</td>\n",
       "      <td>None</td>\n",
       "      <td>CCR7</td>\n",
       "      <td>None</td>\n",
       "      <td>None</td>\n",
       "      <td>0.05082678</td>\n",
       "      <td>0.100430116</td>\n",
       "      <td>NaN</td>\n",
       "      <td>NaN</td>\n",
       "      <td>1.6885129</td>\n",
       "      <td>1.9415792</td>\n",
       "      <td>NaN</td>\n",
       "      <td>NaN</td>\n",
       "      <td>NaN</td>\n",
       "      <td>NaN</td>\n",
       "    </tr>\n",
       "    <tr>\n",
       "      <th>711</th>\n",
       "      <td>CXCL</td>\n",
       "      <td>CXCL12</td>\n",
       "      <td>None</td>\n",
       "      <td>CXCR4</td>\n",
       "      <td>None</td>\n",
       "      <td>None</td>\n",
       "      <td>1.4257646</td>\n",
       "      <td>2.7257175</td>\n",
       "      <td>NaN</td>\n",
       "      <td>NaN</td>\n",
       "      <td>1.3560512</td>\n",
       "      <td>1.5149305</td>\n",
       "      <td>NaN</td>\n",
       "      <td>NaN</td>\n",
       "      <td>NaN</td>\n",
       "      <td>NaN</td>\n",
       "    </tr>\n",
       "    <tr>\n",
       "      <th>825</th>\n",
       "      <td>CD137</td>\n",
       "      <td>TNFSF9</td>\n",
       "      <td>None</td>\n",
       "      <td>TNFRSF9</td>\n",
       "      <td>None</td>\n",
       "      <td>None</td>\n",
       "      <td>0.0058077816</td>\n",
       "      <td>0.009628484</td>\n",
       "      <td>NaN</td>\n",
       "      <td>NaN</td>\n",
       "      <td>0.35003668</td>\n",
       "      <td>0.49893814</td>\n",
       "      <td>NaN</td>\n",
       "      <td>NaN</td>\n",
       "      <td>NaN</td>\n",
       "      <td>NaN</td>\n",
       "    </tr>\n",
       "  </tbody>\n",
       "</table>\n",
       "</div>"
      ],
      "text/plain": [
       "    pathway_name   lig_A lig_B    rec_A rec_B rec_C     lig_A_exp  \\\n",
       "645          CCL   CCL19  None     CCR7  None  None     1.7382643   \n",
       "646          CCL   CCL21  None     CCR7  None  None    0.05082678   \n",
       "711         CXCL  CXCL12  None    CXCR4  None  None     1.4257646   \n",
       "825        CD137  TNFSF9  None  TNFRSF9  None  None  0.0058077816   \n",
       "\n",
       "       lig_A_var  lig_B_exp  lig_B_var   rec_A_exp   rec_A_var rec_B_exp  \\\n",
       "645     5.539186        NaN        NaN   1.6885129   1.9415792       NaN   \n",
       "646  0.100430116        NaN        NaN   1.6885129   1.9415792       NaN   \n",
       "711    2.7257175        NaN        NaN   1.3560512   1.5149305       NaN   \n",
       "825  0.009628484        NaN        NaN  0.35003668  0.49893814       NaN   \n",
       "\n",
       "    rec_B_var rec_C_exp rec_C_var  \n",
       "645       NaN       NaN       NaN  \n",
       "646       NaN       NaN       NaN  \n",
       "711       NaN       NaN       NaN  \n",
       "825       NaN       NaN       NaN  "
      ]
     },
     "execution_count": 36,
     "metadata": {},
     "output_type": "execute_result"
    }
   ],
   "source": [
    "LRs_Enriched = LRs_ref.iloc[enriched, :]\n",
    "LRs_Enriched"
   ]
  },
  {
   "cell_type": "code",
   "execution_count": 37,
   "id": "atlantic-praise",
   "metadata": {},
   "outputs": [
    {
     "data": {
      "text/plain": [
       "[10, 10, 10, 1, 10, 7]"
      ]
     },
     "execution_count": 37,
     "metadata": {},
     "output_type": "execute_result"
    }
   ],
   "source": [
    "counts"
   ]
  },
  {
   "cell_type": "code",
   "execution_count": 38,
   "id": "fiscal-browser",
   "metadata": {},
   "outputs": [
    {
     "name": "stdout",
     "output_type": "stream",
     "text": [
      "LR pair: CCL19 - CCR7\n"
     ]
    },
    {
     "data": {
      "image/png": "[encoded data removed]",
      "text/plain": [
       "<Figure size 432x288 with 1 Axes>"
      ]
     },
     "metadata": {
      "needs_background": "light"
     },
     "output_type": "display_data"
    }
   ],
   "source": [
    "vis(orig_Scores2, Scores2, 0, LRs = LRs_ref)"
   ]
  },
  {
   "cell_type": "code",
   "execution_count": null,
   "id": "printable-modification",
   "metadata": {},
   "outputs": [],
   "source": []
  }
 ],
 "metadata": {
  "kernelspec": {
   "display_name": "Python 3",
   "language": "python",
   "name": "python3"
  },
  "language_info": {
   "codemirror_mode": {
    "name": "ipython",
    "version": 3
   },
   "file_extension": ".py",
   "mimetype": "text/x-python",
   "name": "python",
   "nbconvert_exporter": "python",
   "pygments_lexer": "ipython3",
   "version": "3.8.5"
  }
 },
 "nbformat": 4,
 "nbformat_minor": 5
}
