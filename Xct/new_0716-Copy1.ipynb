{
 "cells": [
  {
   "cell_type": "code",
   "execution_count": null,
   "id": "6aa4b468",
   "metadata": {},
   "outputs": [],
   "source": [
    "# with open('./GX/pcNet.py') as pcNet:\n",
    "#     exec(pcNet.read())"
   ]
  },
  {
   "cell_type": "code",
   "execution_count": null,
   "id": "cc65f418",
   "metadata": {},
   "outputs": [],
   "source": [
    "import numpy as np\n",
    "import pandas as pd\n",
    "import matplotlib.pyplot as plt\n",
    "import scanpy as sc\n",
    "sc.settings.verbosity = 0\n",
    "from anndata import AnnData\n",
    "import scipy\n",
    "from numpy.linalg import svd\n",
    "\n",
    "\n",
    "import warnings\n",
    "warnings.filterwarnings(\"ignore\")\n"
   ]
  },
  {
   "cell_type": "code",
   "execution_count": null,
   "id": "320ac54c",
   "metadata": {},
   "outputs": [],
   "source": [
    "try:\n",
    "    from sys import path as syspath\n",
    "    from os import path as ospath\n",
    "    syspath.append(ospath.join(ospath.expanduser(\"~\"), 'Downloads/Xct/GX/'))\n",
    "    \n",
    "    from pcNet import pcNet\n",
    "    from main import *\n",
    "    import dNN \n",
    "    \n",
    "except ImportError:\n",
    "    print('Module not found')"
   ]
  },
  {
   "cell_type": "code",
   "execution_count": null,
   "id": "f773845f",
   "metadata": {},
   "outputs": [],
   "source": []
  },
  {
   "cell_type": "code",
   "execution_count": null,
   "id": "f4d37bd9",
   "metadata": {},
   "outputs": [],
   "source": [
    "ada = sc.read_h5ad(\"LS.h5ad\")\n",
    "ada"
   ]
  },
  {
   "cell_type": "code",
   "execution_count": null,
   "id": "6c0ea3fd",
   "metadata": {},
   "outputs": [],
   "source": [
    "data = csr_matrix.toarray(ada.X)\n",
    "counts = np.asarray(np.expm1(data), dtype=int)\n",
    "ada.layers['raw'] = counts\n",
    "ada.layers['log1p'] = data"
   ]
  },
  {
   "cell_type": "code",
   "execution_count": null,
   "id": "d33d9151",
   "metadata": {},
   "outputs": [],
   "source": [
    "#ada.X = ada.layers['log1p']"
   ]
  },
  {
   "cell_type": "code",
   "execution_count": null,
   "id": "9234be8b",
   "metadata": {},
   "outputs": [],
   "source": [
    "#sc.pp.highly_variable_genes(ada, n_top_genes=3000, flavor='seurat_v3')"
   ]
  },
  {
   "cell_type": "code",
   "execution_count": null,
   "id": "ff3a697b",
   "metadata": {},
   "outputs": [],
   "source": [
    "ada.var.head()"
   ]
  },
  {
   "cell_type": "code",
   "execution_count": null,
   "id": "ab62db24",
   "metadata": {},
   "outputs": [],
   "source": [
    "plt.hist(ada.var['vst.mean'], bins=100, density=False)\n",
    "plt.show()"
   ]
  },
  {
   "cell_type": "code",
   "execution_count": null,
   "id": "679c6380",
   "metadata": {},
   "outputs": [],
   "source": [
    "plt.hist(ada.var['vst.variance.standardized'], bins=100, density=False)\n",
    "plt.show()"
   ]
  },
  {
   "cell_type": "markdown",
   "id": "3d980970",
   "metadata": {},
   "source": [
    "### HVG: Seurat v3"
   ]
  },
  {
   "cell_type": "code",
   "execution_count": null,
   "id": "0127571f",
   "metadata": {},
   "outputs": [],
   "source": [
    "HVG_i = np.argsort(np.asarray(ada.var['vst.variance.standardized']))[-3000:]\n",
    "ada = ada[:, HVG_i].copy()\n",
    "ada"
   ]
  },
  {
   "cell_type": "code",
   "execution_count": null,
   "id": "3bafe4fa",
   "metadata": {},
   "outputs": [],
   "source": [
    "ada.var.head()"
   ]
  },
  {
   "cell_type": "code",
   "execution_count": null,
   "id": "7a12299c",
   "metadata": {},
   "outputs": [],
   "source": [
    "plt.hist(ada.var['vst.mean'], bins=100, density=False)\n",
    "plt.show()"
   ]
  },
  {
   "cell_type": "code",
   "execution_count": null,
   "id": "a5f23639",
   "metadata": {},
   "outputs": [],
   "source": [
    "plt.hist(ada.var['vst.variance.standardized'], bins=100, density=False)\n",
    "plt.show()"
   ]
  },
  {
   "cell_type": "markdown",
   "id": "bc4cb904",
   "metadata": {},
   "source": [
    "### Xct object"
   ]
  },
  {
   "cell_type": "code",
   "execution_count": null,
   "id": "b2312762",
   "metadata": {},
   "outputs": [],
   "source": [
    "skin = Xct_metrics(ada)\n",
    "type(skin)"
   ]
  },
  {
   "cell_type": "code",
   "execution_count": null,
   "id": "68275a24",
   "metadata": {},
   "outputs": [],
   "source": []
  },
  {
   "cell_type": "code",
   "execution_count": null,
   "id": "29c36bfc",
   "metadata": {},
   "outputs": [],
   "source": [
    "skin.chen2016_fit(ada, plot = True, verbose = True)"
   ]
  },
  {
   "cell_type": "code",
   "execution_count": null,
   "id": "fc6454a0",
   "metadata": {},
   "outputs": [],
   "source": [
    "obj1 = Xct(ada, 'Inflam. FIB', 'Inflam. DC')\n",
    "df1 = obj1.fill_metric()\n",
    "df1"
   ]
  },
  {
   "cell_type": "code",
   "execution_count": null,
   "id": "444a86f6",
   "metadata": {},
   "outputs": [],
   "source": [
    "dir(obj1) #check attributes"
   ]
  },
  {
   "cell_type": "code",
   "execution_count": null,
   "id": "225b6f25",
   "metadata": {},
   "outputs": [],
   "source": [
    "obj1.score(method=0)"
   ]
  },
  {
   "cell_type": "code",
   "execution_count": null,
   "id": "d4fc12d2",
   "metadata": {},
   "outputs": [],
   "source": [
    "np.random.seed(1)\n",
    "\n",
    "orig_score0 = np.asarray(obj1.score(method=0))\n",
    "pmt_scores0 = scores(ada, obj1, n=10)\n",
    "#pmt_scores0.shape\n",
    "enriched, pvals, counts = pmt_test(orig_score0, pmt_scores0)\n",
    "enriched, counts"
   ]
  },
  {
   "cell_type": "code",
   "execution_count": null,
   "id": "dc6c833b",
   "metadata": {},
   "outputs": [],
   "source": [
    "df_enriched = df1.iloc[enriched, :]\n",
    "df_enriched"
   ]
  },
  {
   "cell_type": "code",
   "execution_count": null,
   "id": "291c4c5c",
   "metadata": {},
   "outputs": [],
   "source": []
  },
  {
   "cell_type": "code",
   "execution_count": null,
   "id": "e0a678eb",
   "metadata": {},
   "outputs": [],
   "source": [
    "ada.obs.head()"
   ]
  },
  {
   "cell_type": "code",
   "execution_count": null,
   "id": "b1ad094b",
   "metadata": {},
   "outputs": [],
   "source": [
    "CellA = 'Inflam. FIB' \n",
    "CellB = 'Inflam. DC'\n",
    "ada_A = ada[ada.obs['ident'] == CellA, :].copy()\n",
    "ada_B = ada[ada.obs['ident'] == CellB, :].copy()\n",
    "ada_A, ada_B"
   ]
  },
  {
   "cell_type": "code",
   "execution_count": null,
   "id": "6a78bb30",
   "metadata": {},
   "outputs": [],
   "source": []
  },
  {
   "cell_type": "markdown",
   "id": "b09c28d6",
   "metadata": {},
   "source": [
    "### w"
   ]
  },
  {
   "cell_type": "code",
   "execution_count": null,
   "id": "a96e19a2",
   "metadata": {},
   "outputs": [],
   "source": [
    "# net_A = pcNet(ada_A.X, nComp=5, symmetric=True)\n",
    "# net_B = pcNet(ada_B.X, nComp=5, symmetric=True)\n",
    "# net_A.shape, net_B.shape"
   ]
  },
  {
   "cell_type": "code",
   "execution_count": null,
   "id": "f3755dc4",
   "metadata": {},
   "outputs": [],
   "source": [
    "# np.savetxt(\"net_A.csv\", net_A, delimiter=\"\\t\")\n",
    "# np.savetxt(\"net_B.csv\", net_B, delimiter=\"\\t\")\n",
    "net_A = np.genfromtxt('./GX/net_A.csv', delimiter=\"\\t\")\n",
    "net_B = np.genfromtxt('./GX/net_B.csv', delimiter=\"\\t\")\n",
    "net_A.shape, net_B.shape"
   ]
  },
  {
   "cell_type": "code",
   "execution_count": null,
   "id": "faddc671",
   "metadata": {},
   "outputs": [],
   "source": [
    "obj1._metric_A.shape, obj1._metric_B.shape"
   ]
  },
  {
   "cell_type": "code",
   "execution_count": null,
   "id": "c4c0aad7",
   "metadata": {},
   "outputs": [],
   "source": [
    "# u^2 + var\n",
    "metric_A_temp = (np.square(obj1._metric_A[0]) + obj1._metric_A[1])[:, None] \n",
    "metric_B_temp = (np.square(obj1._metric_B[0]) + obj1._metric_B[1])[None, :] \n",
    "print(metric_A_temp.shape, metric_B_temp.shape)\n",
    "\n",
    "w12 = metric_A_temp@metric_B_temp\n",
    "w12.shape"
   ]
  },
  {
   "cell_type": "code",
   "execution_count": null,
   "id": "3a493abe",
   "metadata": {},
   "outputs": [],
   "source": [
    "w12"
   ]
  },
  {
   "cell_type": "code",
   "execution_count": null,
   "id": "9bd4dc16",
   "metadata": {},
   "outputs": [],
   "source": [
    "# w = np.block([[net_A+1, w12],\n",
    "#             [w12.T, net_B+1]])\n",
    "# w.shape"
   ]
  },
  {
   "cell_type": "markdown",
   "id": "758a03dd",
   "metadata": {},
   "source": [
    "#### scale w:"
   ]
  },
  {
   "cell_type": "code",
   "execution_count": null,
   "id": "e3c87d8b",
   "metadata": {},
   "outputs": [],
   "source": [
    "num = 0.1 * (np.sum(abs(net_A+1)) + np.sum(abs(net_B+1))) / (len(net_A) + len(net_B))\n",
    "w12_scale = w12*num\n",
    "num"
   ]
  },
  {
   "cell_type": "code",
   "execution_count": null,
   "id": "4263b13d",
   "metadata": {},
   "outputs": [],
   "source": [
    "w = np.block([[net_A +1, w12_scale],\n",
    "            [w12_scale.T, net_B +1]])\n",
    "w.shape"
   ]
  },
  {
   "cell_type": "code",
   "execution_count": null,
   "id": "2fa35f6e",
   "metadata": {},
   "outputs": [],
   "source": []
  },
  {
   "cell_type": "markdown",
   "id": "50854b74",
   "metadata": {},
   "source": [
    "### eigen"
   ]
  },
  {
   "cell_type": "code",
   "execution_count": null,
   "id": "0949ac4c",
   "metadata": {},
   "outputs": [],
   "source": [
    "# w_test = np.array([[1, 0, 3, 2], [1, 1, 0, 0], [5, 0, 2, 1], [1, 0, 0, 1]])\n",
    "# w_test = (w_test + w_test.T)//2\n",
    "# w_test"
   ]
  },
  {
   "cell_type": "code",
   "execution_count": null,
   "id": "f244a01f",
   "metadata": {},
   "outputs": [],
   "source": [
    "def Manifold_Align(w, d = 3):\n",
    "    \n",
    "    def is_symmetric(a, rtol=1e-05, atol=1e-08):\n",
    "        return np.allclose(a, a.T, rtol=rtol, atol=atol)\n",
    "    \n",
    "    if not is_symmetric(w):\n",
    "        raise ValueError('Input should be a symmetric matrix')\n",
    "    else:\n",
    "        L = laplacian(w, normed=False)\n",
    "        U, s, VT = svd(L, full_matrices=True) \n",
    "        #print ('U:', U.shape, 's:', s.shape, 'VT:', VT.shape)\n",
    "        V = VT.T\n",
    "        V = V[:, s > 1e-4]\n",
    "        #print('V:', V.shape)\n",
    "        V = V[:, :d]\n",
    "    \n",
    "        return V\n"
   ]
  },
  {
   "cell_type": "code",
   "execution_count": null,
   "id": "2816355c",
   "metadata": {},
   "outputs": [],
   "source": [
    "MA = Manifold_Align(w, d=3)\n",
    "MA.shape"
   ]
  },
  {
   "cell_type": "code",
   "execution_count": null,
   "id": "fc9c4c9d",
   "metadata": {},
   "outputs": [],
   "source": [
    "def pair_distance(ma, genelist1, genelist2):\n",
    "    d = {}\n",
    "    for i, l in enumerate(genelist1):\n",
    "        for j, r in enumerate(genelist2):\n",
    "            d[f'{l}_{r}'] = np.linalg.norm(ma[i, :] - ma[len(genelist1) + j, :])\n",
    "    \n",
    "    return d"
   ]
  },
  {
   "cell_type": "code",
   "execution_count": null,
   "id": "63c6d274",
   "metadata": {},
   "outputs": [],
   "source": [
    "result_eig = pair_distance(MA, list(ada_A.var_names.astype(str)), list(ada_B.var_names.astype(str)))\n",
    "len(result_eig)"
   ]
  },
  {
   "cell_type": "code",
   "execution_count": null,
   "id": "eae4c18a",
   "metadata": {},
   "outputs": [],
   "source": [
    "plt.hist(result_eig.values(), bins=100)\n",
    "plt.show()"
   ]
  },
  {
   "cell_type": "code",
   "execution_count": null,
   "id": "53c85e13",
   "metadata": {},
   "outputs": [],
   "source": [
    "#pd.DataFrame.from_dict(result_eig, orient='index').to_csv('distances_eig.csv', header=None)"
   ]
  },
  {
   "cell_type": "code",
   "execution_count": null,
   "id": "2e32e5f8",
   "metadata": {},
   "outputs": [],
   "source": [
    "df_eig = pd.DataFrame.from_dict(result_eig, orient='index', columns=['dist']).sort_values(by=['dist'])\n",
    "df_eig['rank'] = np.arange(len(df_eig))\n",
    "df_eig.head()"
   ]
  },
  {
   "cell_type": "code",
   "execution_count": null,
   "id": "3f5caa62",
   "metadata": {},
   "outputs": [],
   "source": [
    "df_eig.loc['CCL19_CCR7']"
   ]
  },
  {
   "cell_type": "code",
   "execution_count": null,
   "id": "ad827fe0",
   "metadata": {},
   "outputs": [],
   "source": [
    "np.percentile(np.asarray(df_eig['dist']), 95)"
   ]
  },
  {
   "cell_type": "markdown",
   "id": "ec6ec861",
   "metadata": {},
   "source": [
    "### NN"
   ]
  },
  {
   "cell_type": "code",
   "execution_count": null,
   "id": "e36539e2",
   "metadata": {},
   "outputs": [],
   "source": [
    "x1_np = scipy.sparse.csr_matrix.toarray(ada_A.X.T) #gene by cell\n",
    "x2_np = scipy.sparse.csr_matrix.toarray(ada_B.X.T)"
   ]
  },
  {
   "cell_type": "code",
   "execution_count": null,
   "id": "6c31f75b",
   "metadata": {
    "scrolled": true
   },
   "outputs": [],
   "source": [
    "n = 3000\n",
    "lr = 0.001\n",
    "\n",
    "projections, losses = dNN.train_and_project(x1_np, x2_np, w=w, n=n, lr=lr)"
   ]
  },
  {
   "cell_type": "code",
   "execution_count": null,
   "id": "d3f7c207",
   "metadata": {},
   "outputs": [],
   "source": [
    "plt.figure(figsize=(6, 5), dpi=80)\n",
    "\n",
    "plt.plot(np.arange(len(losses))*100, losses)\n",
    "#plt.savefig('fig.png', dpi=80)\n",
    "plt.show()"
   ]
  },
  {
   "cell_type": "code",
   "execution_count": null,
   "id": "65e7ae9b",
   "metadata": {},
   "outputs": [],
   "source": [
    "df_proj = pd.DataFrame(projections)\n",
    "\n",
    "df_proj.index = list(ada_A.var_names) + list(ada_B.var_names)\n",
    "df_proj.head()"
   ]
  },
  {
   "cell_type": "code",
   "execution_count": null,
   "id": "bc37cc92",
   "metadata": {},
   "outputs": [],
   "source": [
    "result_nn = pair_distance(projections, list(ada_A.var_names.astype(str)), list(ada_B.var_names.astype(str)))\n",
    "len(result_nn)"
   ]
  },
  {
   "cell_type": "code",
   "execution_count": null,
   "id": "b02805f4",
   "metadata": {},
   "outputs": [],
   "source": [
    "plt.hist(result_nn.values(), bins=100)\n",
    "plt.show()"
   ]
  },
  {
   "cell_type": "code",
   "execution_count": null,
   "id": "4fcc5c7d",
   "metadata": {},
   "outputs": [],
   "source": [
    "#pd.DataFrame.from_dict(result_nn, orient='index').to_csv('distances_nn.csv', header=None)"
   ]
  },
  {
   "cell_type": "code",
   "execution_count": null,
   "id": "f1a9df0e",
   "metadata": {},
   "outputs": [],
   "source": [
    "df_nn = pd.DataFrame.from_dict(result_nn, orient='index', columns=['dist']).sort_values(by=['dist'])\n",
    "df_nn['rank'] = np.arange(len(df_nn))\n",
    "df_nn.head()"
   ]
  },
  {
   "cell_type": "code",
   "execution_count": null,
   "id": "5d5a1138",
   "metadata": {},
   "outputs": [],
   "source": [
    "df_nn.loc['CCL19_CCR7']"
   ]
  },
  {
   "cell_type": "code",
   "execution_count": null,
   "id": "b6161f21",
   "metadata": {},
   "outputs": [],
   "source": [
    "np.percentile(np.asarray(df_nn['dist']), 5)"
   ]
  },
  {
   "cell_type": "code",
   "execution_count": null,
   "id": "f275925f",
   "metadata": {},
   "outputs": [],
   "source": []
  }
 ],
 "metadata": {
  "kernelspec": {
   "display_name": "Python 3",
   "language": "python",
   "name": "python3"
  },
  "language_info": {
   "codemirror_mode": {
    "name": "ipython",
    "version": 3
   },
   "file_extension": ".py",
   "mimetype": "text/x-python",
   "name": "python",
   "nbconvert_exporter": "python",
   "pygments_lexer": "ipython3",
   "version": "3.9.4"
  }
 },
 "nbformat": 4,
 "nbformat_minor": 5
}
