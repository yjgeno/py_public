{
 "cells": [
  {
   "cell_type": "code",
   "execution_count": 1,
   "id": "republican-bolivia",
   "metadata": {},
   "outputs": [],
   "source": [
    "import numpy as np\n",
    "import pandas as pd\n",
    "import matplotlib.pyplot as plt\n",
    "import scanpy as sc\n",
    "from anndata import AnnData\n",
    "import anndata2ri"
   ]
  },
  {
   "cell_type": "code",
   "execution_count": 2,
   "id": "invisible-ozone",
   "metadata": {},
   "outputs": [
    {
     "name": "stderr",
     "output_type": "stream",
     "text": [
      "C:\\Users\\yjyang027\\Miniconda3\\lib\\site-packages\\rpy2\\robjects\\packages.py:366: UserWarning: The symbol 'quartz' is not in this R namespace/package.\n",
      "  warnings.warn(\n"
     ]
    }
   ],
   "source": [
    "import warnings\n",
    "anndata2ri.activate()\n",
    "%load_ext rpy2.ipython\n",
    "\n",
    "sc.settings.verbosity = 0\n",
    "warnings.filterwarnings(\"ignore\")"
   ]
  },
  {
   "cell_type": "code",
   "execution_count": 3,
   "id": "departmental-tradition",
   "metadata": {
    "scrolled": true
   },
   "outputs": [],
   "source": [
    "LR = pd.read_csv('https://raw.githubusercontent.com/yjgeno/Ligand-Receptor-Pairs/master/Human/Human-2020-Jin-LR-pairs.csv')\n",
    "#LR.head()"
   ]
  },
  {
   "cell_type": "code",
   "execution_count": 4,
   "id": "moderate-being",
   "metadata": {},
   "outputs": [
    {
     "data": {
      "text/plain": [
       "(2005, 11)"
      ]
     },
     "execution_count": 4,
     "metadata": {},
     "output_type": "execute_result"
    }
   ],
   "source": [
    "LR.shape"
   ]
  },
  {
   "cell_type": "code",
   "execution_count": 5,
   "id": "humanitarian-estate",
   "metadata": {},
   "outputs": [],
   "source": [
    "receptors = LR['receptor'].str.split('_', expand=True)\n",
    "receptors.columns = ['rec_A', 'rec_B', 'rec_C']"
   ]
  },
  {
   "cell_type": "code",
   "execution_count": 6,
   "id": "functional-quality",
   "metadata": {},
   "outputs": [
    {
     "data": {
      "text/html": [
       "<div>\n",
       "<style scoped>\n",
       "    .dataframe tbody tr th:only-of-type {\n",
       "        vertical-align: middle;\n",
       "    }\n",
       "\n",
       "    .dataframe tbody tr th {\n",
       "        vertical-align: top;\n",
       "    }\n",
       "\n",
       "    .dataframe thead th {\n",
       "        text-align: right;\n",
       "    }\n",
       "</style>\n",
       "<table border=\"1\" class=\"dataframe\">\n",
       "  <thead>\n",
       "    <tr style=\"text-align: right;\">\n",
       "      <th></th>\n",
       "      <th>pathway_name</th>\n",
       "      <th>ligand</th>\n",
       "      <th>rec_A</th>\n",
       "      <th>rec_B</th>\n",
       "      <th>rec_C</th>\n",
       "    </tr>\n",
       "  </thead>\n",
       "  <tbody>\n",
       "    <tr>\n",
       "      <th>0</th>\n",
       "      <td>TGFb</td>\n",
       "      <td>TGFB1</td>\n",
       "      <td>TGFbR1</td>\n",
       "      <td>R2</td>\n",
       "      <td>None</td>\n",
       "    </tr>\n",
       "    <tr>\n",
       "      <th>1</th>\n",
       "      <td>TGFb</td>\n",
       "      <td>TGFB2</td>\n",
       "      <td>TGFbR1</td>\n",
       "      <td>R2</td>\n",
       "      <td>None</td>\n",
       "    </tr>\n",
       "    <tr>\n",
       "      <th>2</th>\n",
       "      <td>TGFb</td>\n",
       "      <td>TGFB3</td>\n",
       "      <td>TGFbR1</td>\n",
       "      <td>R2</td>\n",
       "      <td>None</td>\n",
       "    </tr>\n",
       "    <tr>\n",
       "      <th>3</th>\n",
       "      <td>TGFb</td>\n",
       "      <td>TGFB1</td>\n",
       "      <td>ACVR1B</td>\n",
       "      <td>TGFbR2</td>\n",
       "      <td>None</td>\n",
       "    </tr>\n",
       "    <tr>\n",
       "      <th>4</th>\n",
       "      <td>TGFb</td>\n",
       "      <td>TGFB1</td>\n",
       "      <td>ACVR1C</td>\n",
       "      <td>TGFbR2</td>\n",
       "      <td>None</td>\n",
       "    </tr>\n",
       "  </tbody>\n",
       "</table>\n",
       "</div>"
      ],
      "text/plain": [
       "  pathway_name ligand   rec_A   rec_B rec_C\n",
       "0         TGFb  TGFB1  TGFbR1      R2  None\n",
       "1         TGFb  TGFB2  TGFbR1      R2  None\n",
       "2         TGFb  TGFB3  TGFbR1      R2  None\n",
       "3         TGFb  TGFB1  ACVR1B  TGFbR2  None\n",
       "4         TGFb  TGFB1  ACVR1C  TGFbR2  None"
      ]
     },
     "execution_count": 6,
     "metadata": {},
     "output_type": "execute_result"
    }
   ],
   "source": [
    "LRs = pd.concat([LR[['pathway_name', 'ligand']], receptors], axis=1)\n",
    "LRs.head()"
   ]
  },
  {
   "cell_type": "code",
   "execution_count": 7,
   "id": "cloudy-steel",
   "metadata": {},
   "outputs": [],
   "source": [
    "#iFIB[:, iFIB.var_names.isin(['CXCL12'])].shape"
   ]
  },
  {
   "cell_type": "code",
   "execution_count": 8,
   "id": "embedded-astrology",
   "metadata": {},
   "outputs": [
    {
     "name": "stderr",
     "output_type": "stream",
     "text": [
      "R[write to console]: Attaching SeuratObject\n",
      "\n"
     ]
    }
   ],
   "source": [
    "%%R\n",
    "\n",
    "library(Seurat)"
   ]
  },
  {
   "cell_type": "code",
   "execution_count": 9,
   "id": "nervous-hungarian",
   "metadata": {},
   "outputs": [],
   "source": [
    "%%R\n",
    "\n",
    "load(url(\"https://ndownloader.figshare.com/files/25950872\")) \n",
    "data.input = data_humanSkin$data # input normalized data matrix\n",
    "meta = data_humanSkin$meta # a dataframe of cell metadata"
   ]
  },
  {
   "cell_type": "code",
   "execution_count": 10,
   "id": "contained-cambodia",
   "metadata": {},
   "outputs": [],
   "source": [
    "%%R -o labels\n",
    "\n",
    "cell.use = rownames(meta)[meta$condition == \"LS\"] # extract the cell names from disease data\n",
    "data.input = data.input[, cell.use]\n",
    "meta = meta[cell.use, ]\n",
    "labels <- as.vector(meta$labels)\n",
    "#unique(meta$labels) # check the cell labels"
   ]
  },
  {
   "cell_type": "code",
   "execution_count": 11,
   "id": "utility-honduras",
   "metadata": {},
   "outputs": [
    {
     "data": {
      "image/png": "[encoded data removed]"
     },
     "metadata": {},
     "output_type": "display_data"
    }
   ],
   "source": [
    "%%R \n",
    "\n",
    "set.seed(42)\n",
    "LS <- CreateSeuratObject(data.input, project = 'LS', meta.data = meta)\n",
    "Idents(LS) <- LS$labels\n",
    "LS <- FindVariableFeatures(LS, nfeatures=2500, verbose = F)\n",
    "LS <- ScaleData(LS, verbose = F) \n",
    "LS <- RunPCA(LS, verbose = F)\n",
    "LS <- RunTSNE(LS)\n",
    "TSNEPlot(LS)\n",
    "#VariableFeaturePlot(object = LS)"
   ]
  },
  {
   "cell_type": "code",
   "execution_count": 12,
   "id": "vital-latin",
   "metadata": {},
   "outputs": [
    {
     "name": "stderr",
     "output_type": "stream",
     "text": [
      "R[write to console]: When using repel, set xnudge and ynudge to 0 for optimal results\n",
      "\n"
     ]
    },
    {
     "data": {
      "image/png": "[encoded data removed]"
     },
     "metadata": {},
     "output_type": "display_data"
    }
   ],
   "source": [
    "%%R\n",
    "top <- head(VariableFeatures(LS), 50)\n",
    "#png('HVG_examples.png', width = 4000, height = 4000, res = 300)\n",
    "plot1 <- VariableFeaturePlot(object = LS)\n",
    "LabelPoints(plot = plot1, points = c('WNT10A', 'FZD4'), repel = TRUE, xnudge=0.3, ynudge=0.5, max.overlaps = Inf)\n",
    "\n",
    "#CombinePlots(plots = list(plot1, plot2))\n",
    "#dev.off()"
   ]
  },
  {
   "cell_type": "code",
   "execution_count": 13,
   "id": "generous-timber",
   "metadata": {},
   "outputs": [],
   "source": [
    "%%R -o counts -o HVGenes -o Genes -o Cells\n",
    "\n",
    "counts <- GetAssayData(LS, slot = 'data')\n",
    "Genes <- rownames(counts)\n",
    "HVGenes <- rownames(GetAssayData(LS, slot = 'scale.data'))\n",
    "Cells <- colnames(counts)\n"
   ]
  },
  {
   "cell_type": "code",
   "execution_count": 14,
   "id": "prescribed-storm",
   "metadata": {},
   "outputs": [],
   "source": [
    "%%R -o LS\n",
    "\n",
    "LS <- as.SingleCellExperiment(LS)"
   ]
  },
  {
   "cell_type": "code",
   "execution_count": 15,
   "id": "varying-tribune",
   "metadata": {},
   "outputs": [],
   "source": [
    "from scipy.sparse import csr_matrix\n",
    "counts = csr_matrix.toarray(counts)"
   ]
  },
  {
   "cell_type": "code",
   "execution_count": 16,
   "id": "accomplished-subcommittee",
   "metadata": {},
   "outputs": [
    {
     "data": {
      "text/plain": [
       "(17328, 5011)"
      ]
     },
     "execution_count": 16,
     "metadata": {},
     "output_type": "execute_result"
    }
   ],
   "source": [
    "counts.shape"
   ]
  },
  {
   "cell_type": "markdown",
   "id": "generous-marijuana",
   "metadata": {},
   "source": [
    "### log data"
   ]
  },
  {
   "cell_type": "code",
   "execution_count": 17,
   "id": "vanilla-payroll",
   "metadata": {},
   "outputs": [
    {
     "data": {
      "text/plain": [
       "AnnData object with n_obs × n_vars = 5011 × 2500\n",
       "    obs: 'barcodes', 'ident'\n",
       "    var: 'gene_symbols'"
      ]
     },
     "execution_count": 17,
     "metadata": {},
     "output_type": "execute_result"
    }
   ],
   "source": [
    "ada = AnnData(counts.T)\n",
    "ada.obs['barcodes'] = np.array(Cells)\n",
    "ada.obs['ident'] = np.array(labels)\n",
    "ada.var['gene_symbols'] = np.array(Genes)\n",
    "\n",
    "ada.obs_names = ada.obs['barcodes']\n",
    "ada.var_names = ada.var['gene_symbols']\n",
    "#print(ada.isview)\n",
    "ada = ada[:, ada.var_names.isin(HVGenes)].copy() #Not ArrayView\n",
    "\n",
    "ada"
   ]
  },
  {
   "cell_type": "markdown",
   "id": "efficient-inspiration",
   "metadata": {},
   "source": [
    "### Xct"
   ]
  },
  {
   "cell_type": "code",
   "execution_count": 18,
   "id": "following-briefing",
   "metadata": {},
   "outputs": [
    {
     "data": {
      "text/plain": [
       "array(['Inflam. FIB', 'FBN1+ FIB', 'APOE+ FIB', 'COL11A1+ FIB', 'cDC2',\n",
       "       'LC', 'Inflam. DC', 'cDC1', 'CD40LG+ TC', 'Inflam. TC', 'TC',\n",
       "       'NKT'], dtype=object)"
      ]
     },
     "execution_count": 18,
     "metadata": {},
     "output_type": "execute_result"
    }
   ],
   "source": [
    "ada.obs['ident'].unique()"
   ]
  },
  {
   "cell_type": "code",
   "execution_count": 19,
   "id": "cognitive-controversy",
   "metadata": {},
   "outputs": [],
   "source": [
    "CellA = 'Inflam. FIB'\n",
    "CellB = 'Inflam. DC'"
   ]
  },
  {
   "cell_type": "code",
   "execution_count": 20,
   "id": "banned-mailing",
   "metadata": {},
   "outputs": [],
   "source": [
    "def XctInfo(CellA, CellB, permute = False, verbose = False):\n",
    "    result = {}\n",
    "    AB = ada[ada.obs['ident'].isin([CellA, CellB]), :]\n",
    "    \n",
    "    if permute:\n",
    "        #np.random.seed(42)\n",
    "        labels_pmt = np.random.permutation(AB.obs['ident'])\n",
    "        AB.obs['ident'] = labels_pmt\n",
    "        if verbose:\n",
    "            print('Cell A and B permutated')\n",
    "    #print(AB.obs['ident'][:30].unique(), AB.obs['ident'][-30:].unique()) #check\n",
    "            \n",
    "    A = AB[AB.obs['ident'] == CellA, :]\n",
    "    B = AB[AB.obs['ident'] == CellB, :]\n",
    "    #print(A.shape, B.shape)\n",
    "   \n",
    "    l_exp = []\n",
    "    l_var = []\n",
    "    for l in LRs['ligand']:\n",
    "        if l not in np.array(A.var_names):\n",
    "            l_exp.append(np.nan)\n",
    "            l_var.append(np.nan)\n",
    "        else:\n",
    "            l_exp.append(np.mean(A[:, A.var_names.isin([l])].X))\n",
    "            l_var.append(np.var(A[:, A.var_names.isin([l])].X))\n",
    "    result['l_exp'] = l_exp\n",
    "    result['l_var'] = l_var\n",
    "    \n",
    "    for rec in ['rec_A', 'rec_B', 'rec_C']:\n",
    "        r_exp = []\n",
    "        r_var = []\n",
    "        for r in LRs[rec]:\n",
    "            if r not in np.array(B.var_names):\n",
    "                r_exp.append(np.nan)\n",
    "                r_var.append(np.nan)\n",
    "            else:\n",
    "                r_exp.append(np.mean(B[:, B.var_names.isin([r])].X)) #mean expression of L and R\n",
    "                r_var.append(np.var(B[:, B.var_names.isin([r])].X))\n",
    "        result['{}_exp'.format(rec)] = r_exp\n",
    "        result['{}_var'.format(rec)] = r_var\n",
    "    \n",
    "    return result\n",
    "        "
   ]
  },
  {
   "cell_type": "code",
   "execution_count": 21,
   "id": "usual-airplane",
   "metadata": {},
   "outputs": [],
   "source": [
    "def XctSelection(dict_AB, IsPmt = False, verbose = False): # if input is permutated dataset\n",
    "    LRs_Xct = LRs.copy()  \n",
    "    LRs_Xct = pd.concat([LRs_Xct, pd.DataFrame.from_dict(dict_AB)], axis=1)\n",
    "    \n",
    "    mask1 = np.invert(LRs_Xct[['l_exp', 'rec_A_exp']].isna().any(axis=1)) # remove NA\n",
    "    LRs_Xct = LRs_Xct[mask1]\n",
    "    if not IsPmt:\n",
    "        mask2 = (LRs_Xct['l_exp'] > 0) & (LRs_Xct['rec_A_exp'] > 0) # remove 0 for original LR\n",
    "        LRs_Xct = LRs_Xct[mask2]\n",
    "    if verbose:\n",
    "        print('Selected {} LR pairs'.format(LRs_Xct.shape[0]))\n",
    "    \n",
    "    LRs_Xct['rec_exp'] = LRs_Xct[['rec_A_exp', 'rec_B_exp', 'rec_C_exp']].max(axis=1) #mean for R\n",
    "    LRs_Xct['rec_var'] = LRs_Xct[['rec_A_var', 'rec_B_var', 'rec_C_var']].max(axis=1) #var for R\n",
    "     \n",
    "    return LRs_Xct\n"
   ]
  },
  {
   "cell_type": "code",
   "execution_count": null,
   "id": "comfortable-timber",
   "metadata": {},
   "outputs": [],
   "source": []
  },
  {
   "cell_type": "markdown",
   "id": "informed-invite",
   "metadata": {},
   "source": [
    "### test run"
   ]
  },
  {
   "cell_type": "code",
   "execution_count": 22,
   "id": "bulgarian-niagara",
   "metadata": {},
   "outputs": [
    {
     "data": {
      "text/plain": [
       "dict_keys(['l_exp', 'l_var', 'rec_A_exp', 'rec_A_var', 'rec_B_exp', 'rec_B_var', 'rec_C_exp', 'rec_C_var'])"
      ]
     },
     "execution_count": 22,
     "metadata": {},
     "output_type": "execute_result"
    }
   ],
   "source": [
    "test_orig = XctInfo(CellA, CellB, permute = False) #test for orig\n",
    "test_orig.keys()"
   ]
  },
  {
   "cell_type": "code",
   "execution_count": 23,
   "id": "owned-mailing",
   "metadata": {},
   "outputs": [
    {
     "data": {
      "text/html": [
       "<div>\n",
       "<style scoped>\n",
       "    .dataframe tbody tr th:only-of-type {\n",
       "        vertical-align: middle;\n",
       "    }\n",
       "\n",
       "    .dataframe tbody tr th {\n",
       "        vertical-align: top;\n",
       "    }\n",
       "\n",
       "    .dataframe thead th {\n",
       "        text-align: right;\n",
       "    }\n",
       "</style>\n",
       "<table border=\"1\" class=\"dataframe\">\n",
       "  <thead>\n",
       "    <tr style=\"text-align: right;\">\n",
       "      <th></th>\n",
       "      <th>l_exp</th>\n",
       "      <th>l_var</th>\n",
       "      <th>rec_A_exp</th>\n",
       "      <th>rec_A_var</th>\n",
       "      <th>rec_B_exp</th>\n",
       "      <th>rec_B_var</th>\n",
       "      <th>rec_C_exp</th>\n",
       "      <th>rec_C_var</th>\n",
       "    </tr>\n",
       "  </thead>\n",
       "  <tbody>\n",
       "    <tr>\n",
       "      <th>0</th>\n",
       "      <td>NaN</td>\n",
       "      <td>NaN</td>\n",
       "      <td>NaN</td>\n",
       "      <td>NaN</td>\n",
       "      <td>NaN</td>\n",
       "      <td>NaN</td>\n",
       "      <td>NaN</td>\n",
       "      <td>NaN</td>\n",
       "    </tr>\n",
       "    <tr>\n",
       "      <th>1</th>\n",
       "      <td>NaN</td>\n",
       "      <td>NaN</td>\n",
       "      <td>NaN</td>\n",
       "      <td>NaN</td>\n",
       "      <td>NaN</td>\n",
       "      <td>NaN</td>\n",
       "      <td>NaN</td>\n",
       "      <td>NaN</td>\n",
       "    </tr>\n",
       "    <tr>\n",
       "      <th>2</th>\n",
       "      <td>NaN</td>\n",
       "      <td>NaN</td>\n",
       "      <td>NaN</td>\n",
       "      <td>NaN</td>\n",
       "      <td>NaN</td>\n",
       "      <td>NaN</td>\n",
       "      <td>NaN</td>\n",
       "      <td>NaN</td>\n",
       "    </tr>\n",
       "    <tr>\n",
       "      <th>3</th>\n",
       "      <td>NaN</td>\n",
       "      <td>NaN</td>\n",
       "      <td>NaN</td>\n",
       "      <td>NaN</td>\n",
       "      <td>NaN</td>\n",
       "      <td>NaN</td>\n",
       "      <td>NaN</td>\n",
       "      <td>NaN</td>\n",
       "    </tr>\n",
       "    <tr>\n",
       "      <th>4</th>\n",
       "      <td>NaN</td>\n",
       "      <td>NaN</td>\n",
       "      <td>0.0</td>\n",
       "      <td>0.0</td>\n",
       "      <td>NaN</td>\n",
       "      <td>NaN</td>\n",
       "      <td>NaN</td>\n",
       "      <td>NaN</td>\n",
       "    </tr>\n",
       "  </tbody>\n",
       "</table>\n",
       "</div>"
      ],
      "text/plain": [
       "  l_exp l_var rec_A_exp rec_A_var rec_B_exp rec_B_var rec_C_exp rec_C_var\n",
       "0   NaN   NaN       NaN       NaN       NaN       NaN       NaN       NaN\n",
       "1   NaN   NaN       NaN       NaN       NaN       NaN       NaN       NaN\n",
       "2   NaN   NaN       NaN       NaN       NaN       NaN       NaN       NaN\n",
       "3   NaN   NaN       NaN       NaN       NaN       NaN       NaN       NaN\n",
       "4   NaN   NaN       0.0       0.0       NaN       NaN       NaN       NaN"
      ]
     },
     "execution_count": 23,
     "metadata": {},
     "output_type": "execute_result"
    }
   ],
   "source": [
    "pd.DataFrame.from_dict(test_orig).head() #test"
   ]
  },
  {
   "cell_type": "code",
   "execution_count": 24,
   "id": "spiritual-popularity",
   "metadata": {},
   "outputs": [
    {
     "name": "stdout",
     "output_type": "stream",
     "text": [
      "Selected 6 LR pairs\n"
     ]
    },
    {
     "data": {
      "text/html": [
       "<div>\n",
       "<style scoped>\n",
       "    .dataframe tbody tr th:only-of-type {\n",
       "        vertical-align: middle;\n",
       "    }\n",
       "\n",
       "    .dataframe tbody tr th {\n",
       "        vertical-align: top;\n",
       "    }\n",
       "\n",
       "    .dataframe thead th {\n",
       "        text-align: right;\n",
       "    }\n",
       "</style>\n",
       "<table border=\"1\" class=\"dataframe\">\n",
       "  <thead>\n",
       "    <tr style=\"text-align: right;\">\n",
       "      <th></th>\n",
       "      <th>pathway_name</th>\n",
       "      <th>ligand</th>\n",
       "      <th>rec_A</th>\n",
       "      <th>rec_B</th>\n",
       "      <th>rec_C</th>\n",
       "      <th>l_exp</th>\n",
       "      <th>l_var</th>\n",
       "      <th>rec_A_exp</th>\n",
       "      <th>rec_A_var</th>\n",
       "      <th>rec_B_exp</th>\n",
       "      <th>rec_B_var</th>\n",
       "      <th>rec_C_exp</th>\n",
       "      <th>rec_C_var</th>\n",
       "      <th>rec_exp</th>\n",
       "      <th>rec_var</th>\n",
       "    </tr>\n",
       "  </thead>\n",
       "  <tbody>\n",
       "    <tr>\n",
       "      <th>645</th>\n",
       "      <td>CCL</td>\n",
       "      <td>CCL19</td>\n",
       "      <td>CCR7</td>\n",
       "      <td>None</td>\n",
       "      <td>None</td>\n",
       "      <td>1.7382643</td>\n",
       "      <td>5.539186</td>\n",
       "      <td>1.6885129</td>\n",
       "      <td>1.9415792</td>\n",
       "      <td>NaN</td>\n",
       "      <td>NaN</td>\n",
       "      <td>NaN</td>\n",
       "      <td>NaN</td>\n",
       "      <td>1.688513</td>\n",
       "      <td>1.941579</td>\n",
       "    </tr>\n",
       "    <tr>\n",
       "      <th>646</th>\n",
       "      <td>CCL</td>\n",
       "      <td>CCL21</td>\n",
       "      <td>CCR7</td>\n",
       "      <td>None</td>\n",
       "      <td>None</td>\n",
       "      <td>0.05082678</td>\n",
       "      <td>0.100430116</td>\n",
       "      <td>1.6885129</td>\n",
       "      <td>1.9415792</td>\n",
       "      <td>NaN</td>\n",
       "      <td>NaN</td>\n",
       "      <td>NaN</td>\n",
       "      <td>NaN</td>\n",
       "      <td>1.688513</td>\n",
       "      <td>1.941579</td>\n",
       "    </tr>\n",
       "    <tr>\n",
       "      <th>711</th>\n",
       "      <td>CXCL</td>\n",
       "      <td>CXCL12</td>\n",
       "      <td>CXCR4</td>\n",
       "      <td>None</td>\n",
       "      <td>None</td>\n",
       "      <td>1.4257646</td>\n",
       "      <td>2.7257175</td>\n",
       "      <td>1.3560512</td>\n",
       "      <td>1.5149305</td>\n",
       "      <td>NaN</td>\n",
       "      <td>NaN</td>\n",
       "      <td>NaN</td>\n",
       "      <td>NaN</td>\n",
       "      <td>1.356051</td>\n",
       "      <td>1.514930</td>\n",
       "    </tr>\n",
       "    <tr>\n",
       "      <th>806</th>\n",
       "      <td>TNF</td>\n",
       "      <td>TNF</td>\n",
       "      <td>TNFRSF1B</td>\n",
       "      <td>None</td>\n",
       "      <td>None</td>\n",
       "      <td>0.0031172754</td>\n",
       "      <td>0.004693508</td>\n",
       "      <td>0.3725189</td>\n",
       "      <td>0.68993086</td>\n",
       "      <td>NaN</td>\n",
       "      <td>NaN</td>\n",
       "      <td>NaN</td>\n",
       "      <td>NaN</td>\n",
       "      <td>0.372519</td>\n",
       "      <td>0.689931</td>\n",
       "    </tr>\n",
       "    <tr>\n",
       "      <th>825</th>\n",
       "      <td>CD137</td>\n",
       "      <td>TNFSF9</td>\n",
       "      <td>TNFRSF9</td>\n",
       "      <td>None</td>\n",
       "      <td>None</td>\n",
       "      <td>0.0058077816</td>\n",
       "      <td>0.009628484</td>\n",
       "      <td>0.35003668</td>\n",
       "      <td>0.49893814</td>\n",
       "      <td>NaN</td>\n",
       "      <td>NaN</td>\n",
       "      <td>NaN</td>\n",
       "      <td>NaN</td>\n",
       "      <td>0.350037</td>\n",
       "      <td>0.498938</td>\n",
       "    </tr>\n",
       "  </tbody>\n",
       "</table>\n",
       "</div>"
      ],
      "text/plain": [
       "    pathway_name  ligand     rec_A rec_B rec_C         l_exp        l_var  \\\n",
       "645          CCL   CCL19      CCR7  None  None     1.7382643     5.539186   \n",
       "646          CCL   CCL21      CCR7  None  None    0.05082678  0.100430116   \n",
       "711         CXCL  CXCL12     CXCR4  None  None     1.4257646    2.7257175   \n",
       "806          TNF     TNF  TNFRSF1B  None  None  0.0031172754  0.004693508   \n",
       "825        CD137  TNFSF9   TNFRSF9  None  None  0.0058077816  0.009628484   \n",
       "\n",
       "      rec_A_exp   rec_A_var rec_B_exp rec_B_var rec_C_exp rec_C_var   rec_exp  \\\n",
       "645   1.6885129   1.9415792       NaN       NaN       NaN       NaN  1.688513   \n",
       "646   1.6885129   1.9415792       NaN       NaN       NaN       NaN  1.688513   \n",
       "711   1.3560512   1.5149305       NaN       NaN       NaN       NaN  1.356051   \n",
       "806   0.3725189  0.68993086       NaN       NaN       NaN       NaN  0.372519   \n",
       "825  0.35003668  0.49893814       NaN       NaN       NaN       NaN  0.350037   \n",
       "\n",
       "      rec_var  \n",
       "645  1.941579  \n",
       "646  1.941579  \n",
       "711  1.514930  \n",
       "806  0.689931  \n",
       "825  0.498938  "
      ]
     },
     "execution_count": 24,
     "metadata": {},
     "output_type": "execute_result"
    }
   ],
   "source": [
    "orig = XctSelection(test_orig, IsPmt = False, verbose = True)\n",
    "orig.head() #test"
   ]
  },
  {
   "cell_type": "code",
   "execution_count": 25,
   "id": "radio-return",
   "metadata": {},
   "outputs": [
    {
     "name": "stderr",
     "output_type": "stream",
     "text": [
      "Trying to set attribute `.obs` of view, copying.\n"
     ]
    },
    {
     "data": {
      "text/plain": [
       "dict_keys(['l_exp', 'l_var', 'rec_A_exp', 'rec_A_var', 'rec_B_exp', 'rec_B_var', 'rec_C_exp', 'rec_C_var'])"
      ]
     },
     "execution_count": 25,
     "metadata": {},
     "output_type": "execute_result"
    }
   ],
   "source": [
    "test = XctInfo(CellA, CellB, permute = True) #test for permute\n",
    "test.keys()"
   ]
  },
  {
   "cell_type": "code",
   "execution_count": 26,
   "id": "spatial-auction",
   "metadata": {},
   "outputs": [
    {
     "data": {
      "text/html": [
       "<div>\n",
       "<style scoped>\n",
       "    .dataframe tbody tr th:only-of-type {\n",
       "        vertical-align: middle;\n",
       "    }\n",
       "\n",
       "    .dataframe tbody tr th {\n",
       "        vertical-align: top;\n",
       "    }\n",
       "\n",
       "    .dataframe thead th {\n",
       "        text-align: right;\n",
       "    }\n",
       "</style>\n",
       "<table border=\"1\" class=\"dataframe\">\n",
       "  <thead>\n",
       "    <tr style=\"text-align: right;\">\n",
       "      <th></th>\n",
       "      <th>l_exp</th>\n",
       "      <th>l_var</th>\n",
       "      <th>rec_A_exp</th>\n",
       "      <th>rec_A_var</th>\n",
       "      <th>rec_B_exp</th>\n",
       "      <th>rec_B_var</th>\n",
       "      <th>rec_C_exp</th>\n",
       "      <th>rec_C_var</th>\n",
       "    </tr>\n",
       "  </thead>\n",
       "  <tbody>\n",
       "    <tr>\n",
       "      <th>0</th>\n",
       "      <td>NaN</td>\n",
       "      <td>NaN</td>\n",
       "      <td>NaN</td>\n",
       "      <td>NaN</td>\n",
       "      <td>NaN</td>\n",
       "      <td>NaN</td>\n",
       "      <td>NaN</td>\n",
       "      <td>NaN</td>\n",
       "    </tr>\n",
       "    <tr>\n",
       "      <th>1</th>\n",
       "      <td>NaN</td>\n",
       "      <td>NaN</td>\n",
       "      <td>NaN</td>\n",
       "      <td>NaN</td>\n",
       "      <td>NaN</td>\n",
       "      <td>NaN</td>\n",
       "      <td>NaN</td>\n",
       "      <td>NaN</td>\n",
       "    </tr>\n",
       "    <tr>\n",
       "      <th>2</th>\n",
       "      <td>NaN</td>\n",
       "      <td>NaN</td>\n",
       "      <td>NaN</td>\n",
       "      <td>NaN</td>\n",
       "      <td>NaN</td>\n",
       "      <td>NaN</td>\n",
       "      <td>NaN</td>\n",
       "      <td>NaN</td>\n",
       "    </tr>\n",
       "    <tr>\n",
       "      <th>3</th>\n",
       "      <td>NaN</td>\n",
       "      <td>NaN</td>\n",
       "      <td>NaN</td>\n",
       "      <td>NaN</td>\n",
       "      <td>NaN</td>\n",
       "      <td>NaN</td>\n",
       "      <td>NaN</td>\n",
       "      <td>NaN</td>\n",
       "    </tr>\n",
       "    <tr>\n",
       "      <th>4</th>\n",
       "      <td>NaN</td>\n",
       "      <td>NaN</td>\n",
       "      <td>0.0</td>\n",
       "      <td>0.0</td>\n",
       "      <td>NaN</td>\n",
       "      <td>NaN</td>\n",
       "      <td>NaN</td>\n",
       "      <td>NaN</td>\n",
       "    </tr>\n",
       "  </tbody>\n",
       "</table>\n",
       "</div>"
      ],
      "text/plain": [
       "  l_exp l_var rec_A_exp rec_A_var rec_B_exp rec_B_var rec_C_exp rec_C_var\n",
       "0   NaN   NaN       NaN       NaN       NaN       NaN       NaN       NaN\n",
       "1   NaN   NaN       NaN       NaN       NaN       NaN       NaN       NaN\n",
       "2   NaN   NaN       NaN       NaN       NaN       NaN       NaN       NaN\n",
       "3   NaN   NaN       NaN       NaN       NaN       NaN       NaN       NaN\n",
       "4   NaN   NaN       0.0       0.0       NaN       NaN       NaN       NaN"
      ]
     },
     "execution_count": 26,
     "metadata": {},
     "output_type": "execute_result"
    }
   ],
   "source": [
    "pd.DataFrame.from_dict(test).head() #test"
   ]
  },
  {
   "cell_type": "code",
   "execution_count": 27,
   "id": "instructional-multimedia",
   "metadata": {
    "scrolled": true
   },
   "outputs": [
    {
     "name": "stdout",
     "output_type": "stream",
     "text": [
      "Selected 128 LR pairs\n"
     ]
    },
    {
     "data": {
      "text/html": [
       "<div>\n",
       "<style scoped>\n",
       "    .dataframe tbody tr th:only-of-type {\n",
       "        vertical-align: middle;\n",
       "    }\n",
       "\n",
       "    .dataframe tbody tr th {\n",
       "        vertical-align: top;\n",
       "    }\n",
       "\n",
       "    .dataframe thead th {\n",
       "        text-align: right;\n",
       "    }\n",
       "</style>\n",
       "<table border=\"1\" class=\"dataframe\">\n",
       "  <thead>\n",
       "    <tr style=\"text-align: right;\">\n",
       "      <th></th>\n",
       "      <th>pathway_name</th>\n",
       "      <th>ligand</th>\n",
       "      <th>rec_A</th>\n",
       "      <th>rec_B</th>\n",
       "      <th>rec_C</th>\n",
       "      <th>l_exp</th>\n",
       "      <th>l_var</th>\n",
       "      <th>rec_A_exp</th>\n",
       "      <th>rec_A_var</th>\n",
       "      <th>rec_B_exp</th>\n",
       "      <th>rec_B_var</th>\n",
       "      <th>rec_C_exp</th>\n",
       "      <th>rec_C_var</th>\n",
       "      <th>rec_exp</th>\n",
       "      <th>rec_var</th>\n",
       "    </tr>\n",
       "  </thead>\n",
       "  <tbody>\n",
       "    <tr>\n",
       "      <th>155</th>\n",
       "      <td>WNT</td>\n",
       "      <td>WNT10A</td>\n",
       "      <td>FZD4</td>\n",
       "      <td>LRP5</td>\n",
       "      <td>None</td>\n",
       "      <td>0.0</td>\n",
       "      <td>0.0</td>\n",
       "      <td>0.06496386</td>\n",
       "      <td>0.18678427</td>\n",
       "      <td>NaN</td>\n",
       "      <td>NaN</td>\n",
       "      <td>NaN</td>\n",
       "      <td>NaN</td>\n",
       "      <td>0.064964</td>\n",
       "      <td>0.186784</td>\n",
       "    </tr>\n",
       "    <tr>\n",
       "      <th>205</th>\n",
       "      <td>WNT</td>\n",
       "      <td>WNT3</td>\n",
       "      <td>FZD4</td>\n",
       "      <td>LRP5</td>\n",
       "      <td>None</td>\n",
       "      <td>0.0</td>\n",
       "      <td>0.0</td>\n",
       "      <td>0.06496386</td>\n",
       "      <td>0.18678427</td>\n",
       "      <td>NaN</td>\n",
       "      <td>NaN</td>\n",
       "      <td>NaN</td>\n",
       "      <td>NaN</td>\n",
       "      <td>0.064964</td>\n",
       "      <td>0.186784</td>\n",
       "    </tr>\n",
       "    <tr>\n",
       "      <th>235</th>\n",
       "      <td>WNT</td>\n",
       "      <td>WNT6</td>\n",
       "      <td>FZD4</td>\n",
       "      <td>LRP5</td>\n",
       "      <td>None</td>\n",
       "      <td>0.0045207296</td>\n",
       "      <td>0.00987107</td>\n",
       "      <td>0.06496386</td>\n",
       "      <td>0.18678427</td>\n",
       "      <td>NaN</td>\n",
       "      <td>NaN</td>\n",
       "      <td>NaN</td>\n",
       "      <td>NaN</td>\n",
       "      <td>0.064964</td>\n",
       "      <td>0.186784</td>\n",
       "    </tr>\n",
       "    <tr>\n",
       "      <th>315</th>\n",
       "      <td>WNT</td>\n",
       "      <td>WNT10A</td>\n",
       "      <td>FZD4</td>\n",
       "      <td>LRP6</td>\n",
       "      <td>None</td>\n",
       "      <td>0.0</td>\n",
       "      <td>0.0</td>\n",
       "      <td>0.06496386</td>\n",
       "      <td>0.18678427</td>\n",
       "      <td>NaN</td>\n",
       "      <td>NaN</td>\n",
       "      <td>NaN</td>\n",
       "      <td>NaN</td>\n",
       "      <td>0.064964</td>\n",
       "      <td>0.186784</td>\n",
       "    </tr>\n",
       "    <tr>\n",
       "      <th>365</th>\n",
       "      <td>WNT</td>\n",
       "      <td>WNT3</td>\n",
       "      <td>FZD4</td>\n",
       "      <td>LRP6</td>\n",
       "      <td>None</td>\n",
       "      <td>0.0</td>\n",
       "      <td>0.0</td>\n",
       "      <td>0.06496386</td>\n",
       "      <td>0.18678427</td>\n",
       "      <td>NaN</td>\n",
       "      <td>NaN</td>\n",
       "      <td>NaN</td>\n",
       "      <td>NaN</td>\n",
       "      <td>0.064964</td>\n",
       "      <td>0.186784</td>\n",
       "    </tr>\n",
       "  </tbody>\n",
       "</table>\n",
       "</div>"
      ],
      "text/plain": [
       "    pathway_name  ligand rec_A rec_B rec_C         l_exp       l_var  \\\n",
       "155          WNT  WNT10A  FZD4  LRP5  None           0.0         0.0   \n",
       "205          WNT    WNT3  FZD4  LRP5  None           0.0         0.0   \n",
       "235          WNT    WNT6  FZD4  LRP5  None  0.0045207296  0.00987107   \n",
       "315          WNT  WNT10A  FZD4  LRP6  None           0.0         0.0   \n",
       "365          WNT    WNT3  FZD4  LRP6  None           0.0         0.0   \n",
       "\n",
       "      rec_A_exp   rec_A_var rec_B_exp rec_B_var rec_C_exp rec_C_var   rec_exp  \\\n",
       "155  0.06496386  0.18678427       NaN       NaN       NaN       NaN  0.064964   \n",
       "205  0.06496386  0.18678427       NaN       NaN       NaN       NaN  0.064964   \n",
       "235  0.06496386  0.18678427       NaN       NaN       NaN       NaN  0.064964   \n",
       "315  0.06496386  0.18678427       NaN       NaN       NaN       NaN  0.064964   \n",
       "365  0.06496386  0.18678427       NaN       NaN       NaN       NaN  0.064964   \n",
       "\n",
       "      rec_var  \n",
       "155  0.186784  \n",
       "205  0.186784  \n",
       "235  0.186784  \n",
       "315  0.186784  \n",
       "365  0.186784  "
      ]
     },
     "execution_count": 27,
     "metadata": {},
     "output_type": "execute_result"
    }
   ],
   "source": [
    "p = XctSelection(test, IsPmt = True, verbose = True)\n",
    "p.head() #test"
   ]
  },
  {
   "cell_type": "code",
   "execution_count": null,
   "id": "danish-sample",
   "metadata": {},
   "outputs": [],
   "source": []
  },
  {
   "cell_type": "markdown",
   "id": "known-toyota",
   "metadata": {},
   "source": [
    "### method1"
   ]
  },
  {
   "cell_type": "code",
   "execution_count": 28,
   "id": "trained-issue",
   "metadata": {},
   "outputs": [],
   "source": [
    "def XctScore1(LRs_Xct):\n",
    "    LRs_Xct['LR_score'] = LRs_Xct['l_exp'] * LRs_Xct['rec_exp']\n",
    "    \n",
    "    return LRs_Xct['LR_score'].to_numpy(dtype=float)\n"
   ]
  },
  {
   "cell_type": "code",
   "execution_count": 29,
   "id": "sporting-conclusion",
   "metadata": {},
   "outputs": [
    {
     "name": "stdout",
     "output_type": "stream",
     "text": [
      "Selected 6 LR pairs\n"
     ]
    }
   ],
   "source": [
    "LRs_Selected = XctSelection(XctInfo(CellA, CellB, permute = False), IsPmt = False, verbose = True) #selected original LR pairs\n",
    "orig_score = XctScore1(LRs_Selected)"
   ]
  },
  {
   "cell_type": "code",
   "execution_count": 30,
   "id": "fundamental-interim",
   "metadata": {},
   "outputs": [
    {
     "data": {
      "text/plain": [
       "array([2.93508177, 0.08582168])"
      ]
     },
     "execution_count": 30,
     "metadata": {},
     "output_type": "execute_result"
    }
   ],
   "source": [
    "orig_score[:2]"
   ]
  },
  {
   "cell_type": "code",
   "execution_count": 31,
   "id": "moderate-butter",
   "metadata": {},
   "outputs": [
    {
     "data": {
      "text/html": [
       "<div>\n",
       "<style scoped>\n",
       "    .dataframe tbody tr th:only-of-type {\n",
       "        vertical-align: middle;\n",
       "    }\n",
       "\n",
       "    .dataframe tbody tr th {\n",
       "        vertical-align: top;\n",
       "    }\n",
       "\n",
       "    .dataframe thead th {\n",
       "        text-align: right;\n",
       "    }\n",
       "</style>\n",
       "<table border=\"1\" class=\"dataframe\">\n",
       "  <thead>\n",
       "    <tr style=\"text-align: right;\">\n",
       "      <th></th>\n",
       "      <th>pathway_name</th>\n",
       "      <th>ligand</th>\n",
       "      <th>rec_A</th>\n",
       "      <th>rec_B</th>\n",
       "      <th>rec_C</th>\n",
       "      <th>l_exp</th>\n",
       "      <th>l_var</th>\n",
       "      <th>rec_A_exp</th>\n",
       "      <th>rec_A_var</th>\n",
       "      <th>rec_B_exp</th>\n",
       "      <th>rec_B_var</th>\n",
       "      <th>rec_C_exp</th>\n",
       "      <th>rec_C_var</th>\n",
       "      <th>rec_exp</th>\n",
       "      <th>rec_var</th>\n",
       "      <th>LR_score</th>\n",
       "    </tr>\n",
       "  </thead>\n",
       "  <tbody>\n",
       "    <tr>\n",
       "      <th>645</th>\n",
       "      <td>CCL</td>\n",
       "      <td>CCL19</td>\n",
       "      <td>CCR7</td>\n",
       "      <td>None</td>\n",
       "      <td>None</td>\n",
       "      <td>1.7382643</td>\n",
       "      <td>5.539186</td>\n",
       "      <td>1.6885129</td>\n",
       "      <td>1.9415792</td>\n",
       "      <td>NaN</td>\n",
       "      <td>NaN</td>\n",
       "      <td>NaN</td>\n",
       "      <td>NaN</td>\n",
       "      <td>1.688513</td>\n",
       "      <td>1.941579</td>\n",
       "      <td>2.9350817688639665</td>\n",
       "    </tr>\n",
       "    <tr>\n",
       "      <th>646</th>\n",
       "      <td>CCL</td>\n",
       "      <td>CCL21</td>\n",
       "      <td>CCR7</td>\n",
       "      <td>None</td>\n",
       "      <td>None</td>\n",
       "      <td>0.05082678</td>\n",
       "      <td>0.100430116</td>\n",
       "      <td>1.6885129</td>\n",
       "      <td>1.9415792</td>\n",
       "      <td>NaN</td>\n",
       "      <td>NaN</td>\n",
       "      <td>NaN</td>\n",
       "      <td>NaN</td>\n",
       "      <td>1.688513</td>\n",
       "      <td>1.941579</td>\n",
       "      <td>0.08582167562069198</td>\n",
       "    </tr>\n",
       "    <tr>\n",
       "      <th>711</th>\n",
       "      <td>CXCL</td>\n",
       "      <td>CXCL12</td>\n",
       "      <td>CXCR4</td>\n",
       "      <td>None</td>\n",
       "      <td>None</td>\n",
       "      <td>1.4257646</td>\n",
       "      <td>2.7257175</td>\n",
       "      <td>1.3560512</td>\n",
       "      <td>1.5149305</td>\n",
       "      <td>NaN</td>\n",
       "      <td>NaN</td>\n",
       "      <td>NaN</td>\n",
       "      <td>NaN</td>\n",
       "      <td>1.356051</td>\n",
       "      <td>1.514930</td>\n",
       "      <td>1.9334097528479788</td>\n",
       "    </tr>\n",
       "    <tr>\n",
       "      <th>806</th>\n",
       "      <td>TNF</td>\n",
       "      <td>TNF</td>\n",
       "      <td>TNFRSF1B</td>\n",
       "      <td>None</td>\n",
       "      <td>None</td>\n",
       "      <td>0.0031172754</td>\n",
       "      <td>0.004693508</td>\n",
       "      <td>0.3725189</td>\n",
       "      <td>0.68993086</td>\n",
       "      <td>NaN</td>\n",
       "      <td>NaN</td>\n",
       "      <td>NaN</td>\n",
       "      <td>NaN</td>\n",
       "      <td>0.372519</td>\n",
       "      <td>0.689931</td>\n",
       "      <td>0.0011612440028824222</td>\n",
       "    </tr>\n",
       "    <tr>\n",
       "      <th>825</th>\n",
       "      <td>CD137</td>\n",
       "      <td>TNFSF9</td>\n",
       "      <td>TNFRSF9</td>\n",
       "      <td>None</td>\n",
       "      <td>None</td>\n",
       "      <td>0.0058077816</td>\n",
       "      <td>0.009628484</td>\n",
       "      <td>0.35003668</td>\n",
       "      <td>0.49893814</td>\n",
       "      <td>NaN</td>\n",
       "      <td>NaN</td>\n",
       "      <td>NaN</td>\n",
       "      <td>NaN</td>\n",
       "      <td>0.350037</td>\n",
       "      <td>0.498938</td>\n",
       "      <td>0.0020329365906889274</td>\n",
       "    </tr>\n",
       "  </tbody>\n",
       "</table>\n",
       "</div>"
      ],
      "text/plain": [
       "    pathway_name  ligand     rec_A rec_B rec_C         l_exp        l_var  \\\n",
       "645          CCL   CCL19      CCR7  None  None     1.7382643     5.539186   \n",
       "646          CCL   CCL21      CCR7  None  None    0.05082678  0.100430116   \n",
       "711         CXCL  CXCL12     CXCR4  None  None     1.4257646    2.7257175   \n",
       "806          TNF     TNF  TNFRSF1B  None  None  0.0031172754  0.004693508   \n",
       "825        CD137  TNFSF9   TNFRSF9  None  None  0.0058077816  0.009628484   \n",
       "\n",
       "      rec_A_exp   rec_A_var rec_B_exp rec_B_var rec_C_exp rec_C_var   rec_exp  \\\n",
       "645   1.6885129   1.9415792       NaN       NaN       NaN       NaN  1.688513   \n",
       "646   1.6885129   1.9415792       NaN       NaN       NaN       NaN  1.688513   \n",
       "711   1.3560512   1.5149305       NaN       NaN       NaN       NaN  1.356051   \n",
       "806   0.3725189  0.68993086       NaN       NaN       NaN       NaN  0.372519   \n",
       "825  0.35003668  0.49893814       NaN       NaN       NaN       NaN  0.350037   \n",
       "\n",
       "      rec_var               LR_score  \n",
       "645  1.941579     2.9350817688639665  \n",
       "646  1.941579    0.08582167562069198  \n",
       "711  1.514930     1.9334097528479788  \n",
       "806  0.689931  0.0011612440028824222  \n",
       "825  0.498938  0.0020329365906889274  "
      ]
     },
     "execution_count": 31,
     "metadata": {},
     "output_type": "execute_result"
    }
   ],
   "source": [
    "LRs_Selected.head()"
   ]
  },
  {
   "cell_type": "code",
   "execution_count": 32,
   "id": "blank-cookbook",
   "metadata": {},
   "outputs": [],
   "source": [
    "def XctScores(CellA, CellB, LRs, func, n=100): #func: score method, permute n times\n",
    "    scores = []\n",
    "    for _ in range(n):\n",
    "        p = XctSelection(XctInfo(CellA, CellB, permute = True), IsPmt = True, verbose = False)\n",
    "        scores.append(func(p.loc[list(set(p.index) & set(LRs.index))])) #filter\n",
    "\n",
    "\n",
    "    assert all(len(i) == len(orig_score) for i in scores) #check if equal len of selected LR pairs\n",
    "    return np.array(scores).T  #transpose for further looping"
   ]
  },
  {
   "cell_type": "code",
   "execution_count": null,
   "id": "interracial-crash",
   "metadata": {},
   "outputs": [],
   "source": []
  },
  {
   "cell_type": "code",
   "execution_count": 33,
   "id": "portable-update",
   "metadata": {
    "scrolled": true
   },
   "outputs": [
    {
     "name": "stderr",
     "output_type": "stream",
     "text": [
      "Trying to set attribute `.obs` of view, copying.\n",
      "Trying to set attribute `.obs` of view, copying.\n",
      "Trying to set attribute `.obs` of view, copying.\n",
      "Trying to set attribute `.obs` of view, copying.\n",
      "Trying to set attribute `.obs` of view, copying.\n",
      "Trying to set attribute `.obs` of view, copying.\n",
      "Trying to set attribute `.obs` of view, copying.\n",
      "Trying to set attribute `.obs` of view, copying.\n",
      "Trying to set attribute `.obs` of view, copying.\n",
      "Trying to set attribute `.obs` of view, copying.\n",
      "Trying to set attribute `.obs` of view, copying.\n",
      "Trying to set attribute `.obs` of view, copying.\n",
      "Trying to set attribute `.obs` of view, copying.\n",
      "Trying to set attribute `.obs` of view, copying.\n",
      "Trying to set attribute `.obs` of view, copying.\n",
      "Trying to set attribute `.obs` of view, copying.\n",
      "Trying to set attribute `.obs` of view, copying.\n",
      "Trying to set attribute `.obs` of view, copying.\n",
      "Trying to set attribute `.obs` of view, copying.\n",
      "Trying to set attribute `.obs` of view, copying.\n",
      "Trying to set attribute `.obs` of view, copying.\n",
      "Trying to set attribute `.obs` of view, copying.\n",
      "Trying to set attribute `.obs` of view, copying.\n",
      "Trying to set attribute `.obs` of view, copying.\n",
      "Trying to set attribute `.obs` of view, copying.\n",
      "Trying to set attribute `.obs` of view, copying.\n",
      "Trying to set attribute `.obs` of view, copying.\n",
      "Trying to set attribute `.obs` of view, copying.\n",
      "Trying to set attribute `.obs` of view, copying.\n",
      "Trying to set attribute `.obs` of view, copying.\n",
      "Trying to set attribute `.obs` of view, copying.\n",
      "Trying to set attribute `.obs` of view, copying.\n",
      "Trying to set attribute `.obs` of view, copying.\n",
      "Trying to set attribute `.obs` of view, copying.\n",
      "Trying to set attribute `.obs` of view, copying.\n",
      "Trying to set attribute `.obs` of view, copying.\n",
      "Trying to set attribute `.obs` of view, copying.\n",
      "Trying to set attribute `.obs` of view, copying.\n",
      "Trying to set attribute `.obs` of view, copying.\n",
      "Trying to set attribute `.obs` of view, copying.\n",
      "Trying to set attribute `.obs` of view, copying.\n",
      "Trying to set attribute `.obs` of view, copying.\n",
      "Trying to set attribute `.obs` of view, copying.\n",
      "Trying to set attribute `.obs` of view, copying.\n",
      "Trying to set attribute `.obs` of view, copying.\n",
      "Trying to set attribute `.obs` of view, copying.\n",
      "Trying to set attribute `.obs` of view, copying.\n",
      "Trying to set attribute `.obs` of view, copying.\n",
      "Trying to set attribute `.obs` of view, copying.\n",
      "Trying to set attribute `.obs` of view, copying.\n",
      "Trying to set attribute `.obs` of view, copying.\n",
      "Trying to set attribute `.obs` of view, copying.\n",
      "Trying to set attribute `.obs` of view, copying.\n",
      "Trying to set attribute `.obs` of view, copying.\n",
      "Trying to set attribute `.obs` of view, copying.\n",
      "Trying to set attribute `.obs` of view, copying.\n",
      "Trying to set attribute `.obs` of view, copying.\n",
      "Trying to set attribute `.obs` of view, copying.\n",
      "Trying to set attribute `.obs` of view, copying.\n",
      "Trying to set attribute `.obs` of view, copying.\n",
      "Trying to set attribute `.obs` of view, copying.\n",
      "Trying to set attribute `.obs` of view, copying.\n",
      "Trying to set attribute `.obs` of view, copying.\n",
      "Trying to set attribute `.obs` of view, copying.\n",
      "Trying to set attribute `.obs` of view, copying.\n",
      "Trying to set attribute `.obs` of view, copying.\n",
      "Trying to set attribute `.obs` of view, copying.\n",
      "Trying to set attribute `.obs` of view, copying.\n",
      "Trying to set attribute `.obs` of view, copying.\n",
      "Trying to set attribute `.obs` of view, copying.\n",
      "Trying to set attribute `.obs` of view, copying.\n",
      "Trying to set attribute `.obs` of view, copying.\n",
      "Trying to set attribute `.obs` of view, copying.\n",
      "Trying to set attribute `.obs` of view, copying.\n",
      "Trying to set attribute `.obs` of view, copying.\n",
      "Trying to set attribute `.obs` of view, copying.\n",
      "Trying to set attribute `.obs` of view, copying.\n",
      "Trying to set attribute `.obs` of view, copying.\n",
      "Trying to set attribute `.obs` of view, copying.\n",
      "Trying to set attribute `.obs` of view, copying.\n",
      "Trying to set attribute `.obs` of view, copying.\n",
      "Trying to set attribute `.obs` of view, copying.\n",
      "Trying to set attribute `.obs` of view, copying.\n",
      "Trying to set attribute `.obs` of view, copying.\n",
      "Trying to set attribute `.obs` of view, copying.\n",
      "Trying to set attribute `.obs` of view, copying.\n",
      "Trying to set attribute `.obs` of view, copying.\n",
      "Trying to set attribute `.obs` of view, copying.\n",
      "Trying to set attribute `.obs` of view, copying.\n",
      "Trying to set attribute `.obs` of view, copying.\n",
      "Trying to set attribute `.obs` of view, copying.\n",
      "Trying to set attribute `.obs` of view, copying.\n",
      "Trying to set attribute `.obs` of view, copying.\n",
      "Trying to set attribute `.obs` of view, copying.\n",
      "Trying to set attribute `.obs` of view, copying.\n",
      "Trying to set attribute `.obs` of view, copying.\n",
      "Trying to set attribute `.obs` of view, copying.\n",
      "Trying to set attribute `.obs` of view, copying.\n",
      "Trying to set attribute `.obs` of view, copying.\n",
      "Trying to set attribute `.obs` of view, copying.\n"
     ]
    }
   ],
   "source": [
    "scores = XctScores(CellA, CellB, LRs_Selected, XctScore1, n=100)"
   ]
  },
  {
   "cell_type": "code",
   "execution_count": 34,
   "id": "isolated-basement",
   "metadata": {},
   "outputs": [
    {
     "data": {
      "text/plain": [
       "((6, 100), 6)"
      ]
     },
     "execution_count": 34,
     "metadata": {},
     "output_type": "execute_result"
    }
   ],
   "source": [
    "scores.shape, len(scores)"
   ]
  },
  {
   "cell_type": "code",
   "execution_count": 35,
   "id": "engaging-dealer",
   "metadata": {},
   "outputs": [],
   "source": [
    "def Xct_PermuTest(orig_score, scores, p = 0.05):\n",
    "    enriched_i = []\n",
    "    pvals = []\n",
    "    counts = []\n",
    "    for i, dist in enumerate(scores):\n",
    "        count = sum(orig_score[i] > value for value in dist)\n",
    "        pval = 1- count/len(dist)\n",
    "        pvals.append(pval)\n",
    "        counts.append(count)\n",
    "        \n",
    "        if pval < p:\n",
    "            enriched_i.append(i)\n",
    "            pvals.append(pval)\n",
    "            counts.append(count)\n",
    "    \n",
    "    return enriched_i, pvals, counts"
   ]
  },
  {
   "cell_type": "code",
   "execution_count": 36,
   "id": "relevant-anchor",
   "metadata": {},
   "outputs": [],
   "source": [
    "enriched, pvals, counts = Xct_PermuTest(orig_score, scores)\n",
    "#enriched, counts"
   ]
  },
  {
   "cell_type": "code",
   "execution_count": 37,
   "id": "defined-report",
   "metadata": {},
   "outputs": [
    {
     "data": {
      "text/html": [
       "<div>\n",
       "<style scoped>\n",
       "    .dataframe tbody tr th:only-of-type {\n",
       "        vertical-align: middle;\n",
       "    }\n",
       "\n",
       "    .dataframe tbody tr th {\n",
       "        vertical-align: top;\n",
       "    }\n",
       "\n",
       "    .dataframe thead th {\n",
       "        text-align: right;\n",
       "    }\n",
       "</style>\n",
       "<table border=\"1\" class=\"dataframe\">\n",
       "  <thead>\n",
       "    <tr style=\"text-align: right;\">\n",
       "      <th></th>\n",
       "      <th>pathway_name</th>\n",
       "      <th>ligand</th>\n",
       "      <th>rec_A</th>\n",
       "      <th>rec_B</th>\n",
       "      <th>rec_C</th>\n",
       "      <th>l_exp</th>\n",
       "      <th>l_var</th>\n",
       "      <th>rec_A_exp</th>\n",
       "      <th>rec_A_var</th>\n",
       "      <th>rec_B_exp</th>\n",
       "      <th>rec_B_var</th>\n",
       "      <th>rec_C_exp</th>\n",
       "      <th>rec_C_var</th>\n",
       "      <th>rec_exp</th>\n",
       "      <th>rec_var</th>\n",
       "      <th>LR_score</th>\n",
       "    </tr>\n",
       "  </thead>\n",
       "  <tbody>\n",
       "    <tr>\n",
       "      <th>645</th>\n",
       "      <td>CCL</td>\n",
       "      <td>CCL19</td>\n",
       "      <td>CCR7</td>\n",
       "      <td>None</td>\n",
       "      <td>None</td>\n",
       "      <td>1.7382643</td>\n",
       "      <td>5.539186</td>\n",
       "      <td>1.6885129</td>\n",
       "      <td>1.9415792</td>\n",
       "      <td>NaN</td>\n",
       "      <td>NaN</td>\n",
       "      <td>NaN</td>\n",
       "      <td>NaN</td>\n",
       "      <td>1.688513</td>\n",
       "      <td>1.941579</td>\n",
       "      <td>2.9350817688639665</td>\n",
       "    </tr>\n",
       "    <tr>\n",
       "      <th>646</th>\n",
       "      <td>CCL</td>\n",
       "      <td>CCL21</td>\n",
       "      <td>CCR7</td>\n",
       "      <td>None</td>\n",
       "      <td>None</td>\n",
       "      <td>0.05082678</td>\n",
       "      <td>0.100430116</td>\n",
       "      <td>1.6885129</td>\n",
       "      <td>1.9415792</td>\n",
       "      <td>NaN</td>\n",
       "      <td>NaN</td>\n",
       "      <td>NaN</td>\n",
       "      <td>NaN</td>\n",
       "      <td>1.688513</td>\n",
       "      <td>1.941579</td>\n",
       "      <td>0.08582167562069198</td>\n",
       "    </tr>\n",
       "    <tr>\n",
       "      <th>711</th>\n",
       "      <td>CXCL</td>\n",
       "      <td>CXCL12</td>\n",
       "      <td>CXCR4</td>\n",
       "      <td>None</td>\n",
       "      <td>None</td>\n",
       "      <td>1.4257646</td>\n",
       "      <td>2.7257175</td>\n",
       "      <td>1.3560512</td>\n",
       "      <td>1.5149305</td>\n",
       "      <td>NaN</td>\n",
       "      <td>NaN</td>\n",
       "      <td>NaN</td>\n",
       "      <td>NaN</td>\n",
       "      <td>1.356051</td>\n",
       "      <td>1.514930</td>\n",
       "      <td>1.9334097528479788</td>\n",
       "    </tr>\n",
       "  </tbody>\n",
       "</table>\n",
       "</div>"
      ],
      "text/plain": [
       "    pathway_name  ligand  rec_A rec_B rec_C       l_exp        l_var  \\\n",
       "645          CCL   CCL19   CCR7  None  None   1.7382643     5.539186   \n",
       "646          CCL   CCL21   CCR7  None  None  0.05082678  0.100430116   \n",
       "711         CXCL  CXCL12  CXCR4  None  None   1.4257646    2.7257175   \n",
       "\n",
       "     rec_A_exp  rec_A_var rec_B_exp rec_B_var rec_C_exp rec_C_var   rec_exp  \\\n",
       "645  1.6885129  1.9415792       NaN       NaN       NaN       NaN  1.688513   \n",
       "646  1.6885129  1.9415792       NaN       NaN       NaN       NaN  1.688513   \n",
       "711  1.3560512  1.5149305       NaN       NaN       NaN       NaN  1.356051   \n",
       "\n",
       "      rec_var             LR_score  \n",
       "645  1.941579   2.9350817688639665  \n",
       "646  1.941579  0.08582167562069198  \n",
       "711  1.514930   1.9334097528479788  "
      ]
     },
     "execution_count": 37,
     "metadata": {},
     "output_type": "execute_result"
    }
   ],
   "source": [
    "LRs_Enriched = LRs_Selected.iloc[enriched, :]\n",
    "LRs_Enriched"
   ]
  },
  {
   "cell_type": "code",
   "execution_count": 38,
   "id": "suited-butler",
   "metadata": {},
   "outputs": [
    {
     "data": {
      "text/plain": [
       "[100, 100, 100, 100, 100, 100, 0, 0, 56]"
      ]
     },
     "execution_count": 38,
     "metadata": {},
     "output_type": "execute_result"
    }
   ],
   "source": [
    "counts"
   ]
  },
  {
   "cell_type": "code",
   "execution_count": 39,
   "id": "reported-cooper",
   "metadata": {},
   "outputs": [
    {
     "data": {
      "text/plain": [
       "array([[0.28285561, 0.29793743, 0.34620394, 0.47846359, 0.28616869,\n",
       "        0.3586173 , 0.33972719, 0.29342256, 0.28376545, 0.14981923,\n",
       "        0.55449736, 0.56106932, 0.3967899 , 0.15256736, 0.4810571 ,\n",
       "        0.42183641, 0.20679134, 0.61814773, 0.50484451, 0.35693493,\n",
       "        0.47482424, 0.21972386, 0.48026819, 0.30569885, 0.3050429 ,\n",
       "        0.41690217, 0.39620812, 0.51394715, 0.31138571, 0.26570825,\n",
       "        0.21754844, 0.26702459, 0.34753525, 0.27127638, 0.11682346,\n",
       "        0.50948173, 0.30433537, 0.36321872, 0.46629034, 0.2894327 ,\n",
       "        0.163694  , 0.14447624, 0.20527402, 0.48390448, 0.12569115,\n",
       "        0.3876295 , 0.48920915, 0.22811473, 0.47106578, 0.25618483,\n",
       "        0.30585608, 0.1268712 , 0.34140171, 0.22215701, 0.40605542,\n",
       "        0.44998847, 0.1627509 , 0.33070501, 0.65830204, 0.41952363,\n",
       "        0.34706127, 0.27284052, 0.49158037, 0.5548214 , 0.36554949,\n",
       "        0.34092157, 0.43555444, 0.40427204, 0.49187287, 0.18720522,\n",
       "        0.65449895, 0.39669427, 0.29244053, 0.63826707, 0.4680539 ,\n",
       "        0.61343107, 0.32717848, 0.3320711 , 0.54220134, 0.56663447,\n",
       "        0.20552536, 0.49680451, 0.70542002, 0.54810691, 0.24428135,\n",
       "        0.39486668, 0.5233774 , 0.23176863, 0.22977024, 0.43856712,\n",
       "        0.33173092, 0.31126583, 0.30436291, 0.36623344, 0.30433141,\n",
       "        0.46760626, 0.37067998, 0.66526532, 0.36989921, 0.66395492],\n",
       "       [0.00820046, 0.0090503 , 0.00877293, 0.01546863, 0.00923256,\n",
       "        0.01039451, 0.00921978, 0.00915778, 0.00798283, 0.0044942 ,\n",
       "        0.01802886, 0.01504715, 0.01077956, 0.00466804, 0.01276565,\n",
       "        0.01111047, 0.00587276, 0.01916478, 0.01382224, 0.00881576,\n",
       "        0.01144872, 0.00626726, 0.01260397, 0.00764834, 0.0079479 ,\n",
       "        0.01226259, 0.01238803, 0.01439071, 0.01027325, 0.00617092,\n",
       "        0.00745872, 0.00770645, 0.01130395, 0.0089676 , 0.00301228,\n",
       "        0.0144138 , 0.00660284, 0.0091006 , 0.01421608, 0.00977997,\n",
       "        0.00519328, 0.00416159, 0.0060942 , 0.01645474, 0.00375133,\n",
       "        0.01098536, 0.01296832, 0.00614914, 0.0134863 , 0.00678925,\n",
       "        0.00864624, 0.0023616 , 0.00815922, 0.0069507 , 0.01068098,\n",
       "        0.01331912, 0.00520808, 0.01000214, 0.01812123, 0.00773155,\n",
       "        0.00954918, 0.00644002, 0.0139898 , 0.01573157, 0.01070802,\n",
       "        0.00878962, 0.01073043, 0.01081069, 0.01296169, 0.00467141,\n",
       "        0.02010663, 0.01277072, 0.00890374, 0.02084288, 0.01417943,\n",
       "        0.01322883, 0.00980333, 0.01043852, 0.01463936, 0.01606473,\n",
       "        0.00611577, 0.01304616, 0.02019598, 0.01398888, 0.0067142 ,\n",
       "        0.01317745, 0.01539849, 0.0053633 , 0.00660038, 0.0126844 ,\n",
       "        0.00868676, 0.00958538, 0.00929011, 0.01074787, 0.00920363,\n",
       "        0.01507325, 0.01131471, 0.01967918, 0.01087821, 0.01860712]])"
      ]
     },
     "execution_count": 39,
     "metadata": {},
     "output_type": "execute_result"
    }
   ],
   "source": [
    "scores[:2]"
   ]
  },
  {
   "cell_type": "code",
   "execution_count": 40,
   "id": "according-antique",
   "metadata": {},
   "outputs": [
    {
     "data": {
      "text/plain": [
       "pathway_name                   CCL\n",
       "ligand                       CCL19\n",
       "rec_A                         CCR7\n",
       "rec_B                         None\n",
       "rec_C                         None\n",
       "l_exp                    1.7382643\n",
       "l_var                     5.539186\n",
       "rec_A_exp                1.6885129\n",
       "rec_A_var                1.9415792\n",
       "rec_B_exp                      NaN\n",
       "rec_B_var                      NaN\n",
       "rec_C_exp                      NaN\n",
       "rec_C_var                      NaN\n",
       "rec_exp                   1.688513\n",
       "rec_var                   1.941579\n",
       "LR_score        2.9350817688639665\n",
       "Name: 645, dtype: object"
      ]
     },
     "execution_count": 40,
     "metadata": {},
     "output_type": "execute_result"
    }
   ],
   "source": [
    "LRs_Selected.iloc[0]"
   ]
  },
  {
   "cell_type": "code",
   "execution_count": 41,
   "id": "pleasant-syndicate",
   "metadata": {},
   "outputs": [],
   "source": [
    "def vis(orig_score, scores, i, LRs = LRs_Selected, density = False): #index i in LRs_Selected\n",
    "    print('LR pair: {} - {}'.format(LRs.iloc[i]['ligand'], LRs.iloc[i]['rec_A']))\n",
    "    plt.hist(scores[i], density = density)\n",
    "    plt.axvline(x = orig_score[i], color = 'r')\n",
    "    plt.show()"
   ]
  },
  {
   "cell_type": "code",
   "execution_count": 42,
   "id": "particular-california",
   "metadata": {},
   "outputs": [
    {
     "name": "stdout",
     "output_type": "stream",
     "text": [
      "LR pair: CCL19 - CCR7\n"
     ]
    },
    {
     "data": {
      "image/png": "[encoded data removed]",
      "text/plain": [
       "<Figure size 432x288 with 1 Axes>"
      ]
     },
     "metadata": {
      "needs_background": "light"
     },
     "output_type": "display_data"
    }
   ],
   "source": [
    "vis(orig_score, scores, 0, density = False)"
   ]
  },
  {
   "cell_type": "markdown",
   "id": "centered-category",
   "metadata": {},
   "source": [
    "### method2"
   ]
  },
  {
   "cell_type": "code",
   "execution_count": 43,
   "id": "directed-klein",
   "metadata": {},
   "outputs": [],
   "source": [
    "def XctScore2(LRs_Xct):\n",
    "    LRs_Xct['LR_score2'] = (LRs_Xct['l_exp']**2 + LRs_Xct['l_var']) * (LRs_Xct['rec_exp']**2 + LRs_Xct['rec_var'])\n",
    "    \n",
    "    return LRs_Xct['LR_score2'].to_numpy(dtype=float)"
   ]
  },
  {
   "cell_type": "code",
   "execution_count": 44,
   "id": "processed-leadership",
   "metadata": {},
   "outputs": [],
   "source": [
    "orig_score2 = XctScore2(LRs_Selected)"
   ]
  },
  {
   "cell_type": "code",
   "execution_count": 45,
   "id": "featured-explorer",
   "metadata": {},
   "outputs": [
    {
     "data": {
      "text/plain": [
       "array([41.02871768,  0.49370807])"
      ]
     },
     "execution_count": 45,
     "metadata": {},
     "output_type": "execute_result"
    }
   ],
   "source": [
    "orig_score2[:2]"
   ]
  },
  {
   "cell_type": "code",
   "execution_count": 46,
   "id": "promising-blair",
   "metadata": {
    "scrolled": true
   },
   "outputs": [
    {
     "name": "stderr",
     "output_type": "stream",
     "text": [
      "Trying to set attribute `.obs` of view, copying.\n",
      "Trying to set attribute `.obs` of view, copying.\n",
      "Trying to set attribute `.obs` of view, copying.\n",
      "Trying to set attribute `.obs` of view, copying.\n",
      "Trying to set attribute `.obs` of view, copying.\n",
      "Trying to set attribute `.obs` of view, copying.\n",
      "Trying to set attribute `.obs` of view, copying.\n",
      "Trying to set attribute `.obs` of view, copying.\n",
      "Trying to set attribute `.obs` of view, copying.\n",
      "Trying to set attribute `.obs` of view, copying.\n",
      "Trying to set attribute `.obs` of view, copying.\n",
      "Trying to set attribute `.obs` of view, copying.\n",
      "Trying to set attribute `.obs` of view, copying.\n",
      "Trying to set attribute `.obs` of view, copying.\n",
      "Trying to set attribute `.obs` of view, copying.\n",
      "Trying to set attribute `.obs` of view, copying.\n",
      "Trying to set attribute `.obs` of view, copying.\n",
      "Trying to set attribute `.obs` of view, copying.\n",
      "Trying to set attribute `.obs` of view, copying.\n",
      "Trying to set attribute `.obs` of view, copying.\n",
      "Trying to set attribute `.obs` of view, copying.\n",
      "Trying to set attribute `.obs` of view, copying.\n",
      "Trying to set attribute `.obs` of view, copying.\n",
      "Trying to set attribute `.obs` of view, copying.\n",
      "Trying to set attribute `.obs` of view, copying.\n",
      "Trying to set attribute `.obs` of view, copying.\n",
      "Trying to set attribute `.obs` of view, copying.\n",
      "Trying to set attribute `.obs` of view, copying.\n",
      "Trying to set attribute `.obs` of view, copying.\n",
      "Trying to set attribute `.obs` of view, copying.\n",
      "Trying to set attribute `.obs` of view, copying.\n",
      "Trying to set attribute `.obs` of view, copying.\n",
      "Trying to set attribute `.obs` of view, copying.\n",
      "Trying to set attribute `.obs` of view, copying.\n",
      "Trying to set attribute `.obs` of view, copying.\n",
      "Trying to set attribute `.obs` of view, copying.\n",
      "Trying to set attribute `.obs` of view, copying.\n",
      "Trying to set attribute `.obs` of view, copying.\n",
      "Trying to set attribute `.obs` of view, copying.\n",
      "Trying to set attribute `.obs` of view, copying.\n",
      "Trying to set attribute `.obs` of view, copying.\n",
      "Trying to set attribute `.obs` of view, copying.\n",
      "Trying to set attribute `.obs` of view, copying.\n",
      "Trying to set attribute `.obs` of view, copying.\n",
      "Trying to set attribute `.obs` of view, copying.\n",
      "Trying to set attribute `.obs` of view, copying.\n",
      "Trying to set attribute `.obs` of view, copying.\n",
      "Trying to set attribute `.obs` of view, copying.\n",
      "Trying to set attribute `.obs` of view, copying.\n",
      "Trying to set attribute `.obs` of view, copying.\n",
      "Trying to set attribute `.obs` of view, copying.\n",
      "Trying to set attribute `.obs` of view, copying.\n",
      "Trying to set attribute `.obs` of view, copying.\n",
      "Trying to set attribute `.obs` of view, copying.\n",
      "Trying to set attribute `.obs` of view, copying.\n",
      "Trying to set attribute `.obs` of view, copying.\n",
      "Trying to set attribute `.obs` of view, copying.\n",
      "Trying to set attribute `.obs` of view, copying.\n",
      "Trying to set attribute `.obs` of view, copying.\n",
      "Trying to set attribute `.obs` of view, copying.\n",
      "Trying to set attribute `.obs` of view, copying.\n",
      "Trying to set attribute `.obs` of view, copying.\n",
      "Trying to set attribute `.obs` of view, copying.\n",
      "Trying to set attribute `.obs` of view, copying.\n",
      "Trying to set attribute `.obs` of view, copying.\n",
      "Trying to set attribute `.obs` of view, copying.\n",
      "Trying to set attribute `.obs` of view, copying.\n",
      "Trying to set attribute `.obs` of view, copying.\n",
      "Trying to set attribute `.obs` of view, copying.\n",
      "Trying to set attribute `.obs` of view, copying.\n",
      "Trying to set attribute `.obs` of view, copying.\n",
      "Trying to set attribute `.obs` of view, copying.\n",
      "Trying to set attribute `.obs` of view, copying.\n",
      "Trying to set attribute `.obs` of view, copying.\n",
      "Trying to set attribute `.obs` of view, copying.\n",
      "Trying to set attribute `.obs` of view, copying.\n",
      "Trying to set attribute `.obs` of view, copying.\n",
      "Trying to set attribute `.obs` of view, copying.\n",
      "Trying to set attribute `.obs` of view, copying.\n",
      "Trying to set attribute `.obs` of view, copying.\n",
      "Trying to set attribute `.obs` of view, copying.\n",
      "Trying to set attribute `.obs` of view, copying.\n",
      "Trying to set attribute `.obs` of view, copying.\n",
      "Trying to set attribute `.obs` of view, copying.\n",
      "Trying to set attribute `.obs` of view, copying.\n",
      "Trying to set attribute `.obs` of view, copying.\n",
      "Trying to set attribute `.obs` of view, copying.\n",
      "Trying to set attribute `.obs` of view, copying.\n",
      "Trying to set attribute `.obs` of view, copying.\n",
      "Trying to set attribute `.obs` of view, copying.\n",
      "Trying to set attribute `.obs` of view, copying.\n",
      "Trying to set attribute `.obs` of view, copying.\n",
      "Trying to set attribute `.obs` of view, copying.\n",
      "Trying to set attribute `.obs` of view, copying.\n",
      "Trying to set attribute `.obs` of view, copying.\n",
      "Trying to set attribute `.obs` of view, copying.\n",
      "Trying to set attribute `.obs` of view, copying.\n",
      "Trying to set attribute `.obs` of view, copying.\n",
      "Trying to set attribute `.obs` of view, copying.\n",
      "Trying to set attribute `.obs` of view, copying.\n"
     ]
    }
   ],
   "source": [
    "scores2 = XctScores(CellA, CellB, LRs_Selected, XctScore2, n=100)"
   ]
  },
  {
   "cell_type": "code",
   "execution_count": 47,
   "id": "narrative-bulletin",
   "metadata": {},
   "outputs": [
    {
     "data": {
      "text/plain": [
       "array([[2.37047283e+00, 5.12376170e+00, 7.78940449e+00, 3.25983191e+00,\n",
       "        4.80518133e+00, 7.84842207e+00, 5.64341819e+00, 1.07093496e+01,\n",
       "        5.55224535e+00, 3.68578855e+00, 1.27711251e+00, 5.02148652e+00,\n",
       "        2.31632762e+00, 4.73285847e+00, 5.96587419e+00, 6.15265264e+00,\n",
       "        4.58444184e+00, 4.03973822e+00, 3.26477779e+00, 6.02557452e+00,\n",
       "        6.18985953e+00, 3.91807094e+00, 3.93739653e+00, 3.95267739e+00,\n",
       "        5.18240565e+00, 4.48209117e+00, 3.55719046e+00, 7.09156668e+00,\n",
       "        5.46118729e+00, 3.17567366e+00, 5.93063195e+00, 5.03118915e+00,\n",
       "        6.21789470e+00, 2.68998015e+00, 5.33114763e+00, 3.01969058e+00,\n",
       "        5.71437263e+00, 3.94423830e+00, 4.76152286e+00, 3.50962665e+00,\n",
       "        4.54713014e+00, 4.97211046e+00, 6.86399398e+00, 5.66732600e+00,\n",
       "        6.19211634e+00, 2.88845561e+00, 5.62088142e+00, 6.36829667e+00,\n",
       "        4.37416817e+00, 6.16620074e+00, 5.71052821e+00, 4.24498192e+00,\n",
       "        2.98764695e+00, 5.58083326e+00, 3.82195609e+00, 1.44670381e+00,\n",
       "        5.60695130e+00, 3.78193209e+00, 6.17067952e+00, 4.40413923e+00,\n",
       "        4.75093129e+00, 5.33190869e+00, 8.33032686e+00, 6.08879298e+00,\n",
       "        7.30110829e+00, 4.56351077e+00, 4.48292850e+00, 6.92007701e+00,\n",
       "        5.69668477e+00, 2.02874626e+00, 5.85839697e+00, 4.26833072e+00,\n",
       "        7.13277580e+00, 3.36174871e+00, 7.91965140e-01, 5.12028549e+00,\n",
       "        7.88836465e+00, 4.44411581e+00, 5.90647791e+00, 1.07613651e+01,\n",
       "        4.35851797e+00, 4.47947628e+00, 5.09723747e+00, 2.98133031e+00,\n",
       "        6.13800072e+00, 4.52561953e+00, 5.40284762e+00, 3.13876603e+00,\n",
       "        6.46000636e+00, 2.30104463e+00, 2.90082162e+00, 4.35739024e+00,\n",
       "        7.56759602e+00, 7.27683373e+00, 7.32013773e+00, 4.97221670e+00,\n",
       "        5.15204217e+00, 5.50161238e+00, 2.92251714e+00, 1.04881993e+00],\n",
       "       [3.24017678e-02, 5.01212950e-02, 9.08507644e-02, 3.97555734e-02,\n",
       "        5.21737229e-02, 9.27479050e-02, 6.54688979e-02, 1.40930314e-01,\n",
       "        6.58165328e-02, 5.03724222e-02, 1.55976454e-02, 5.57075566e-02,\n",
       "        2.41648512e-02, 3.80719962e-02, 6.92812496e-02, 7.37621265e-02,\n",
       "        4.82663388e-02, 3.83892566e-02, 4.35496533e-02, 6.47498344e-02,\n",
       "        7.14527701e-02, 4.56760200e-02, 4.99558102e-02, 4.66538779e-02,\n",
       "        6.75440623e-02, 4.37043105e-02, 3.87986984e-02, 8.32483512e-02,\n",
       "        7.18326453e-02, 3.77780181e-02, 6.22238013e-02, 6.50255359e-02,\n",
       "        6.75201159e-02, 3.45837324e-02, 5.36914996e-02, 3.50823837e-02,\n",
       "        6.76999185e-02, 4.83321991e-02, 6.18851130e-02, 4.84098765e-02,\n",
       "        5.69987099e-02, 5.60993668e-02, 8.90566270e-02, 6.81390660e-02,\n",
       "        8.30958549e-02, 3.66329805e-02, 6.60347783e-02, 8.09341163e-02,\n",
       "        4.75569121e-02, 7.37655338e-02, 6.52522179e-02, 4.94202054e-02,\n",
       "        3.61799377e-02, 6.74047332e-02, 4.04046477e-02, 1.77098822e-02,\n",
       "        5.95592302e-02, 5.23594994e-02, 7.45304643e-02, 3.16114698e-02,\n",
       "        4.91155612e-02, 6.90760246e-02, 9.52358852e-02, 7.89758759e-02,\n",
       "        9.58842277e-02, 5.73466762e-02, 6.01175597e-02, 8.68075177e-02,\n",
       "        7.38958379e-02, 2.22566908e-02, 7.62747710e-02, 5.47577096e-02,\n",
       "        9.11290524e-02, 4.25011533e-02, 8.99144390e-03, 6.52338665e-02,\n",
       "        9.86931819e-02, 6.22982112e-02, 7.82092736e-02, 1.45656353e-01,\n",
       "        4.58692142e-02, 5.07795145e-02, 5.21466882e-02, 3.12750774e-02,\n",
       "        8.45874382e-02, 5.68397635e-02, 6.08412133e-02, 4.03567938e-02,\n",
       "        9.05178647e-02, 2.49728804e-02, 3.47610866e-02, 5.42656012e-02,\n",
       "        8.98065965e-02, 6.37344070e-02, 8.91741171e-02, 5.19422040e-02,\n",
       "        6.10092714e-02, 7.65149018e-02, 3.96573600e-02, 1.31338848e-02]])"
      ]
     },
     "execution_count": 47,
     "metadata": {},
     "output_type": "execute_result"
    }
   ],
   "source": [
    "scores2[:2]"
   ]
  },
  {
   "cell_type": "code",
   "execution_count": 48,
   "id": "neural-found",
   "metadata": {},
   "outputs": [
    {
     "data": {
      "text/html": [
       "<div>\n",
       "<style scoped>\n",
       "    .dataframe tbody tr th:only-of-type {\n",
       "        vertical-align: middle;\n",
       "    }\n",
       "\n",
       "    .dataframe tbody tr th {\n",
       "        vertical-align: top;\n",
       "    }\n",
       "\n",
       "    .dataframe thead th {\n",
       "        text-align: right;\n",
       "    }\n",
       "</style>\n",
       "<table border=\"1\" class=\"dataframe\">\n",
       "  <thead>\n",
       "    <tr style=\"text-align: right;\">\n",
       "      <th></th>\n",
       "      <th>pathway_name</th>\n",
       "      <th>ligand</th>\n",
       "      <th>rec_A</th>\n",
       "      <th>rec_B</th>\n",
       "      <th>rec_C</th>\n",
       "      <th>l_exp</th>\n",
       "      <th>l_var</th>\n",
       "      <th>rec_A_exp</th>\n",
       "      <th>rec_A_var</th>\n",
       "      <th>rec_B_exp</th>\n",
       "      <th>rec_B_var</th>\n",
       "      <th>rec_C_exp</th>\n",
       "      <th>rec_C_var</th>\n",
       "      <th>rec_exp</th>\n",
       "      <th>rec_var</th>\n",
       "      <th>LR_score</th>\n",
       "      <th>LR_score2</th>\n",
       "    </tr>\n",
       "  </thead>\n",
       "  <tbody>\n",
       "    <tr>\n",
       "      <th>645</th>\n",
       "      <td>CCL</td>\n",
       "      <td>CCL19</td>\n",
       "      <td>CCR7</td>\n",
       "      <td>None</td>\n",
       "      <td>None</td>\n",
       "      <td>1.7382643</td>\n",
       "      <td>5.539186</td>\n",
       "      <td>1.6885129</td>\n",
       "      <td>1.9415792</td>\n",
       "      <td>NaN</td>\n",
       "      <td>NaN</td>\n",
       "      <td>NaN</td>\n",
       "      <td>NaN</td>\n",
       "      <td>1.688513</td>\n",
       "      <td>1.941579</td>\n",
       "      <td>2.9350817688639665</td>\n",
       "      <td>41.02871768335936</td>\n",
       "    </tr>\n",
       "    <tr>\n",
       "      <th>646</th>\n",
       "      <td>CCL</td>\n",
       "      <td>CCL21</td>\n",
       "      <td>CCR7</td>\n",
       "      <td>None</td>\n",
       "      <td>None</td>\n",
       "      <td>0.05082678</td>\n",
       "      <td>0.100430116</td>\n",
       "      <td>1.6885129</td>\n",
       "      <td>1.9415792</td>\n",
       "      <td>NaN</td>\n",
       "      <td>NaN</td>\n",
       "      <td>NaN</td>\n",
       "      <td>NaN</td>\n",
       "      <td>1.688513</td>\n",
       "      <td>1.941579</td>\n",
       "      <td>0.08582167562069198</td>\n",
       "      <td>0.4937080726010155</td>\n",
       "    </tr>\n",
       "    <tr>\n",
       "      <th>711</th>\n",
       "      <td>CXCL</td>\n",
       "      <td>CXCL12</td>\n",
       "      <td>CXCR4</td>\n",
       "      <td>None</td>\n",
       "      <td>None</td>\n",
       "      <td>1.4257646</td>\n",
       "      <td>2.7257175</td>\n",
       "      <td>1.3560512</td>\n",
       "      <td>1.5149305</td>\n",
       "      <td>NaN</td>\n",
       "      <td>NaN</td>\n",
       "      <td>NaN</td>\n",
       "      <td>NaN</td>\n",
       "      <td>1.356051</td>\n",
       "      <td>1.514930</td>\n",
       "      <td>1.9334097528479788</td>\n",
       "      <td>15.959156709742594</td>\n",
       "    </tr>\n",
       "  </tbody>\n",
       "</table>\n",
       "</div>"
      ],
      "text/plain": [
       "    pathway_name  ligand  rec_A rec_B rec_C       l_exp        l_var  \\\n",
       "645          CCL   CCL19   CCR7  None  None   1.7382643     5.539186   \n",
       "646          CCL   CCL21   CCR7  None  None  0.05082678  0.100430116   \n",
       "711         CXCL  CXCL12  CXCR4  None  None   1.4257646    2.7257175   \n",
       "\n",
       "     rec_A_exp  rec_A_var rec_B_exp rec_B_var rec_C_exp rec_C_var   rec_exp  \\\n",
       "645  1.6885129  1.9415792       NaN       NaN       NaN       NaN  1.688513   \n",
       "646  1.6885129  1.9415792       NaN       NaN       NaN       NaN  1.688513   \n",
       "711  1.3560512  1.5149305       NaN       NaN       NaN       NaN  1.356051   \n",
       "\n",
       "      rec_var             LR_score           LR_score2  \n",
       "645  1.941579   2.9350817688639665   41.02871768335936  \n",
       "646  1.941579  0.08582167562069198  0.4937080726010155  \n",
       "711  1.514930   1.9334097528479788  15.959156709742594  "
      ]
     },
     "execution_count": 48,
     "metadata": {},
     "output_type": "execute_result"
    }
   ],
   "source": [
    "enriched, pvals, counts = Xct_PermuTest(orig_score2, scores2)\n",
    "LRs_Enriched2 = LRs_Selected.iloc[enriched, :]\n",
    "LRs_Enriched2"
   ]
  },
  {
   "cell_type": "code",
   "execution_count": 49,
   "id": "rotary-organ",
   "metadata": {},
   "outputs": [
    {
     "data": {
      "text/plain": [
       "[100, 100, 100, 100, 100, 100, 6, 0, 95]"
      ]
     },
     "execution_count": 49,
     "metadata": {},
     "output_type": "execute_result"
    }
   ],
   "source": [
    "counts"
   ]
  },
  {
   "cell_type": "code",
   "execution_count": 50,
   "id": "broad-development",
   "metadata": {},
   "outputs": [
    {
     "name": "stdout",
     "output_type": "stream",
     "text": [
      "LR pair: CCL19 - CCR7\n"
     ]
    },
    {
     "data": {
      "image/png": "[encoded data removed]",
      "text/plain": [
       "<Figure size 432x288 with 1 Axes>"
      ]
     },
     "metadata": {
      "needs_background": "light"
     },
     "output_type": "display_data"
    }
   ],
   "source": [
    "vis(orig_score2, scores2, 0)"
   ]
  },
  {
   "cell_type": "markdown",
   "id": "starting-county",
   "metadata": {},
   "source": [
    "### method 3"
   ]
  },
  {
   "cell_type": "code",
   "execution_count": 51,
   "id": "alternate-combine",
   "metadata": {},
   "outputs": [],
   "source": [
    "def XctScore3(LRs_Xct, k = 0.5):\n",
    "    t = ((LRs_Xct['l_exp']**2 + LRs_Xct['l_var']) + (LRs_Xct['rec_exp']**2 + LRs_Xct['rec_var']).to_numpy(dtype=float))**(1/2)\n",
    "    LRs_Xct['LR_score3'] = t / (k + t)\n",
    "    \n",
    "    return LRs_Xct['LR_score3'].to_numpy(dtype=float)"
   ]
  },
  {
   "cell_type": "code",
   "execution_count": 52,
   "id": "compliant-crisis",
   "metadata": {},
   "outputs": [],
   "source": [
    "orig_score3 = XctScore3(LRs_Selected)"
   ]
  },
  {
   "cell_type": "code",
   "execution_count": 53,
   "id": "monetary-ownership",
   "metadata": {},
   "outputs": [
    {
     "data": {
      "text/plain": [
       "array([0.87964078, 0.81567607])"
      ]
     },
     "execution_count": 53,
     "metadata": {},
     "output_type": "execute_result"
    }
   ],
   "source": [
    "orig_score3[:2]"
   ]
  },
  {
   "cell_type": "code",
   "execution_count": 54,
   "id": "double-landscape",
   "metadata": {
    "scrolled": true
   },
   "outputs": [
    {
     "name": "stderr",
     "output_type": "stream",
     "text": [
      "Trying to set attribute `.obs` of view, copying.\n",
      "Trying to set attribute `.obs` of view, copying.\n",
      "Trying to set attribute `.obs` of view, copying.\n",
      "Trying to set attribute `.obs` of view, copying.\n",
      "Trying to set attribute `.obs` of view, copying.\n",
      "Trying to set attribute `.obs` of view, copying.\n",
      "Trying to set attribute `.obs` of view, copying.\n",
      "Trying to set attribute `.obs` of view, copying.\n",
      "Trying to set attribute `.obs` of view, copying.\n",
      "Trying to set attribute `.obs` of view, copying.\n"
     ]
    }
   ],
   "source": [
    "scores3 = XctScores(CellA, CellB, LRs_Selected, XctScore3, n=10)"
   ]
  },
  {
   "cell_type": "code",
   "execution_count": 55,
   "id": "blocked-review",
   "metadata": {},
   "outputs": [
    {
     "data": {
      "text/plain": [
       "array([[0.84688756, 0.84831895, 0.84609442, 0.85616825, 0.8517506 ,\n",
       "        0.85100092, 0.84689269, 0.85273897, 0.85248347, 0.85184249],\n",
       "       [0.5611068 , 0.59258881, 0.57959016, 0.69898005, 0.62343941,\n",
       "        0.64571628, 0.60046229, 0.65970229, 0.66060952, 0.64184122]])"
      ]
     },
     "execution_count": 55,
     "metadata": {},
     "output_type": "execute_result"
    }
   ],
   "source": [
    "scores3[:2]"
   ]
  },
  {
   "cell_type": "code",
   "execution_count": 56,
   "id": "developing-steel",
   "metadata": {},
   "outputs": [
    {
     "data": {
      "text/html": [
       "<div>\n",
       "<style scoped>\n",
       "    .dataframe tbody tr th:only-of-type {\n",
       "        vertical-align: middle;\n",
       "    }\n",
       "\n",
       "    .dataframe tbody tr th {\n",
       "        vertical-align: top;\n",
       "    }\n",
       "\n",
       "    .dataframe thead th {\n",
       "        text-align: right;\n",
       "    }\n",
       "</style>\n",
       "<table border=\"1\" class=\"dataframe\">\n",
       "  <thead>\n",
       "    <tr style=\"text-align: right;\">\n",
       "      <th></th>\n",
       "      <th>pathway_name</th>\n",
       "      <th>ligand</th>\n",
       "      <th>rec_A</th>\n",
       "      <th>rec_B</th>\n",
       "      <th>rec_C</th>\n",
       "      <th>l_exp</th>\n",
       "      <th>l_var</th>\n",
       "      <th>rec_A_exp</th>\n",
       "      <th>rec_A_var</th>\n",
       "      <th>rec_B_exp</th>\n",
       "      <th>rec_B_var</th>\n",
       "      <th>rec_C_exp</th>\n",
       "      <th>rec_C_var</th>\n",
       "      <th>rec_exp</th>\n",
       "      <th>rec_var</th>\n",
       "      <th>LR_score</th>\n",
       "      <th>LR_score2</th>\n",
       "      <th>LR_score3</th>\n",
       "    </tr>\n",
       "  </thead>\n",
       "  <tbody>\n",
       "    <tr>\n",
       "      <th>645</th>\n",
       "      <td>CCL</td>\n",
       "      <td>CCL19</td>\n",
       "      <td>CCR7</td>\n",
       "      <td>None</td>\n",
       "      <td>None</td>\n",
       "      <td>1.7382643</td>\n",
       "      <td>5.539186</td>\n",
       "      <td>1.6885129</td>\n",
       "      <td>1.9415792</td>\n",
       "      <td>NaN</td>\n",
       "      <td>NaN</td>\n",
       "      <td>NaN</td>\n",
       "      <td>NaN</td>\n",
       "      <td>1.688513</td>\n",
       "      <td>1.941579</td>\n",
       "      <td>2.9350817688639665</td>\n",
       "      <td>41.02871768335936</td>\n",
       "      <td>0.8796407805329439</td>\n",
       "    </tr>\n",
       "    <tr>\n",
       "      <th>646</th>\n",
       "      <td>CCL</td>\n",
       "      <td>CCL21</td>\n",
       "      <td>CCR7</td>\n",
       "      <td>None</td>\n",
       "      <td>None</td>\n",
       "      <td>0.05082678</td>\n",
       "      <td>0.100430116</td>\n",
       "      <td>1.6885129</td>\n",
       "      <td>1.9415792</td>\n",
       "      <td>NaN</td>\n",
       "      <td>NaN</td>\n",
       "      <td>NaN</td>\n",
       "      <td>NaN</td>\n",
       "      <td>1.688513</td>\n",
       "      <td>1.941579</td>\n",
       "      <td>0.08582167562069198</td>\n",
       "      <td>0.4937080726010155</td>\n",
       "      <td>0.8156760703701089</td>\n",
       "    </tr>\n",
       "    <tr>\n",
       "      <th>711</th>\n",
       "      <td>CXCL</td>\n",
       "      <td>CXCL12</td>\n",
       "      <td>CXCR4</td>\n",
       "      <td>None</td>\n",
       "      <td>None</td>\n",
       "      <td>1.4257646</td>\n",
       "      <td>2.7257175</td>\n",
       "      <td>1.3560512</td>\n",
       "      <td>1.5149305</td>\n",
       "      <td>NaN</td>\n",
       "      <td>NaN</td>\n",
       "      <td>NaN</td>\n",
       "      <td>NaN</td>\n",
       "      <td>1.356051</td>\n",
       "      <td>1.514930</td>\n",
       "      <td>1.9334097528479788</td>\n",
       "      <td>15.959156709742594</td>\n",
       "      <td>0.8506666884166839</td>\n",
       "    </tr>\n",
       "    <tr>\n",
       "      <th>806</th>\n",
       "      <td>TNF</td>\n",
       "      <td>TNF</td>\n",
       "      <td>TNFRSF1B</td>\n",
       "      <td>None</td>\n",
       "      <td>None</td>\n",
       "      <td>0.0031172754</td>\n",
       "      <td>0.004693508</td>\n",
       "      <td>0.3725189</td>\n",
       "      <td>0.68993086</td>\n",
       "      <td>NaN</td>\n",
       "      <td>NaN</td>\n",
       "      <td>NaN</td>\n",
       "      <td>NaN</td>\n",
       "      <td>0.372519</td>\n",
       "      <td>0.689931</td>\n",
       "      <td>0.0011612440028824222</td>\n",
       "      <td>0.0038975686009642455</td>\n",
       "      <td>0.6461203828016918</td>\n",
       "    </tr>\n",
       "  </tbody>\n",
       "</table>\n",
       "</div>"
      ],
      "text/plain": [
       "    pathway_name  ligand     rec_A rec_B rec_C         l_exp        l_var  \\\n",
       "645          CCL   CCL19      CCR7  None  None     1.7382643     5.539186   \n",
       "646          CCL   CCL21      CCR7  None  None    0.05082678  0.100430116   \n",
       "711         CXCL  CXCL12     CXCR4  None  None     1.4257646    2.7257175   \n",
       "806          TNF     TNF  TNFRSF1B  None  None  0.0031172754  0.004693508   \n",
       "\n",
       "     rec_A_exp   rec_A_var rec_B_exp rec_B_var rec_C_exp rec_C_var   rec_exp  \\\n",
       "645  1.6885129   1.9415792       NaN       NaN       NaN       NaN  1.688513   \n",
       "646  1.6885129   1.9415792       NaN       NaN       NaN       NaN  1.688513   \n",
       "711  1.3560512   1.5149305       NaN       NaN       NaN       NaN  1.356051   \n",
       "806  0.3725189  0.68993086       NaN       NaN       NaN       NaN  0.372519   \n",
       "\n",
       "      rec_var               LR_score              LR_score2  \\\n",
       "645  1.941579     2.9350817688639665      41.02871768335936   \n",
       "646  1.941579    0.08582167562069198     0.4937080726010155   \n",
       "711  1.514930     1.9334097528479788     15.959156709742594   \n",
       "806  0.689931  0.0011612440028824222  0.0038975686009642455   \n",
       "\n",
       "              LR_score3  \n",
       "645  0.8796407805329439  \n",
       "646  0.8156760703701089  \n",
       "711  0.8506666884166839  \n",
       "806  0.6461203828016918  "
      ]
     },
     "execution_count": 56,
     "metadata": {},
     "output_type": "execute_result"
    }
   ],
   "source": [
    "enriched, pvals, counts = Xct_PermuTest(orig_score3, scores3)\n",
    "LRs_Enriched3 = LRs_Selected.iloc[enriched, :]\n",
    "LRs_Enriched3"
   ]
  },
  {
   "cell_type": "code",
   "execution_count": 57,
   "id": "incomplete-architecture",
   "metadata": {},
   "outputs": [
    {
     "data": {
      "text/plain": [
       "[10, 10, 10, 10, 10, 10, 10, 10, 0, 8]"
      ]
     },
     "execution_count": 57,
     "metadata": {},
     "output_type": "execute_result"
    }
   ],
   "source": [
    "counts"
   ]
  },
  {
   "cell_type": "code",
   "execution_count": 58,
   "id": "pretty-chemistry",
   "metadata": {},
   "outputs": [
    {
     "name": "stdout",
     "output_type": "stream",
     "text": [
      "LR pair: CCL19 - CCR7\n"
     ]
    },
    {
     "data": {
      "image/png": "[encoded data removed]",
      "text/plain": [
       "<Figure size 432x288 with 1 Axes>"
      ]
     },
     "metadata": {
      "needs_background": "light"
     },
     "output_type": "display_data"
    }
   ],
   "source": [
    "vis(orig_score3, scores3, 0)"
   ]
  },
  {
   "cell_type": "code",
   "execution_count": null,
   "id": "australian-system",
   "metadata": {},
   "outputs": [],
   "source": []
  }
 ],
 "metadata": {
  "kernelspec": {
   "display_name": "Python 3",
   "language": "python",
   "name": "python3"
  },
  "language_info": {
   "codemirror_mode": {
    "name": "ipython",
    "version": 3
   },
   "file_extension": ".py",
   "mimetype": "text/x-python",
   "name": "python",
   "nbconvert_exporter": "python",
   "pygments_lexer": "ipython3",
   "version": "3.8.5"
  }
 },
 "nbformat": 4,
 "nbformat_minor": 5
}
