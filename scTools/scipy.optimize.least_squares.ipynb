{
 "cells": [
  {
   "cell_type": "code",
   "execution_count": 1,
   "id": "friendly-prompt",
   "metadata": {},
   "outputs": [],
   "source": [
    "import numpy as np\n",
    "from scipy.optimize import least_squares\n",
    "import matplotlib.pyplot as plt"
   ]
  },
  {
   "cell_type": "code",
   "execution_count": 2,
   "id": "intermediate-mississippi",
   "metadata": {},
   "outputs": [],
   "source": [
    "def generate_data(t, A, sigma, omega, noise=0, n_outliers=0, random_state=0):\n",
    "    y = A * np.exp(-sigma * t) * np.sin(omega * t)\n",
    "    rnd = np.random.RandomState(random_state)\n",
    "    error = noise * rnd.randn(t.size)\n",
    "    outliers = rnd.randint(0, t.size, n_outliers)\n",
    "    error[outliers] *= 35\n",
    "    return y + error"
   ]
  },
  {
   "cell_type": "code",
   "execution_count": 3,
   "id": "eastern-cosmetic",
   "metadata": {},
   "outputs": [
    {
     "data": {
      "image/png": "[encoded data removed]",
      "text/plain": [
       "<Figure size 432x288 with 1 Axes>"
      ]
     },
     "metadata": {
      "needs_background": "light"
     },
     "output_type": "display_data"
    }
   ],
   "source": [
    "A = 2\n",
    "sigma = 0.1\n",
    "omega = 0.1 * 2 * np.pi\n",
    "x_true = np.array([A, sigma, omega])\n",
    "\n",
    "noise = 0.1\n",
    "\n",
    "t_min = 0\n",
    "t_max = 30\n",
    "\n",
    "t_train = np.linspace(t_min, t_max, 30)\n",
    "y_train = generate_data(t_train, A, sigma, omega, noise=noise, n_outliers=4)\n",
    "\n",
    "plt.scatter(t_train, y_train, s=3)\n",
    "plt.show()"
   ]
  },
  {
   "cell_type": "code",
   "execution_count": 4,
   "id": "piano-spray",
   "metadata": {},
   "outputs": [
    {
     "data": {
      "text/plain": [
       "array([2.17468132, 0.10381258, 0.62766599])"
      ]
     },
     "execution_count": 4,
     "metadata": {},
     "output_type": "execute_result"
    }
   ],
   "source": [
    "def residual(coeff, t, y):\n",
    "    return coeff[0] * np.exp(-coeff[1] * t) * np.sin(coeff[2] * t) - y\n",
    "\n",
    "x0 = np.ones(3) # initial guess for coeff\n",
    "\n",
    "res_robust = least_squares(residual, x0, loss='soft_l1', f_scale=0.1, args=(t_train, y_train))\n",
    "res_robust.x"
   ]
  },
  {
   "cell_type": "markdown",
   "id": "competitive-pennsylvania",
   "metadata": {},
   "source": [
    "https://docs.scipy.org/doc/scipy/reference/generated/scipy.optimize.least_squares.html"
   ]
  },
  {
   "cell_type": "code",
   "execution_count": 5,
   "id": "executed-miniature",
   "metadata": {},
   "outputs": [
    {
     "data": {
      "image/png": "[encoded data removed]",
      "text/plain": [
       "<Figure size 432x288 with 1 Axes>"
      ]
     },
     "metadata": {
      "needs_background": "light"
     },
     "output_type": "display_data"
    }
   ],
   "source": [
    "y_predict = generate_data(t_train, *res_robust.x)\n",
    "\n",
    "plt.scatter(t_train, y_train, s=3)\n",
    "plt.plot(t_train, y_predict, label = 'robust lsq', c = 'r')\n",
    "\n",
    "plt.legend()\n",
    "plt.show()"
   ]
  },
  {
   "cell_type": "code",
   "execution_count": null,
   "id": "sound-pipeline",
   "metadata": {},
   "outputs": [],
   "source": []
  }
 ],
 "metadata": {
  "kernelspec": {
   "display_name": "Python 3",
   "language": "python",
   "name": "python3"
  },
  "language_info": {
   "codemirror_mode": {
    "name": "ipython",
    "version": 3
   },
   "file_extension": ".py",
   "mimetype": "text/x-python",
   "name": "python",
   "nbconvert_exporter": "python",
   "pygments_lexer": "ipython3",
   "version": "3.8.5"
  }
 },
 "nbformat": 4,
 "nbformat_minor": 5
}
